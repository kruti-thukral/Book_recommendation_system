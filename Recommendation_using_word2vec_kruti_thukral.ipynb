{
  "nbformat": 4,
  "nbformat_minor": 0,
  "metadata": {
    "colab": {
      "name": "Recommendation_using_word2vec_kruti_thukral.ipynb",
      "provenance": [],
      "collapsed_sections": []
    },
    "kernelspec": {
      "name": "python3",
      "display_name": "Python 3"
    }
  },
  "cells": [
    {
      "cell_type": "markdown",
      "metadata": {
        "id": "eYfwCdlrKIDi",
        "colab_type": "text"
      },
      "source": [
        "### Recommendation using Word2Vec\n",
        "By Kruti Thukral (012586041)\n",
        "\n",
        "With large-scale heterogenous data being generated on a daily basis,there is a need to improvise the conventional recommenation systems. I wanted to explore the application of models proven in NLP in recommendation systems. Below is an implementation of book recommendations using word embeddings. \n",
        "\n",
        "Reference paper:\n",
        "M. Ozsoy, \"From Word Embeddings to Item Recommendation,\" arXiv.Org, 2016\n",
        "\n",
        "Reference code snippet: \n",
        "https://www.analyticsvidhya.com/blog/2019/07/how-to-build-recommendation-system-word2vec-python/\n",
        "\n",
        "Problem statement: Given a book, the system should recommend other books to the reader.\n",
        "\n",
        "1.   \n",
        "To solve the above problem , I will use reading pattern of all the readers and create word embeddings. These embeddings will help in recommending other books.\n",
        "2. Above problem can be also solved using content-based recommendation and finding similar book using cosine similarity.\n",
        "3. Compare both the solutions using evaluation metrics to conclude which alogrithm performs better\n",
        "\n",
        "\n",
        "\n",
        "\n",
        "\n"
      ]
    },
    {
      "cell_type": "markdown",
      "metadata": {
        "id": "tsLYh_1wRFcY",
        "colab_type": "text"
      },
      "source": [
        "Import needed libraries"
      ]
    },
    {
      "cell_type": "code",
      "metadata": {
        "id": "xgCqze5FurbW",
        "colab_type": "code",
        "colab": {}
      },
      "source": [
        "import sys\n",
        "import pandas as pd\n",
        "import gdown\n",
        "import os\n",
        "from gensim.models import Word2Vec \n",
        "import matplotlib.pyplot as plt\n",
        "%matplotlib inline\n",
        "\n",
        "import warnings;\n",
        "warnings.filterwarnings('ignore')"
      ],
      "execution_count": 0,
      "outputs": []
    },
    {
      "cell_type": "markdown",
      "metadata": {
        "id": "SFJgu6M1RL_v",
        "colab_type": "text"
      },
      "source": [
        "Mount google drive to access the pre-processed integrated dataset\n"
      ]
    },
    {
      "cell_type": "code",
      "metadata": {
        "id": "c2BxTbrlvtdP",
        "colab_type": "code",
        "outputId": "ff9b860d-e3e2-42a5-bb0e-432980eb34ab",
        "colab": {
          "base_uri": "https://localhost:8080/",
          "height": 34
        }
      },
      "source": [
        "from google.colab import drive\n",
        "drive.mount('/content/drive', force_remount=True)"
      ],
      "execution_count": 0,
      "outputs": [
        {
          "output_type": "stream",
          "text": [
            "Mounted at /content/drive\n"
          ],
          "name": "stdout"
        }
      ]
    },
    {
      "cell_type": "markdown",
      "metadata": {
        "id": "6pcTw_LNRf5p",
        "colab_type": "text"
      },
      "source": [
        "Load integrated dataset"
      ]
    },
    {
      "cell_type": "code",
      "metadata": {
        "id": "gQdM__hPvqPa",
        "colab_type": "code",
        "colab": {}
      },
      "source": [
        "df=pd.read_csv('/content/drive/Shared drives/Project_256/Complete_Data_new.gz', compression=\"gzip\")"
      ],
      "execution_count": 0,
      "outputs": []
    },
    {
      "cell_type": "markdown",
      "metadata": {
        "id": "FzHG1NtURxbW",
        "colab_type": "text"
      },
      "source": [
        "Our integrated dataset is around 7.3 million"
      ]
    },
    {
      "cell_type": "code",
      "metadata": {
        "id": "osBW6Ur4lHak",
        "colab_type": "code",
        "outputId": "c3873b15-407a-4c18-d0ff-4db63c60aeb7",
        "colab": {
          "base_uri": "https://localhost:8080/",
          "height": 34
        }
      },
      "source": [
        "len(df)"
      ],
      "execution_count": 0,
      "outputs": [
        {
          "output_type": "execute_result",
          "data": {
            "text/plain": [
              "7347630"
            ]
          },
          "metadata": {
            "tags": []
          },
          "execution_count": 8
        }
      ]
    },
    {
      "cell_type": "code",
      "metadata": {
        "id": "Ch3JFAt_xpCq",
        "colab_type": "code",
        "outputId": "339e0198-9498-446c-8c68-1243cf988646",
        "colab": {
          "base_uri": "https://localhost:8080/",
          "height": 581
        }
      },
      "source": [
        "df.head()"
      ],
      "execution_count": 0,
      "outputs": [
        {
          "output_type": "execute_result",
          "data": {
            "text/html": [
              "<div>\n",
              "<style scoped>\n",
              "    .dataframe tbody tr th:only-of-type {\n",
              "        vertical-align: middle;\n",
              "    }\n",
              "\n",
              "    .dataframe tbody tr th {\n",
              "        vertical-align: top;\n",
              "    }\n",
              "\n",
              "    .dataframe thead th {\n",
              "        text-align: right;\n",
              "    }\n",
              "</style>\n",
              "<table border=\"1\" class=\"dataframe\">\n",
              "  <thead>\n",
              "    <tr style=\"text-align: right;\">\n",
              "      <th></th>\n",
              "      <th>Unnamed: 0</th>\n",
              "      <th>text_reviews_count</th>\n",
              "      <th>country_code</th>\n",
              "      <th>language_code</th>\n",
              "      <th>popular_shelves</th>\n",
              "      <th>is_ebook</th>\n",
              "      <th>average_rating</th>\n",
              "      <th>description</th>\n",
              "      <th>authors</th>\n",
              "      <th>publication_year</th>\n",
              "      <th>book_id</th>\n",
              "      <th>ratings_count</th>\n",
              "      <th>title</th>\n",
              "      <th>title_without_series</th>\n",
              "      <th>user_id</th>\n",
              "      <th>review_id</th>\n",
              "      <th>is_read</th>\n",
              "      <th>rating</th>\n",
              "      <th>date_added</th>\n",
              "      <th>date_updated</th>\n",
              "      <th>read_at</th>\n",
              "      <th>started_at</th>\n",
              "      <th>review_text</th>\n",
              "      <th>n_votes</th>\n",
              "      <th>n_comments</th>\n",
              "      <th>authorid</th>\n",
              "    </tr>\n",
              "  </thead>\n",
              "  <tbody>\n",
              "    <tr>\n",
              "      <th>0</th>\n",
              "      <td>0</td>\n",
              "      <td>1</td>\n",
              "      <td>US</td>\n",
              "      <td>NaN</td>\n",
              "      <td>[{'count': '228', 'name': 'to-read'}, {'count'...</td>\n",
              "      <td>True</td>\n",
              "      <td>4.12</td>\n",
              "      <td>Lillian Ann Cross is forced to live the worst ...</td>\n",
              "      <td>[{'author_id': '8551671', 'role': ''}]</td>\n",
              "      <td>NaN</td>\n",
              "      <td>25742454</td>\n",
              "      <td>1</td>\n",
              "      <td>The Switchblade Mamma</td>\n",
              "      <td>The Switchblade Mamma</td>\n",
              "      <td>f1830550c10246b9924d03fbb7858a3b</td>\n",
              "      <td>cadab2ad2d162553b3b6b2a5884ec0ea</td>\n",
              "      <td>True</td>\n",
              "      <td>5</td>\n",
              "      <td>Wed Jun 15 16:38:58 -0700 2016</td>\n",
              "      <td>Wed Jun 15 16:38:59 -0700 2016</td>\n",
              "      <td>Wed Jun 15 16:38:59 -0700 2016</td>\n",
              "      <td>NaN</td>\n",
              "      <td>Raw and amazing \\n This book is unlike any oth...</td>\n",
              "      <td>0.0</td>\n",
              "      <td>0.0</td>\n",
              "      <td>['8551671']</td>\n",
              "    </tr>\n",
              "    <tr>\n",
              "      <th>1</th>\n",
              "      <td>1</td>\n",
              "      <td>2</td>\n",
              "      <td>US</td>\n",
              "      <td>fre</td>\n",
              "      <td>[{'count': '2', 'name': 'bd'}, {'count': '2', ...</td>\n",
              "      <td>False</td>\n",
              "      <td>3.94</td>\n",
              "      <td>Florence Dupre Latour raconte comment, de son ...</td>\n",
              "      <td>[{'author_id': '3274315', 'role': ''}]</td>\n",
              "      <td>2016.0</td>\n",
              "      <td>30128855</td>\n",
              "      <td>16</td>\n",
              "      <td>Cruelle</td>\n",
              "      <td>Cruelle</td>\n",
              "      <td>12c0f4c16b6cad9f595fc99f3dcb49d4</td>\n",
              "      <td>60158dd333055f54053506e590cc1291</td>\n",
              "      <td>True</td>\n",
              "      <td>4</td>\n",
              "      <td>Mon May 09 05:03:09 -0700 2016</td>\n",
              "      <td>Tue May 10 07:07:51 -0700 2016</td>\n",
              "      <td>Mon May 09 00:00:00 -0700 2016</td>\n",
              "      <td>NaN</td>\n",
              "      <td>NaN</td>\n",
              "      <td>NaN</td>\n",
              "      <td>NaN</td>\n",
              "      <td>['3274315']</td>\n",
              "    </tr>\n",
              "    <tr>\n",
              "      <th>2</th>\n",
              "      <td>2</td>\n",
              "      <td>2</td>\n",
              "      <td>US</td>\n",
              "      <td>fre</td>\n",
              "      <td>[{'count': '2', 'name': 'bd'}, {'count': '2', ...</td>\n",
              "      <td>False</td>\n",
              "      <td>3.94</td>\n",
              "      <td>Florence Dupre Latour raconte comment, de son ...</td>\n",
              "      <td>[{'author_id': '3274315', 'role': ''}]</td>\n",
              "      <td>2016.0</td>\n",
              "      <td>30128855</td>\n",
              "      <td>16</td>\n",
              "      <td>Cruelle</td>\n",
              "      <td>Cruelle</td>\n",
              "      <td>bdd5da2d7c778880e20573efd4df888a</td>\n",
              "      <td>a4b605858b28feff2cb14018839950d1</td>\n",
              "      <td>True</td>\n",
              "      <td>5</td>\n",
              "      <td>Sat Jan 21 07:18:46 -0800 2017</td>\n",
              "      <td>Sun Feb 05 06:35:09 -0800 2017</td>\n",
              "      <td>Sun Feb 05 06:35:09 -0800 2017</td>\n",
              "      <td>Sat Jan 21 00:00:00 -0800 2017</td>\n",
              "      <td>NaN</td>\n",
              "      <td>NaN</td>\n",
              "      <td>NaN</td>\n",
              "      <td>['3274315']</td>\n",
              "    </tr>\n",
              "    <tr>\n",
              "      <th>3</th>\n",
              "      <td>3</td>\n",
              "      <td>2</td>\n",
              "      <td>US</td>\n",
              "      <td>fre</td>\n",
              "      <td>[{'count': '2', 'name': 'bd'}, {'count': '2', ...</td>\n",
              "      <td>False</td>\n",
              "      <td>3.94</td>\n",
              "      <td>Florence Dupre Latour raconte comment, de son ...</td>\n",
              "      <td>[{'author_id': '3274315', 'role': ''}]</td>\n",
              "      <td>2016.0</td>\n",
              "      <td>30128855</td>\n",
              "      <td>16</td>\n",
              "      <td>Cruelle</td>\n",
              "      <td>Cruelle</td>\n",
              "      <td>15b0c6dbe18c5e493b39aaa30cb6d2b8</td>\n",
              "      <td>111f1d4941d77877558c4a4ffff87239</td>\n",
              "      <td>False</td>\n",
              "      <td>0</td>\n",
              "      <td>Mon Apr 24 08:28:14 -0700 2017</td>\n",
              "      <td>Mon Apr 24 08:28:20 -0700 2017</td>\n",
              "      <td>NaN</td>\n",
              "      <td>NaN</td>\n",
              "      <td>NaN</td>\n",
              "      <td>NaN</td>\n",
              "      <td>NaN</td>\n",
              "      <td>['3274315']</td>\n",
              "    </tr>\n",
              "    <tr>\n",
              "      <th>4</th>\n",
              "      <td>4</td>\n",
              "      <td>2</td>\n",
              "      <td>US</td>\n",
              "      <td>fre</td>\n",
              "      <td>[{'count': '2', 'name': 'bd'}, {'count': '2', ...</td>\n",
              "      <td>False</td>\n",
              "      <td>3.94</td>\n",
              "      <td>Florence Dupre Latour raconte comment, de son ...</td>\n",
              "      <td>[{'author_id': '3274315', 'role': ''}]</td>\n",
              "      <td>2016.0</td>\n",
              "      <td>30128855</td>\n",
              "      <td>16</td>\n",
              "      <td>Cruelle</td>\n",
              "      <td>Cruelle</td>\n",
              "      <td>dc9f898ef44e9d38d8eb92a7bde1341d</td>\n",
              "      <td>831e2005e78a56b1f90b26877eeea1f3</td>\n",
              "      <td>True</td>\n",
              "      <td>2</td>\n",
              "      <td>Sun Aug 28 16:15:38 -0700 2016</td>\n",
              "      <td>Thu Sep 08 16:51:22 -0700 2016</td>\n",
              "      <td>Thu Sep 08 16:51:22 -0700 2016</td>\n",
              "      <td>NaN</td>\n",
              "      <td>NaN</td>\n",
              "      <td>NaN</td>\n",
              "      <td>NaN</td>\n",
              "      <td>['3274315']</td>\n",
              "    </tr>\n",
              "  </tbody>\n",
              "</table>\n",
              "</div>"
            ],
            "text/plain": [
              "   Unnamed: 0  text_reviews_count  ... n_comments     authorid\n",
              "0           0                   1  ...        0.0  ['8551671']\n",
              "1           1                   2  ...        NaN  ['3274315']\n",
              "2           2                   2  ...        NaN  ['3274315']\n",
              "3           3                   2  ...        NaN  ['3274315']\n",
              "4           4                   2  ...        NaN  ['3274315']\n",
              "\n",
              "[5 rows x 26 columns]"
            ]
          },
          "metadata": {
            "tags": []
          },
          "execution_count": 7
        }
      ]
    },
    {
      "cell_type": "code",
      "metadata": {
        "id": "O49Qkx0KyTV6",
        "colab_type": "code",
        "outputId": "aff31440-d482-4f30-849b-5131273106dc",
        "colab": {
          "base_uri": "https://localhost:8080/",
          "height": 544
        }
      },
      "source": [
        "df.info()"
      ],
      "execution_count": 0,
      "outputs": [
        {
          "output_type": "stream",
          "text": [
            "<class 'pandas.core.frame.DataFrame'>\n",
            "RangeIndex: 7347630 entries, 0 to 7347629\n",
            "Data columns (total 26 columns):\n",
            "Unnamed: 0              int64\n",
            "text_reviews_count      int64\n",
            "country_code            object\n",
            "language_code           object\n",
            "popular_shelves         object\n",
            "is_ebook                bool\n",
            "average_rating          float64\n",
            "description             object\n",
            "authors                 object\n",
            "publication_year        float64\n",
            "book_id                 int64\n",
            "ratings_count           int64\n",
            "title                   object\n",
            "title_without_series    object\n",
            "user_id                 object\n",
            "review_id               object\n",
            "is_read                 bool\n",
            "rating                  int64\n",
            "date_added              object\n",
            "date_updated            object\n",
            "read_at                 object\n",
            "started_at              object\n",
            "review_text             object\n",
            "n_votes                 float64\n",
            "n_comments              float64\n",
            "authorid                object\n",
            "dtypes: bool(2), float64(4), int64(5), object(15)\n",
            "memory usage: 1.3+ GB\n"
          ],
          "name": "stdout"
        }
      ]
    },
    {
      "cell_type": "markdown",
      "metadata": {
        "id": "MKO9NVMRRv8z",
        "colab_type": "text"
      },
      "source": [
        "Check for columns having null nalues\n"
      ]
    },
    {
      "cell_type": "code",
      "metadata": {
        "id": "VLdKnVcSyj8L",
        "colab_type": "code",
        "outputId": "4aeceb84-db56-443d-bb46-55d02cc57d32",
        "colab": {
          "base_uri": "https://localhost:8080/",
          "height": 476
        }
      },
      "source": [
        "df.isnull().sum()"
      ],
      "execution_count": 0,
      "outputs": [
        {
          "output_type": "execute_result",
          "data": {
            "text/plain": [
              "Unnamed: 0                    0\n",
              "text_reviews_count            0\n",
              "country_code                  0\n",
              "language_code           1149907\n",
              "popular_shelves               0\n",
              "is_ebook                      0\n",
              "average_rating                0\n",
              "description              529032\n",
              "authors                       0\n",
              "publication_year         829880\n",
              "book_id                       0\n",
              "ratings_count                 0\n",
              "title                         0\n",
              "title_without_series          0\n",
              "user_id                       0\n",
              "review_id                     0\n",
              "is_read                       0\n",
              "rating                        0\n",
              "date_added                    0\n",
              "date_updated                  0\n",
              "read_at                 5086379\n",
              "started_at              5856311\n",
              "review_text             6805615\n",
              "n_votes                 6805292\n",
              "n_comments              6805292\n",
              "authorid                      0\n",
              "dtype: int64"
            ]
          },
          "metadata": {
            "tags": []
          },
          "execution_count": 10
        }
      ]
    },
    {
      "cell_type": "markdown",
      "metadata": {
        "id": "sXk2qEyOR-NH",
        "colab_type": "text"
      },
      "source": [
        "Data visualization for distribution of users across ratings   "
      ]
    },
    {
      "cell_type": "code",
      "metadata": {
        "id": "QDOvtsPFLeKA",
        "colab_type": "code",
        "colab": {}
      },
      "source": [
        "shelve_user = df['user_id'].value_counts().value_counts().reset_index().sort_values('index').values\n",
        "read_user = df['user_id'].loc[df['is_read']>0].value_counts().value_counts().reset_index().sort_values('index').values\n",
        "rate_user = df['user_id'].loc[df['rating']>0].value_counts().value_counts().reset_index().sort_values('index').values\n",
        "\n",
        "shelve_book = df['book_id'].value_counts().value_counts().reset_index().sort_values('index').values\n",
        "read_book = df['book_id'].loc[df['is_read']>0].value_counts().value_counts().reset_index().sort_values('index').values\n",
        "rate_book = df['book_id'].loc[df['rating']>0].value_counts().value_counts().reset_index().sort_values('index').values\n"
      ],
      "execution_count": 0,
      "outputs": []
    },
    {
      "cell_type": "code",
      "metadata": {
        "id": "GYhFxk88MG7t",
        "colab_type": "code",
        "outputId": "d322d962-4476-4861-9874-73d0e839e6dc",
        "colab": {
          "base_uri": "https://localhost:8080/",
          "height": 370
        }
      },
      "source": [
        "plt.figure(figsize=(5,5))\n",
        "plt.loglog(shelve_user[:,0], shelve_user[:,1], label='shelve')\n",
        "plt.loglog(read_user[:,0], read_user[:,1], label='read')\n",
        "plt.loglog(rate_user[:,0], rate_user[:,1], label='rate')\n",
        "#plt.loglog(review_user[:,0], review_user[:,1], label='review')\n",
        "plt.xlabel('rank')\n",
        "plt.ylabel('frequency')\n",
        "plt.title('Log-Log Plot of the Distribution of Users')\n",
        "plt.legend(loc='upper right')"
      ],
      "execution_count": 0,
      "outputs": [
        {
          "output_type": "execute_result",
          "data": {
            "text/plain": [
              "<matplotlib.legend.Legend at 0x7f853262a748>"
            ]
          },
          "metadata": {
            "tags": []
          },
          "execution_count": 12
        },
        {
          "output_type": "display_data",
          "data": {
            "image/png": "[encoded data removed]",
            "text/plain": [
              "<Figure size 360x360 with 1 Axes>"
            ]
          },
          "metadata": {
            "tags": []
          }
        }
      ]
    },
    {
      "cell_type": "markdown",
      "metadata": {
        "id": "UMKQzOLTTOoQ",
        "colab_type": "text"
      },
      "source": [
        "Data visualization for distribution of books across ratings"
      ]
    },
    {
      "cell_type": "code",
      "metadata": {
        "id": "yZkDgZgKSs2Q",
        "colab_type": "code",
        "outputId": "960b666f-462c-4f94-8f0d-ad4b6cf20ede",
        "colab": {
          "base_uri": "https://localhost:8080/",
          "height": 370
        }
      },
      "source": [
        "plt.figure(figsize=(5,5))\n",
        "plt.loglog(shelve_book[:,0], shelve_book[:,1], label='shelve')\n",
        "plt.loglog(read_book[:,0], read_book[:,1], label='read')\n",
        "plt.loglog(rate_book[:,0], rate_book[:,1], label='rate')\n",
        "\n",
        "plt.xlabel('rank')\n",
        "plt.ylabel('frequency')\n",
        "plt.title('Log-Log Plot of the Distribution of books')\n",
        "plt.legend(loc='upper right')"
      ],
      "execution_count": 0,
      "outputs": [
        {
          "output_type": "execute_result",
          "data": {
            "text/plain": [
              "<matplotlib.legend.Legend at 0x7f8531f727f0>"
            ]
          },
          "metadata": {
            "tags": []
          },
          "execution_count": 13
        },
        {
          "output_type": "display_data",
          "data": {
            "image/png": "[encoded data removed]",
            "text/plain": [
              "<Figure size 360x360 with 1 Axes>"
            ]
          },
          "metadata": {
            "tags": []
          }
        }
      ]
    },
    {
      "cell_type": "markdown",
      "metadata": {
        "id": "GkVXKumITTSs",
        "colab_type": "text"
      },
      "source": [
        "Drop features not required for the algorithm"
      ]
    },
    {
      "cell_type": "code",
      "metadata": {
        "id": "OKAXg2Yfx7-c",
        "colab_type": "code",
        "colab": {}
      },
      "source": [
        "data = df[['user_id', 'book_id', 'date_added', 'title']]\n",
        "data['book_id']= data['book_id'].astype(str)"
      ],
      "execution_count": 0,
      "outputs": []
    },
    {
      "cell_type": "code",
      "metadata": {
        "id": "3duJHZ5Cy0Zz",
        "colab_type": "code",
        "outputId": "79f13e56-7b49-467d-af92-4da2a84431bf",
        "colab": {
          "base_uri": "https://localhost:8080/",
          "height": 204
        }
      },
      "source": [
        "data.head()"
      ],
      "execution_count": 0,
      "outputs": [
        {
          "output_type": "execute_result",
          "data": {
            "text/html": [
              "<div>\n",
              "<style scoped>\n",
              "    .dataframe tbody tr th:only-of-type {\n",
              "        vertical-align: middle;\n",
              "    }\n",
              "\n",
              "    .dataframe tbody tr th {\n",
              "        vertical-align: top;\n",
              "    }\n",
              "\n",
              "    .dataframe thead th {\n",
              "        text-align: right;\n",
              "    }\n",
              "</style>\n",
              "<table border=\"1\" class=\"dataframe\">\n",
              "  <thead>\n",
              "    <tr style=\"text-align: right;\">\n",
              "      <th></th>\n",
              "      <th>user_id</th>\n",
              "      <th>book_id</th>\n",
              "      <th>date_added</th>\n",
              "      <th>title</th>\n",
              "    </tr>\n",
              "  </thead>\n",
              "  <tbody>\n",
              "    <tr>\n",
              "      <th>0</th>\n",
              "      <td>f1830550c10246b9924d03fbb7858a3b</td>\n",
              "      <td>25742454</td>\n",
              "      <td>Wed Jun 15 16:38:58 -0700 2016</td>\n",
              "      <td>The Switchblade Mamma</td>\n",
              "    </tr>\n",
              "    <tr>\n",
              "      <th>1</th>\n",
              "      <td>12c0f4c16b6cad9f595fc99f3dcb49d4</td>\n",
              "      <td>30128855</td>\n",
              "      <td>Mon May 09 05:03:09 -0700 2016</td>\n",
              "      <td>Cruelle</td>\n",
              "    </tr>\n",
              "    <tr>\n",
              "      <th>2</th>\n",
              "      <td>bdd5da2d7c778880e20573efd4df888a</td>\n",
              "      <td>30128855</td>\n",
              "      <td>Sat Jan 21 07:18:46 -0800 2017</td>\n",
              "      <td>Cruelle</td>\n",
              "    </tr>\n",
              "    <tr>\n",
              "      <th>3</th>\n",
              "      <td>15b0c6dbe18c5e493b39aaa30cb6d2b8</td>\n",
              "      <td>30128855</td>\n",
              "      <td>Mon Apr 24 08:28:14 -0700 2017</td>\n",
              "      <td>Cruelle</td>\n",
              "    </tr>\n",
              "    <tr>\n",
              "      <th>4</th>\n",
              "      <td>dc9f898ef44e9d38d8eb92a7bde1341d</td>\n",
              "      <td>30128855</td>\n",
              "      <td>Sun Aug 28 16:15:38 -0700 2016</td>\n",
              "      <td>Cruelle</td>\n",
              "    </tr>\n",
              "  </tbody>\n",
              "</table>\n",
              "</div>"
            ],
            "text/plain": [
              "                            user_id  ...                  title\n",
              "0  f1830550c10246b9924d03fbb7858a3b  ...  The Switchblade Mamma\n",
              "1  12c0f4c16b6cad9f595fc99f3dcb49d4  ...                Cruelle\n",
              "2  bdd5da2d7c778880e20573efd4df888a  ...                Cruelle\n",
              "3  15b0c6dbe18c5e493b39aaa30cb6d2b8  ...                Cruelle\n",
              "4  dc9f898ef44e9d38d8eb92a7bde1341d  ...                Cruelle\n",
              "\n",
              "[5 rows x 4 columns]"
            ]
          },
          "metadata": {
            "tags": []
          },
          "execution_count": 15
        }
      ]
    },
    {
      "cell_type": "markdown",
      "metadata": {
        "id": "w6XRoKQUTpy2",
        "colab_type": "text"
      },
      "source": [
        "Change format of date column to the required format. We need to sort the date later so that the reading history is in ascending order (by date) for each user\n"
      ]
    },
    {
      "cell_type": "code",
      "metadata": {
        "id": "0EMshIG6RJa2",
        "colab_type": "code",
        "colab": {}
      },
      "source": [
        "import dateutil\n",
        "data['date_added'] = data['date_added'].apply(dateutil.parser.parse, ignoretz=True)"
      ],
      "execution_count": 0,
      "outputs": []
    },
    {
      "cell_type": "code",
      "metadata": {
        "id": "NNDDKsFYRp7R",
        "colab_type": "code",
        "outputId": "1348cbc5-3b40-4583-bab6-1649b9f82c64",
        "colab": {
          "base_uri": "https://localhost:8080/",
          "height": 204
        }
      },
      "source": [
        "data.head()"
      ],
      "execution_count": 0,
      "outputs": [
        {
          "output_type": "execute_result",
          "data": {
            "text/html": [
              "<div>\n",
              "<style scoped>\n",
              "    .dataframe tbody tr th:only-of-type {\n",
              "        vertical-align: middle;\n",
              "    }\n",
              "\n",
              "    .dataframe tbody tr th {\n",
              "        vertical-align: top;\n",
              "    }\n",
              "\n",
              "    .dataframe thead th {\n",
              "        text-align: right;\n",
              "    }\n",
              "</style>\n",
              "<table border=\"1\" class=\"dataframe\">\n",
              "  <thead>\n",
              "    <tr style=\"text-align: right;\">\n",
              "      <th></th>\n",
              "      <th>user_id</th>\n",
              "      <th>book_id</th>\n",
              "      <th>date_added</th>\n",
              "      <th>title</th>\n",
              "    </tr>\n",
              "  </thead>\n",
              "  <tbody>\n",
              "    <tr>\n",
              "      <th>0</th>\n",
              "      <td>f1830550c10246b9924d03fbb7858a3b</td>\n",
              "      <td>25742454</td>\n",
              "      <td>2016-06-15 16:38:58</td>\n",
              "      <td>The Switchblade Mamma</td>\n",
              "    </tr>\n",
              "    <tr>\n",
              "      <th>1</th>\n",
              "      <td>12c0f4c16b6cad9f595fc99f3dcb49d4</td>\n",
              "      <td>30128855</td>\n",
              "      <td>2016-05-09 05:03:09</td>\n",
              "      <td>Cruelle</td>\n",
              "    </tr>\n",
              "    <tr>\n",
              "      <th>2</th>\n",
              "      <td>bdd5da2d7c778880e20573efd4df888a</td>\n",
              "      <td>30128855</td>\n",
              "      <td>2017-01-21 07:18:46</td>\n",
              "      <td>Cruelle</td>\n",
              "    </tr>\n",
              "    <tr>\n",
              "      <th>3</th>\n",
              "      <td>15b0c6dbe18c5e493b39aaa30cb6d2b8</td>\n",
              "      <td>30128855</td>\n",
              "      <td>2017-04-24 08:28:14</td>\n",
              "      <td>Cruelle</td>\n",
              "    </tr>\n",
              "    <tr>\n",
              "      <th>4</th>\n",
              "      <td>dc9f898ef44e9d38d8eb92a7bde1341d</td>\n",
              "      <td>30128855</td>\n",
              "      <td>2016-08-28 16:15:38</td>\n",
              "      <td>Cruelle</td>\n",
              "    </tr>\n",
              "  </tbody>\n",
              "</table>\n",
              "</div>"
            ],
            "text/plain": [
              "                            user_id  ...                  title\n",
              "0  f1830550c10246b9924d03fbb7858a3b  ...  The Switchblade Mamma\n",
              "1  12c0f4c16b6cad9f595fc99f3dcb49d4  ...                Cruelle\n",
              "2  bdd5da2d7c778880e20573efd4df888a  ...                Cruelle\n",
              "3  15b0c6dbe18c5e493b39aaa30cb6d2b8  ...                Cruelle\n",
              "4  dc9f898ef44e9d38d8eb92a7bde1341d  ...                Cruelle\n",
              "\n",
              "[5 rows x 4 columns]"
            ]
          },
          "metadata": {
            "tags": []
          },
          "execution_count": 17
        }
      ]
    },
    {
      "cell_type": "code",
      "metadata": {
        "id": "gOYuqTuY_FWx",
        "colab_type": "code",
        "outputId": "34bd14ca-6452-42df-98b2-064a1e6b02d5",
        "colab": {
          "base_uri": "https://localhost:8080/",
          "height": 34
        }
      },
      "source": [
        "# check number of unique users \n",
        "users = data[\"user_id\"].unique().tolist()\n",
        "len(users)"
      ],
      "execution_count": 0,
      "outputs": [
        {
          "output_type": "execute_result",
          "data": {
            "text/plain": [
              "342415"
            ]
          },
          "metadata": {
            "tags": []
          },
          "execution_count": 18
        }
      ]
    },
    {
      "cell_type": "markdown",
      "metadata": {
        "id": "At20NOXwNjOz",
        "colab_type": "text"
      },
      "source": [
        "We have to split the users in training and validation set. \n",
        "90% users will be in training set and 10% in validation set. We cannot split the same user across training and validation as that will change the reading history. Maintaining a sequence of the reading history is crucial for our algorithm and thus training and validation set has distint users"
      ]
    },
    {
      "cell_type": "code",
      "metadata": {
        "id": "AxUN7QAG_X-q",
        "colab_type": "code",
        "outputId": "855c2d57-200e-497a-d36f-2c2ab4ba79af",
        "colab": {
          "base_uri": "https://localhost:8080/",
          "height": 34
        }
      },
      "source": [
        "# Compute 90% of the readers that would be in training set \n",
        "import random\n",
        "random.shuffle(users)\n",
        "\n",
        "# extract 90% of customer ID's\n",
        "user_train = [users[i] for i in range(round(0.9*len(users)))]\n",
        "len(user_train)\n"
      ],
      "execution_count": 0,
      "outputs": [
        {
          "output_type": "execute_result",
          "data": {
            "text/plain": [
              "308174"
            ]
          },
          "metadata": {
            "tags": []
          },
          "execution_count": 20
        }
      ]
    },
    {
      "cell_type": "code",
      "metadata": {
        "id": "41ah7aA6Os8m",
        "colab_type": "code",
        "outputId": "ad0b8b85-aa93-42d2-e2e6-9735c69e652e",
        "colab": {
          "base_uri": "https://localhost:8080/",
          "height": 255
        }
      },
      "source": [
        "# split data into train and validation set\n",
        "train_df = data[data['user_id'].isin(user_train)]\n",
        "print(train_df)\n"
      ],
      "execution_count": 0,
      "outputs": [
        {
          "output_type": "stream",
          "text": [
            "                                  user_id  ...         title\n",
            "1        12c0f4c16b6cad9f595fc99f3dcb49d4  ...       Cruelle\n",
            "2        bdd5da2d7c778880e20573efd4df888a  ...       Cruelle\n",
            "3        15b0c6dbe18c5e493b39aaa30cb6d2b8  ...       Cruelle\n",
            "4        dc9f898ef44e9d38d8eb92a7bde1341d  ...       Cruelle\n",
            "5        4867af4dbac45448491c46b43363f240  ...       Cruelle\n",
            "...                                   ...  ...           ...\n",
            "7347625  40cad038063319b661615c26cb2b3c18  ...  Dead Endings\n",
            "7347626  8bcf48afa72aba125b53749c2e7c9ad4  ...  Dead Endings\n",
            "7347627  699b0a72e1e07abc5a6d2736b109928f  ...  Dead Endings\n",
            "7347628  262b53abd0d2da2e8d02c362fdeaf4f5  ...  Dead Endings\n",
            "7347629  5fa1e552e5aeb58c6d97614c51bfb1d4  ...  Dead Endings\n",
            "\n",
            "[6614048 rows x 4 columns]\n"
          ],
          "name": "stdout"
        }
      ]
    },
    {
      "cell_type": "markdown",
      "metadata": {
        "id": "7FDY6uFYQ7bX",
        "colab_type": "text"
      },
      "source": [
        "Create validation set"
      ]
    },
    {
      "cell_type": "code",
      "metadata": {
        "id": "IaKcAMZmPwIs",
        "colab_type": "code",
        "outputId": "f7f6bac0-3949-4383-c085-90db45f8eb87",
        "colab": {
          "base_uri": "https://localhost:8080/",
          "height": 255
        }
      },
      "source": [
        "validation_df = data[~data['user_id'].isin(user_train)]\n",
        "print(validation_df)"
      ],
      "execution_count": 0,
      "outputs": [
        {
          "output_type": "stream",
          "text": [
            "                                  user_id  ...                                              title\n",
            "0        f1830550c10246b9924d03fbb7858a3b  ...                              The Switchblade Mamma\n",
            "21       e9903d02b505a62f2cde84bb2be193de  ...  Captain America: Winter Soldier (The Ultimate ...\n",
            "80       dca7474250b87bafd7f64ae665d8e91d  ...                                 Crossed, Volume 15\n",
            "86       e14642210b7a70b21eeeb6bf07f9ddd7  ...                                 Crossed, Volume 15\n",
            "94       3d204395a256d16acdeaf65c4494721f  ...  Crossed + One Hundred, Volume 2 (Crossed +100 #2)\n",
            "...                                   ...  ...                                                ...\n",
            "7347564  501bfd45d783bdf291f6d151f97ef1f8  ...               Doctor Who: Free Comic Book Day 2016\n",
            "7347567  a082a944b2371f88f9ab07583665e902  ...               Doctor Who: Free Comic Book Day 2016\n",
            "7347572  9626a0c095fd5d1a44605fbc689414f9  ...               Doctor Who: Free Comic Book Day 2016\n",
            "7347583  b03bc0660a0a5b5bc36460091fdfb274  ...               Doctor Who: Free Comic Book Day 2016\n",
            "7347590  d8720570708976057fdb664d3245b1ca  ...               Doctor Who: Free Comic Book Day 2016\n",
            "\n",
            "[733582 rows x 4 columns]\n"
          ],
          "name": "stdout"
        }
      ]
    },
    {
      "cell_type": "markdown",
      "metadata": {
        "id": "OBsUnplkUhso",
        "colab_type": "text"
      },
      "source": [
        "Test some grouping functions which are to be used later\n",
        "\n",
        "\n"
      ]
    },
    {
      "cell_type": "code",
      "metadata": {
        "id": "VO0dFWj0R8Aj",
        "colab_type": "code",
        "colab": {}
      },
      "source": [
        "#train_df.groupby(['user_id']).groups.keys()"
      ],
      "execution_count": 0,
      "outputs": []
    },
    {
      "cell_type": "code",
      "metadata": {
        "id": "5c0BNTOIbF47",
        "colab_type": "code",
        "colab": {}
      },
      "source": [
        "# train_df[train_df.user_id == 'bd53fcba9dbb9ca1d2ca1551b44007e7'\t]"
      ],
      "execution_count": 0,
      "outputs": []
    },
    {
      "cell_type": "code",
      "metadata": {
        "id": "ikXngLstUidZ",
        "colab_type": "code",
        "colab": {}
      },
      "source": [
        "#train_df.groupby('user_id')['book_id'].count()"
      ],
      "execution_count": 0,
      "outputs": []
    },
    {
      "cell_type": "markdown",
      "metadata": {
        "id": "Tp4w8q7xw325",
        "colab_type": "text"
      },
      "source": [
        "Group By user id and then sort by date"
      ]
    },
    {
      "cell_type": "code",
      "metadata": {
        "id": "-3zZPXaHSULv",
        "colab_type": "code",
        "colab": {}
      },
      "source": [
        "grouped = train_df.groupby(['user_id'],as_index=False).apply(lambda x: x.sort_values([\"date_added\"], ascending = True))\n"
      ],
      "execution_count": 0,
      "outputs": []
    },
    {
      "cell_type": "code",
      "metadata": {
        "id": "sNe5BZ5dVAal",
        "colab_type": "code",
        "outputId": "95ba13dd-94c6-498d-955c-8a1c68dbcf43",
        "colab": {
          "base_uri": "https://localhost:8080/",
          "height": 419
        }
      },
      "source": [
        "grouped.head(100)"
      ],
      "execution_count": 0,
      "outputs": [
        {
          "output_type": "execute_result",
          "data": {
            "text/html": [
              "<div>\n",
              "<style scoped>\n",
              "    .dataframe tbody tr th:only-of-type {\n",
              "        vertical-align: middle;\n",
              "    }\n",
              "\n",
              "    .dataframe tbody tr th {\n",
              "        vertical-align: top;\n",
              "    }\n",
              "\n",
              "    .dataframe thead th {\n",
              "        text-align: right;\n",
              "    }\n",
              "</style>\n",
              "<table border=\"1\" class=\"dataframe\">\n",
              "  <thead>\n",
              "    <tr style=\"text-align: right;\">\n",
              "      <th></th>\n",
              "      <th></th>\n",
              "      <th>user_id</th>\n",
              "      <th>book_id</th>\n",
              "      <th>date_added</th>\n",
              "      <th>title</th>\n",
              "    </tr>\n",
              "  </thead>\n",
              "  <tbody>\n",
              "    <tr>\n",
              "      <th rowspan=\"5\" valign=\"top\">0</th>\n",
              "      <th>2374691</th>\n",
              "      <td>00004584d524ec468619e81b176cc991</td>\n",
              "      <td>271199</td>\n",
              "      <td>2013-06-21 10:23:44</td>\n",
              "      <td>Fruits Basket, Vol. 1</td>\n",
              "    </tr>\n",
              "    <tr>\n",
              "      <th>5526315</th>\n",
              "      <td>00004584d524ec468619e81b176cc991</td>\n",
              "      <td>287380</td>\n",
              "      <td>2013-06-21 10:24:05</td>\n",
              "      <td>Kare Kano: His and Her Circumstances, Vol. 1</td>\n",
              "    </tr>\n",
              "    <tr>\n",
              "      <th>3147545</th>\n",
              "      <td>00004584d524ec468619e81b176cc991</td>\n",
              "      <td>287379</td>\n",
              "      <td>2013-06-21 10:24:21</td>\n",
              "      <td>Kare Kano: His and Her Circumstances, Vol. 2</td>\n",
              "    </tr>\n",
              "    <tr>\n",
              "      <th>6245556</th>\n",
              "      <td>00004584d524ec468619e81b176cc991</td>\n",
              "      <td>287381</td>\n",
              "      <td>2013-06-21 10:24:31</td>\n",
              "      <td>Kare Kano: His and Her Circumstances, Vol. 12</td>\n",
              "    </tr>\n",
              "    <tr>\n",
              "      <th>3147164</th>\n",
              "      <td>00004584d524ec468619e81b176cc991</td>\n",
              "      <td>287370</td>\n",
              "      <td>2013-06-21 10:24:33</td>\n",
              "      <td>Kare Kano: His and Her Circumstances, Vol. 3</td>\n",
              "    </tr>\n",
              "    <tr>\n",
              "      <th>...</th>\n",
              "      <th>...</th>\n",
              "      <td>...</td>\n",
              "      <td>...</td>\n",
              "      <td>...</td>\n",
              "      <td>...</td>\n",
              "    </tr>\n",
              "    <tr>\n",
              "      <th>12</th>\n",
              "      <th>5173904</th>\n",
              "      <td>000387b0e3d77b6dcc36a66d5cc27347</td>\n",
              "      <td>12731487</td>\n",
              "      <td>2012-03-03 14:33:47</td>\n",
              "      <td>Uglies: Shay's Story (Uglies: Graphic Novel, #1)</td>\n",
              "    </tr>\n",
              "    <tr>\n",
              "      <th rowspan=\"4\" valign=\"top\">13</th>\n",
              "      <th>5917842</th>\n",
              "      <td>0003a8eb2989503d03ad7ca701898a48</td>\n",
              "      <td>204042</td>\n",
              "      <td>2011-12-22 15:03:41</td>\n",
              "      <td>Naruto, Vol. 01: The Tests of the Ninja (Narut...</td>\n",
              "    </tr>\n",
              "    <tr>\n",
              "      <th>4130763</th>\n",
              "      <td>0003a8eb2989503d03ad7ca701898a48</td>\n",
              "      <td>13615</td>\n",
              "      <td>2011-12-22 15:05:12</td>\n",
              "      <td>Death Note, Vol. 1: Boredom (Death Note, #1)</td>\n",
              "    </tr>\n",
              "    <tr>\n",
              "      <th>4829754</th>\n",
              "      <td>0003a8eb2989503d03ad7ca701898a48</td>\n",
              "      <td>17571499</td>\n",
              "      <td>2013-10-06 21:48:19</td>\n",
              "      <td>Bakuman: Complete Box Set</td>\n",
              "    </tr>\n",
              "    <tr>\n",
              "      <th>430293</th>\n",
              "      <td>0003a8eb2989503d03ad7ca701898a48</td>\n",
              "      <td>23479604</td>\n",
              "      <td>2015-05-29 07:59:10</td>\n",
              "      <td>Si Juki: Komik Strip</td>\n",
              "    </tr>\n",
              "  </tbody>\n",
              "</table>\n",
              "<p>100 rows × 4 columns</p>\n",
              "</div>"
            ],
            "text/plain": [
              "                                     user_id  ...                                              title\n",
              "0  2374691  00004584d524ec468619e81b176cc991  ...                              Fruits Basket, Vol. 1\n",
              "   5526315  00004584d524ec468619e81b176cc991  ...       Kare Kano: His and Her Circumstances, Vol. 1\n",
              "   3147545  00004584d524ec468619e81b176cc991  ...       Kare Kano: His and Her Circumstances, Vol. 2\n",
              "   6245556  00004584d524ec468619e81b176cc991  ...      Kare Kano: His and Her Circumstances, Vol. 12\n",
              "   3147164  00004584d524ec468619e81b176cc991  ...       Kare Kano: His and Her Circumstances, Vol. 3\n",
              "...                                      ...  ...                                                ...\n",
              "12 5173904  000387b0e3d77b6dcc36a66d5cc27347  ...   Uglies: Shay's Story (Uglies: Graphic Novel, #1)\n",
              "13 5917842  0003a8eb2989503d03ad7ca701898a48  ...  Naruto, Vol. 01: The Tests of the Ninja (Narut...\n",
              "   4130763  0003a8eb2989503d03ad7ca701898a48  ...       Death Note, Vol. 1: Boredom (Death Note, #1)\n",
              "   4829754  0003a8eb2989503d03ad7ca701898a48  ...                          Bakuman: Complete Box Set\n",
              "   430293   0003a8eb2989503d03ad7ca701898a48  ...                               Si Juki: Komik Strip\n",
              "\n",
              "[100 rows x 4 columns]"
            ]
          },
          "metadata": {
            "tags": []
          },
          "execution_count": 28
        }
      ]
    },
    {
      "cell_type": "markdown",
      "metadata": {
        "id": "Y5pjlz3XxA5T",
        "colab_type": "text"
      },
      "source": [
        "Group by Book Id to get reading history of all users"
      ]
    },
    {
      "cell_type": "code",
      "metadata": {
        "id": "IzzhMmxshH5F",
        "colab_type": "code",
        "colab": {}
      },
      "source": [
        "reading_history = grouped.groupby('user_id')['book_id'].apply(list).reset_index()\n",
        "\n"
      ],
      "execution_count": 0,
      "outputs": []
    },
    {
      "cell_type": "code",
      "metadata": {
        "id": "pXID2gaXje_x",
        "colab_type": "code",
        "outputId": "9f909232-540a-4d1d-afd0-1cac31210ebc",
        "colab": {
          "base_uri": "https://localhost:8080/",
          "height": 54
        }
      },
      "source": [
        "reading_list = reading_history['book_id'].tolist()\n",
        "print(reading_list[2])"
      ],
      "execution_count": 0,
      "outputs": [
        {
          "output_type": "stream",
          "text": [
            "['472331', '25103', '21330', '5805', '25100', '15719', '1270615', '7746259', '342445', '43808', '30288', '1799011', '6052502', '7278189']\n"
          ],
          "name": "stdout"
        }
      ]
    },
    {
      "cell_type": "markdown",
      "metadata": {
        "id": "GQAq7i7fyBgv",
        "colab_type": "text"
      },
      "source": [
        "Create word embeddings using Word2Vec Model by providing a list of reading history of all users"
      ]
    },
    {
      "cell_type": "code",
      "metadata": {
        "id": "RoCwOQgIfjC9",
        "colab_type": "code",
        "outputId": "1c2c35e2-d9ec-4a45-b6ad-16c6b6802c70",
        "colab": {
          "base_uri": "https://localhost:8080/",
          "height": 34
        }
      },
      "source": [
        "\n",
        "# train word2vec model\n",
        "model = Word2Vec(window = 5, sg = 1,\n",
        "                 # for negative sampling\n",
        "                 min_count=1, size=150, iter=10)\n",
        "\n",
        "model.build_vocab(reading_list, progress_per=200)\n",
        "\n",
        "model.train(reading_list, total_examples = model.corpus_count, \n",
        "            epochs=10, report_delay=1)"
      ],
      "execution_count": 0,
      "outputs": [
        {
          "output_type": "execute_result",
          "data": {
            "text/plain": [
              "(65704825, 66140480)"
            ]
          },
          "metadata": {
            "tags": []
          },
          "execution_count": 31
        }
      ]
    },
    {
      "cell_type": "code",
      "metadata": {
        "id": "IonXLNlcZnHv",
        "colab_type": "code",
        "colab": {}
      },
      "source": [
        "# save word2vec model\n",
        "model.save(\"word2vec_2.model\")"
      ],
      "execution_count": 0,
      "outputs": []
    },
    {
      "cell_type": "code",
      "metadata": {
        "id": "d2T5fYcRf_mw",
        "colab_type": "code",
        "colab": {}
      },
      "source": [
        "model.init_sims(replace=True)"
      ],
      "execution_count": 0,
      "outputs": []
    },
    {
      "cell_type": "code",
      "metadata": {
        "id": "mucDwCTEgBib",
        "colab_type": "code",
        "outputId": "8e98a4be-92b5-4196-8287-65d051381ff3",
        "colab": {
          "base_uri": "https://localhost:8080/",
          "height": 34
        }
      },
      "source": [
        "print(model)"
      ],
      "execution_count": 0,
      "outputs": [
        {
          "output_type": "stream",
          "text": [
            "Word2Vec(vocab=88787, size=150, alpha=0.025)\n"
          ],
          "name": "stdout"
        }
      ]
    },
    {
      "cell_type": "code",
      "metadata": {
        "id": "gdcH2Et6gFSQ",
        "colab_type": "code",
        "outputId": "5269736f-76c5-4be5-ed6a-608c9aa895b5",
        "colab": {
          "base_uri": "https://localhost:8080/",
          "height": 34
        }
      },
      "source": [
        "# extract all vectors\n",
        "X = model[model.wv.vocab]\n",
        "\n",
        "X.shape"
      ],
      "execution_count": 0,
      "outputs": [
        {
          "output_type": "execute_result",
          "data": {
            "text/plain": [
              "(88787, 150)"
            ]
          },
          "metadata": {
            "tags": []
          },
          "execution_count": 35
        }
      ]
    },
    {
      "cell_type": "markdown",
      "metadata": {
        "id": "qQs8HEEmyO6S",
        "colab_type": "text"
      },
      "source": [
        "Data visualization for the generated word enbeddings"
      ]
    },
    {
      "cell_type": "code",
      "metadata": {
        "id": "_2FpvrATgF8i",
        "colab_type": "code",
        "outputId": "b13db3dd-81d9-48ea-ed67-0cb673ec4c8e",
        "colab": {
          "base_uri": "https://localhost:8080/",
          "height": 554
        }
      },
      "source": [
        "import umap\n",
        "\n",
        "cluster_embedding = umap.UMAP(n_neighbors=30, min_dist=0.0,\n",
        "                              n_components=2, random_state=42).fit_transform(X)\n",
        "\n",
        "plt.figure(figsize=(10,9))\n",
        "plt.scatter(cluster_embedding[:, 0], cluster_embedding[:, 1], s=3, cmap='Spectral')"
      ],
      "execution_count": 0,
      "outputs": [
        {
          "output_type": "execute_result",
          "data": {
            "text/plain": [
              "<matplotlib.collections.PathCollection at 0x7f84ff6f1f28>"
            ]
          },
          "metadata": {
            "tags": []
          },
          "execution_count": 36
        },
        {
          "output_type": "display_data",
          "data": {
            "image/png": "[encoded data removed]",
            "text/plain": [
              "<Figure size 720x648 with 1 Axes>"
            ]
          },
          "metadata": {
            "tags": []
          }
        }
      ]
    },
    {
      "cell_type": "code",
      "metadata": {
        "id": "hXjzpsSVqz7B",
        "colab_type": "code",
        "colab": {}
      },
      "source": [
        "books = df[['book_id', 'title']]\n",
        "books['book_id']= books['book_id'].astype(str)\n",
        "# remove duplicates\n",
        "books.drop_duplicates(inplace=True, subset='book_id', keep=\"last\")\n",
        "\n",
        "# create product-ID and product-description dictionary\n",
        "books_dict = books.groupby('book_id')['title'].apply(list).to_dict()"
      ],
      "execution_count": 0,
      "outputs": []
    },
    {
      "cell_type": "markdown",
      "metadata": {
        "id": "eVIZxY5Jyi5F",
        "colab_type": "text"
      },
      "source": [
        "Utility to find similar books"
      ]
    },
    {
      "cell_type": "code",
      "metadata": {
        "id": "GNUwfwyis5nY",
        "colab_type": "code",
        "colab": {}
      },
      "source": [
        "def similar_products(v, n = 20):\n",
        "    \n",
        "    # extract most similar products for the input vector\n",
        "    ms = model.similar_by_vector(v, topn= n+1)[1:]\n",
        "    \n",
        "    # extract name and similarity score of the similar products\n",
        "    new_ms = []\n",
        "    for j in ms:\n",
        "        pair = (books_dict[j[0]][0], j[1])\n",
        "        new_ms.append(pair)\n",
        "        \n",
        "    return new_ms"
      ],
      "execution_count": 0,
      "outputs": []
    },
    {
      "cell_type": "markdown",
      "metadata": {
        "id": "FM3pFWvqyrsf",
        "colab_type": "text"
      },
      "source": [
        "Pass a book id to see the title of the book"
      ]
    },
    {
      "cell_type": "code",
      "metadata": {
        "id": "CwNSY-Jo0GKJ",
        "colab_type": "code",
        "outputId": "594a9706-f887-4a10-e632-00ad485a1934",
        "colab": {
          "base_uri": "https://localhost:8080/",
          "height": 34
        }
      },
      "source": [
        "books_dict['25233412']"
      ],
      "execution_count": 0,
      "outputs": [
        {
          "output_type": "execute_result",
          "data": {
            "text/plain": [
              "['Lumberjanes #6']"
            ]
          },
          "metadata": {
            "tags": []
          },
          "execution_count": 39
        }
      ]
    },
    {
      "cell_type": "markdown",
      "metadata": {
        "id": "FR5UIEPeyw5C",
        "colab_type": "text"
      },
      "source": [
        "Check similar books to Lumberjanes #6"
      ]
    },
    {
      "cell_type": "code",
      "metadata": {
        "id": "vK4CjYKCs6m0",
        "colab_type": "code",
        "outputId": "58d03c63-816b-470d-a639-a9eb9ed29db9",
        "colab": {
          "base_uri": "https://localhost:8080/",
          "height": 374
        }
      },
      "source": [
        "similar_products(model['25233412'])"
      ],
      "execution_count": 0,
      "outputs": [
        {
          "output_type": "execute_result",
          "data": {
            "text/plain": [
              "[('Lumberjanes #7', 0.9251632690429688),\n",
              " ('Lumberjanes #5', 0.9046493172645569),\n",
              " ('Lumberjanes #8', 0.8667962551116943),\n",
              " ('Lumberjanes #4', 0.7952837347984314),\n",
              " ('Lumberjanes #10', 0.7737115621566772),\n",
              " ('Lumberjanes #9', 0.7717084884643555),\n",
              " ('Lumberjanes #11', 0.7332926988601685),\n",
              " ('Lumberjanes #13', 0.71864253282547),\n",
              " ('Lumberjanes #3', 0.7185992002487183),\n",
              " (\"Archie: Rockin' the World\", 0.7136366963386536),\n",
              " ('Lumberjanes #12', 0.7125082015991211),\n",
              " ('Lumberjanes #2', 0.6973168849945068),\n",
              " ('Eye of Newt #1', 0.6961299777030945),\n",
              " ('Adventure Time Summer 2013 Special #1', 0.6825842261314392),\n",
              " ('Page by Paige', 0.6762638092041016),\n",
              " ('Superman Vol. 5: Under Fire (The New 52)', 0.6760036945343018),\n",
              " ('Lumberjanes #1', 0.6738401055335999),\n",
              " ('X-Men Origins: Nightcrawler #1 (X-Men Origins (2008-2010))',\n",
              "  0.6685709953308105),\n",
              " ('Rocket Raccoon #3', 0.667353093624115),\n",
              " ('Star Wars: In Shadow of Yavin: Vol. 2', 0.6635650396347046)]"
            ]
          },
          "metadata": {
            "tags": []
          },
          "execution_count": 40
        }
      ]
    },
    {
      "cell_type": "markdown",
      "metadata": {
        "id": "7gfNoGPly7pP",
        "colab_type": "text"
      },
      "source": [
        "### **Wow it did recommend other books in the \"lumberjanes\" series ! This algorithm seems to work !**"
      ]
    },
    {
      "cell_type": "markdown",
      "metadata": {
        "id": "JgCkY3PnzSSg",
        "colab_type": "text"
      },
      "source": [
        "Lets check results for another book"
      ]
    },
    {
      "cell_type": "code",
      "metadata": {
        "id": "xKkvYt-SzX7b",
        "colab_type": "code",
        "outputId": "b1e233b4-4de1-4392-eae1-4687ce9ff664",
        "colab": {
          "base_uri": "https://localhost:8080/",
          "height": 34
        }
      },
      "source": [
        "books_dict['22731045']"
      ],
      "execution_count": 0,
      "outputs": [
        {
          "output_type": "execute_result",
          "data": {
            "text/plain": [
              "['Adventure Time: Banana Guard Academy #1']"
            ]
          },
          "metadata": {
            "tags": []
          },
          "execution_count": 41
        }
      ]
    },
    {
      "cell_type": "markdown",
      "metadata": {
        "id": "yhQ0SpOQzJJZ",
        "colab_type": "text"
      },
      "source": [
        "Lets check book similar to above book"
      ]
    },
    {
      "cell_type": "code",
      "metadata": {
        "id": "5rD9yQzDhmtb",
        "colab_type": "code",
        "outputId": "3132ce8f-6e9c-4f8f-d73e-66dce30d9b52",
        "colab": {
          "base_uri": "https://localhost:8080/",
          "height": 374
        }
      },
      "source": [
        "similar_products(model['22731045'])"
      ],
      "execution_count": 0,
      "outputs": [
        {
          "output_type": "execute_result",
          "data": {
            "text/plain": [
              "[('Adventure Time: Banana Guard Academy #2', 0.9058193564414978),\n",
              " ('Adventure Time: Banana Guard Academy #3', 0.8677616715431213),\n",
              " ('Adventure Time: Banana Guard Academy #4', 0.815670907497406),\n",
              " ('Abigail and the Snowman #2', 0.7955044507980347),\n",
              " ('The Woods #9', 0.7905305624008179),\n",
              " ('The Woods #11', 0.7862293720245361),\n",
              " ('Penny Dora and the Wishing Box #3', 0.784365177154541),\n",
              " ('Adventure Time: Banana Guard Academy #5', 0.7829160094261169),\n",
              " ('Abigail and the Snowman #3', 0.7815525531768799),\n",
              " ('The Woods #10', 0.7770017981529236),\n",
              " ('Abigail and the Snowman #1', 0.776556670665741),\n",
              " ('Oddly Normal #8', 0.7754290699958801),\n",
              " ('Abigail and the Snowman #4', 0.7745276689529419),\n",
              " ('The Woods #4', 0.7734706401824951),\n",
              " ('Munchkin #4', 0.7726688385009766),\n",
              " ('Munchkin #3', 0.7720385193824768),\n",
              " ('The Woods #3', 0.7706050872802734),\n",
              " ('Afterlife With Archie #7: Betty R.I.P. Chapter 2 - Dear Diary... (Afterlife With Archie Series)',\n",
              "  0.7658134698867798),\n",
              " ('Oddly Normal #2', 0.7650662660598755),\n",
              " ('The Woods #8', 0.7627524733543396)]"
            ]
          },
          "metadata": {
            "tags": []
          },
          "execution_count": 42
        }
      ]
    },
    {
      "cell_type": "markdown",
      "metadata": {
        "id": "PPY4NsI6zb1-",
        "colab_type": "text"
      },
      "source": [
        "### It  was able to recommend other books in the series and other books that were recommended also seem to be on similar lines. Visually this algorithm seems to be working, but we can only tell when we have some evaluation metrics . Metrics such as Precision@k, hit rate , coverage and nDCG can be used as per the paper. Below is my attempt to calculate the Precision by using one book for a user and trying to see whether the recommended book are is his reading list (on the basis of one book). This approach did not work. Couple of other approaches that I can think of are as below \n",
        "\n",
        "\n",
        "*   Instead of considering one book, consider half of the reading list to see whether the predictions (on the basis of half the list) have an intersection with the other half\n",
        "*   Instead of having distint users in train and test set, have users distributed across both. Using reading history of user in train set, come up with predictions and check whether they have intersection with the books in the test set for the user \n",
        "\n",
        "Evaluation of such a system seems to be more evolved and needs elaborate research to come up with the best strategy and implementation. \n",
        "\n"
      ]
    },
    {
      "cell_type": "code",
      "metadata": {
        "id": "Kh1CYnarz0Ir",
        "colab_type": "code",
        "colab": {}
      },
      "source": [
        "reading_history_validation = validation_df.groupby('user_id')['book_id'].apply(list).reset_index()\n"
      ],
      "execution_count": 0,
      "outputs": []
    },
    {
      "cell_type": "code",
      "metadata": {
        "id": "c-539oOOT03j",
        "colab_type": "code",
        "colab": {
          "base_uri": "https://localhost:8080/",
          "height": 34
        },
        "outputId": "11871e7e-91ab-4edf-a5e0-989787ab488f"
      },
      "source": [
        "unique_users = validation_df[\"user_id\"].unique().tolist()\n",
        "len(unique_users)"
      ],
      "execution_count": 116,
      "outputs": [
        {
          "output_type": "execute_result",
          "data": {
            "text/plain": [
              "34241"
            ]
          },
          "metadata": {
            "tags": []
          },
          "execution_count": 116
        }
      ]
    },
    {
      "cell_type": "code",
      "metadata": {
        "colab_type": "code",
        "id": "QjcRoWS9U2y_",
        "colab": {
          "base_uri": "https://localhost:8080/",
          "height": 419
        },
        "outputId": "2f3d0162-3d5d-4f92-fece-89c126bd0653"
      },
      "source": [
        "reading_history_validation"
      ],
      "execution_count": 115,
      "outputs": [
        {
          "output_type": "execute_result",
          "data": {
            "text/html": [
              "<div>\n",
              "<style scoped>\n",
              "    .dataframe tbody tr th:only-of-type {\n",
              "        vertical-align: middle;\n",
              "    }\n",
              "\n",
              "    .dataframe tbody tr th {\n",
              "        vertical-align: top;\n",
              "    }\n",
              "\n",
              "    .dataframe thead th {\n",
              "        text-align: right;\n",
              "    }\n",
              "</style>\n",
              "<table border=\"1\" class=\"dataframe\">\n",
              "  <thead>\n",
              "    <tr style=\"text-align: right;\">\n",
              "      <th></th>\n",
              "      <th>user_id</th>\n",
              "      <th>book_id</th>\n",
              "    </tr>\n",
              "  </thead>\n",
              "  <tbody>\n",
              "    <tr>\n",
              "      <th>0</th>\n",
              "      <td>000bcfc25a4ec41e7ec3de82bd1ae3d0</td>\n",
              "      <td>[15195, 9517, 9516, 744615, 7904429, 9446190, ...</td>\n",
              "    </tr>\n",
              "    <tr>\n",
              "      <th>1</th>\n",
              "      <td>000efb30c5236d7437c3cdf4bf3e4dc7</td>\n",
              "      <td>[64581, 37261, 85578, 114967, 402252, 12918119...</td>\n",
              "    </tr>\n",
              "    <tr>\n",
              "      <th>2</th>\n",
              "      <td>000f09a363afe420bdbc2dfcf522029c</td>\n",
              "      <td>[6348419]</td>\n",
              "    </tr>\n",
              "    <tr>\n",
              "      <th>3</th>\n",
              "      <td>001570676f7943d9c445d2209ccbabfb</td>\n",
              "      <td>[282358, 229151, 271199, 1404466, 287388, 1605...</td>\n",
              "    </tr>\n",
              "    <tr>\n",
              "      <th>4</th>\n",
              "      <td>0016a992215a18dc242672e9d19d2b84</td>\n",
              "      <td>[472331]</td>\n",
              "    </tr>\n",
              "    <tr>\n",
              "      <th>...</th>\n",
              "      <td>...</td>\n",
              "      <td>...</td>\n",
              "    </tr>\n",
              "    <tr>\n",
              "      <th>34236</th>\n",
              "      <td>fff785db3b7a0755573779d6279009de</td>\n",
              "      <td>[7941986, 11871319, 18594409, 11566956, 65977,...</td>\n",
              "    </tr>\n",
              "    <tr>\n",
              "      <th>34237</th>\n",
              "      <td>fff85dc76c1d78fb7938c48f69d2e14f</td>\n",
              "      <td>[7306986]</td>\n",
              "    </tr>\n",
              "    <tr>\n",
              "      <th>34238</th>\n",
              "      <td>fffa8bc2ca9727638006dd9b6c5adc8a</td>\n",
              "      <td>[16992]</td>\n",
              "    </tr>\n",
              "    <tr>\n",
              "      <th>34239</th>\n",
              "      <td>fffcca008c7770bc559e43b2edf24a6d</td>\n",
              "      <td>[14498]</td>\n",
              "    </tr>\n",
              "    <tr>\n",
              "      <th>34240</th>\n",
              "      <td>ffffd81a724c0fa70ac37cd347c1c0f1</td>\n",
              "      <td>[17571564]</td>\n",
              "    </tr>\n",
              "  </tbody>\n",
              "</table>\n",
              "<p>34241 rows × 2 columns</p>\n",
              "</div>"
            ],
            "text/plain": [
              "                                user_id                                            book_id\n",
              "0      000bcfc25a4ec41e7ec3de82bd1ae3d0  [15195, 9517, 9516, 744615, 7904429, 9446190, ...\n",
              "1      000efb30c5236d7437c3cdf4bf3e4dc7  [64581, 37261, 85578, 114967, 402252, 12918119...\n",
              "2      000f09a363afe420bdbc2dfcf522029c                                          [6348419]\n",
              "3      001570676f7943d9c445d2209ccbabfb  [282358, 229151, 271199, 1404466, 287388, 1605...\n",
              "4      0016a992215a18dc242672e9d19d2b84                                           [472331]\n",
              "...                                 ...                                                ...\n",
              "34236  fff785db3b7a0755573779d6279009de  [7941986, 11871319, 18594409, 11566956, 65977,...\n",
              "34237  fff85dc76c1d78fb7938c48f69d2e14f                                          [7306986]\n",
              "34238  fffa8bc2ca9727638006dd9b6c5adc8a                                            [16992]\n",
              "34239  fffcca008c7770bc559e43b2edf24a6d                                            [14498]\n",
              "34240  ffffd81a724c0fa70ac37cd347c1c0f1                                         [17571564]\n",
              "\n",
              "[34241 rows x 2 columns]"
            ]
          },
          "metadata": {
            "tags": []
          },
          "execution_count": 115
        }
      ]
    },
    {
      "cell_type": "code",
      "metadata": {
        "id": "u5r3rINKVBdO",
        "colab_type": "code",
        "colab": {
          "base_uri": "https://localhost:8080/",
          "height": 71
        },
        "outputId": "37e4c29b-6607-4af3-e8b3-fd858631410e"
      },
      "source": [
        "# get thge reading history of the user and consider one book of the list to compute recommendations\n",
        "book_list = reading_history_validation.head(5)['book_id']\n",
        "book_id = book_list[4][0]\n",
        "other_history = book_list[0]\n",
        "print(book_id)\n",
        "print(other_history)"
      ],
      "execution_count": 117,
      "outputs": [
        {
          "output_type": "stream",
          "text": [
            "472331\n",
            "['15195', '9517', '9516', '744615', '7904429', '9446190', '8477057', '6407014', '16992', '769712', '62953', '1870771', '5805', '11566956', '20442885', '13138831', '11480909', '1782543', '1136465', '118944', '25179', '5989573', '2396554', '7965835', '4070095', '6435893', '29800', '29801', '29802', '46640', '6871845']\n"
          ],
          "name": "stdout"
        }
      ]
    },
    {
      "cell_type": "code",
      "metadata": {
        "id": "5wTTUi0JW2Tj",
        "colab_type": "code",
        "colab": {}
      },
      "source": [
        "def similar_products_for_evaluation(v, n = 30):\n",
        "    \n",
        "    # extract most similar products for the input vector\n",
        "    ms = model.similar_by_vector(v, topn= n+1)[1:]\n",
        "    \n",
        "    # extract name and similarity score of the similar products\n",
        "    new_ms = []\n",
        "    for j in ms:\n",
        "        print(j[0])\n",
        "        new_ms.append(j[0])\n",
        "        \n",
        "    return new_ms"
      ],
      "execution_count": 0,
      "outputs": []
    },
    {
      "cell_type": "code",
      "metadata": {
        "id": "0Wto-dq0VzpZ",
        "colab_type": "code",
        "colab": {
          "base_uri": "https://localhost:8080/",
          "height": 564
        },
        "outputId": "4375a696-ff73-4eb7-a73d-66182b88250b"
      },
      "source": [
        "lst1 = similar_products_for_evaluation(book_id)\n",
        "print(lst1)"
      ],
      "execution_count": 119,
      "outputs": [
        {
          "output_type": "stream",
          "text": [
            "13835792\n",
            "4599958\n",
            "23553407\n",
            "1404587\n",
            "3119183\n",
            "12703004\n",
            "18517011\n",
            "29064099\n",
            "14510172\n",
            "27804794\n",
            "2757778\n",
            "182176\n",
            "2601016\n",
            "1990504\n",
            "7359765\n",
            "7296850\n",
            "1813000\n",
            "32941063\n",
            "23542\n",
            "6387938\n",
            "13001718\n",
            "14799464\n",
            "804507\n",
            "331831\n",
            "1472606\n",
            "7278915\n",
            "8579650\n",
            "219531\n",
            "6468238\n",
            "16098684\n",
            "['13835792', '4599958', '23553407', '1404587', '3119183', '12703004', '18517011', '29064099', '14510172', '27804794', '2757778', '182176', '2601016', '1990504', '7359765', '7296850', '1813000', '32941063', '23542', '6387938', '13001718', '14799464', '804507', '331831', '1472606', '7278915', '8579650', '219531', '6468238', '16098684']\n"
          ],
          "name": "stdout"
        }
      ]
    },
    {
      "cell_type": "code",
      "metadata": {
        "id": "wtCK-263Y_sy",
        "colab_type": "code",
        "colab": {
          "base_uri": "https://localhost:8080/",
          "height": 34
        },
        "outputId": "aa391738-88a2-45f1-a8c8-41d8ed150b76"
      },
      "source": [
        "print(book_id)"
      ],
      "execution_count": 120,
      "outputs": [
        {
          "output_type": "stream",
          "text": [
            "472331\n"
          ],
          "name": "stdout"
        }
      ]
    },
    {
      "cell_type": "code",
      "metadata": {
        "id": "yAQca83WXD6Q",
        "colab_type": "code",
        "colab": {
          "base_uri": "https://localhost:8080/",
          "height": 88
        },
        "outputId": "bf713e98-304f-4d99-eae7-f4ceed2d192f"
      },
      "source": [
        "# check whether there is an intersection between recommended books and actual reading history\n",
        "print(lst1)\n",
        "print(other_history)\n",
        "common_elements = set(lst1).intersection(set(other_history))\n",
        "common_elements\n"
      ],
      "execution_count": 121,
      "outputs": [
        {
          "output_type": "stream",
          "text": [
            "['13835792', '4599958', '23553407', '1404587', '3119183', '12703004', '18517011', '29064099', '14510172', '27804794', '2757778', '182176', '2601016', '1990504', '7359765', '7296850', '1813000', '32941063', '23542', '6387938', '13001718', '14799464', '804507', '331831', '1472606', '7278915', '8579650', '219531', '6468238', '16098684']\n",
            "['15195', '9517', '9516', '744615', '7904429', '9446190', '8477057', '6407014', '16992', '769712', '62953', '1870771', '5805', '11566956', '20442885', '13138831', '11480909', '1782543', '1136465', '118944', '25179', '5989573', '2396554', '7965835', '4070095', '6435893', '29800', '29801', '29802', '46640', '6871845']\n"
          ],
          "name": "stdout"
        },
        {
          "output_type": "execute_result",
          "data": {
            "text/plain": [
              "set()"
            ]
          },
          "metadata": {
            "tags": []
          },
          "execution_count": 121
        }
      ]
    },
    {
      "cell_type": "markdown",
      "metadata": {
        "id": "d5gsmnsftIUu",
        "colab_type": "text"
      },
      "source": [
        ""
      ]
    },
    {
      "cell_type": "markdown",
      "metadata": {
        "id": "9YcZYmGTB1Uc",
        "colab_type": "text"
      },
      "source": [
        "```\n",
        "Above we saw good recommendations using word2Vec. I also wanted to recommend using content-based recommendation using item matrix of books.I reached as far as creating item matrix for the books. However, due to time constraints could not complete the implementation of cosine similarity. Below is the code for computing the item matric of books using one hot encoding\n",
        "#Load book dataset\n",
        "fn = '/content/drive/Shared drives/Project_256/goodreads_books_comics_graphic.json.gz'\n",
        "books = pd.read_json(fn, lines=True, compression='gzip')\n",
        "books.tail()\n",
        "books.info()\n",
        "#Replace null values with nan\n",
        "import numpy as np\n",
        "books.replace('', np.nan, inplace=True)\n",
        "books\n",
        "\n",
        "books.info()\n",
        "\n",
        "#Replace null values with nan\n",
        "\n",
        "import numpy as np\n",
        "books.replace('', np.nan, inplace=True)\n",
        "books\n",
        "\n",
        "#One hot encode categorical columns\n",
        "\n",
        "books = pd.get_dummies(books, dummy_na=False, columns=['country_code', 'language_code'])\n",
        "\n",
        "books\n",
        "\n",
        "authors=books['authors']\n",
        "\n",
        "#Convert authors to needed format\n",
        "\n",
        "author_list=[]\n",
        "for i in authors:\n",
        "    author=[]\n",
        "    for j in i:\n",
        "      author.append(j['author_id'])\n",
        "    author_list.append(author)\n",
        "\n",
        "df_with_author_list=books\n",
        "\n",
        "df_with_author_list\n",
        "\n",
        "df_with_author_list['authorid'] = author_list\n",
        "\n",
        "df_with_author_list\n",
        "\n",
        "\n",
        "\n",
        "#One hot encode author list\n",
        "\n",
        "one_hot_encode_author = pd.get_dummies(df_with_author_list.authorid.apply(pd.Series), prefix=\"\", prefix_sep=\"\")\n",
        "\n",
        "df_with_author_list.join(one_hot_encode_author)\n",
        "\n",
        "df_with_author_list.to_csv('/content/drive/Shared drives/Project_256/books_item_matrix.csv')\n",
        "```"
      ]
    }
  ]
}