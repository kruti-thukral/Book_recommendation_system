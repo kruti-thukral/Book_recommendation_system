{
  "nbformat": 4,
  "nbformat_minor": 0,
  "metadata": {
    "colab": {
      "name": "Recommendation_using_word2vec_kruti_thukral.ipynb",
      "provenance": [],
      "collapsed_sections": []
    },
    "kernelspec": {
      "name": "python3",
      "display_name": "Python 3"
    }
  },
  "cells": [
    {
      "cell_type": "markdown",
      "metadata": {
        "id": "eYfwCdlrKIDi",
        "colab_type": "text"
      },
      "source": [
        "### Recommendation using Word2Vec\n",
        "By Kruti Thukral (012586041)\n",
        "\n",
        "With large-scale heterogenous data being generated on a daily basis,there is a need to improvise the conventional recommenation systems. I wanted to explore the application of models proven in NLP in recommendation systems. Below is an implementation of book recommendations using word embeddings. \n",
        "\n",
        "Reference paper:\n",
        "M. Ozsoy, \"From Word Embeddings to Item Recommendation,\" arXiv.Org, 2016\n",
        "\n",
        "Reference code snippet: \n",
        "https://www.analyticsvidhya.com/blog/2019/07/how-to-build-recommendation-system-word2vec-python/\n",
        "\n",
        "Problem statement: Given a book, the system should recommend other books to the reader.\n",
        "\n",
        "1.   \n",
        "To solve the above problem , I will use reading pattern of all the readers and create word embeddings. These embeddings will help in recommending other books.\n",
        "2. Above problem can be also solved using content-based recommendation and finding similar book using cosine similarity.\n",
        "3. Compare both the solutions using evaluation metrics to conclude which alogrithm performs better\n",
        "\n",
        "\n",
        "\n",
        "\n",
        "\n"
      ]
    },
    {
      "cell_type": "markdown",
      "metadata": {
        "id": "tsLYh_1wRFcY",
        "colab_type": "text"
      },
      "source": [
        "Import needed libraries"
      ]
    },
    {
      "cell_type": "code",
      "metadata": {
        "id": "xgCqze5FurbW",
        "colab_type": "code",
        "colab": {}
      },
      "source": [
        "import sys\n",
        "import pandas as pd\n",
        "import gdown\n",
        "import os\n",
        "from gensim.models import Word2Vec \n",
        "import matplotlib.pyplot as plt\n",
        "%matplotlib inline\n",
        "\n",
        "import warnings;\n",
        "warnings.filterwarnings('ignore')"
      ],
      "execution_count": 0,
      "outputs": []
    },
    {
      "cell_type": "markdown",
      "metadata": {
        "id": "SFJgu6M1RL_v",
        "colab_type": "text"
      },
      "source": [
        "Mount google drive to access the pre-processed integrated dataset\n"
      ]
    },
    {
      "cell_type": "code",
      "metadata": {
        "id": "c2BxTbrlvtdP",
        "colab_type": "code",
        "outputId": "8b9aae07-c3fe-4c29-d7d6-91a77d77aeba",
        "colab": {
          "base_uri": "https://localhost:8080/",
          "height": 34
        }
      },
      "source": [
        "from google.colab import drive\n",
        "drive.mount('/content/drive', force_remount=True)"
      ],
      "execution_count": 2,
      "outputs": [
        {
          "output_type": "stream",
          "text": [
            "Mounted at /content/drive\n"
          ],
          "name": "stdout"
        }
      ]
    },
    {
      "cell_type": "markdown",
      "metadata": {
        "id": "6pcTw_LNRf5p",
        "colab_type": "text"
      },
      "source": [
        "Load integrated dataset"
      ]
    },
    {
      "cell_type": "code",
      "metadata": {
        "id": "gQdM__hPvqPa",
        "colab_type": "code",
        "colab": {}
      },
      "source": [
        "df=pd.read_csv('/content/drive/Shared drives/Project_256/Complete_Data_new.gz', compression=\"gzip\")"
      ],
      "execution_count": 0,
      "outputs": []
    },
    {
      "cell_type": "markdown",
      "metadata": {
        "id": "FzHG1NtURxbW",
        "colab_type": "text"
      },
      "source": [
        "Our integrated dataset is around 7.3 million"
      ]
    },
    {
      "cell_type": "code",
      "metadata": {
        "id": "osBW6Ur4lHak",
        "colab_type": "code",
        "outputId": "19eee5a9-acb7-4ac6-da8f-da5c6a8d43a8",
        "colab": {
          "base_uri": "https://localhost:8080/",
          "height": 34
        }
      },
      "source": [
        "len(df)"
      ],
      "execution_count": 4,
      "outputs": [
        {
          "output_type": "execute_result",
          "data": {
            "text/plain": [
              "7347630"
            ]
          },
          "metadata": {
            "tags": []
          },
          "execution_count": 4
        }
      ]
    },
    {
      "cell_type": "code",
      "metadata": {
        "id": "Ch3JFAt_xpCq",
        "colab_type": "code",
        "outputId": "b3ca353d-467d-42e4-a5d7-1251fc7f3932",
        "colab": {
          "base_uri": "https://localhost:8080/",
          "height": 581
        }
      },
      "source": [
        "df.head()"
      ],
      "execution_count": 5,
      "outputs": [
        {
          "output_type": "execute_result",
          "data": {
            "text/html": [
              "<div>\n",
              "<style scoped>\n",
              "    .dataframe tbody tr th:only-of-type {\n",
              "        vertical-align: middle;\n",
              "    }\n",
              "\n",
              "    .dataframe tbody tr th {\n",
              "        vertical-align: top;\n",
              "    }\n",
              "\n",
              "    .dataframe thead th {\n",
              "        text-align: right;\n",
              "    }\n",
              "</style>\n",
              "<table border=\"1\" class=\"dataframe\">\n",
              "  <thead>\n",
              "    <tr style=\"text-align: right;\">\n",
              "      <th></th>\n",
              "      <th>Unnamed: 0</th>\n",
              "      <th>text_reviews_count</th>\n",
              "      <th>country_code</th>\n",
              "      <th>language_code</th>\n",
              "      <th>popular_shelves</th>\n",
              "      <th>is_ebook</th>\n",
              "      <th>average_rating</th>\n",
              "      <th>description</th>\n",
              "      <th>authors</th>\n",
              "      <th>publication_year</th>\n",
              "      <th>book_id</th>\n",
              "      <th>ratings_count</th>\n",
              "      <th>title</th>\n",
              "      <th>title_without_series</th>\n",
              "      <th>user_id</th>\n",
              "      <th>review_id</th>\n",
              "      <th>is_read</th>\n",
              "      <th>rating</th>\n",
              "      <th>date_added</th>\n",
              "      <th>date_updated</th>\n",
              "      <th>read_at</th>\n",
              "      <th>started_at</th>\n",
              "      <th>review_text</th>\n",
              "      <th>n_votes</th>\n",
              "      <th>n_comments</th>\n",
              "      <th>authorid</th>\n",
              "    </tr>\n",
              "  </thead>\n",
              "  <tbody>\n",
              "    <tr>\n",
              "      <th>0</th>\n",
              "      <td>0</td>\n",
              "      <td>1</td>\n",
              "      <td>US</td>\n",
              "      <td>NaN</td>\n",
              "      <td>[{'count': '228', 'name': 'to-read'}, {'count'...</td>\n",
              "      <td>True</td>\n",
              "      <td>4.12</td>\n",
              "      <td>Lillian Ann Cross is forced to live the worst ...</td>\n",
              "      <td>[{'author_id': '8551671', 'role': ''}]</td>\n",
              "      <td>NaN</td>\n",
              "      <td>25742454</td>\n",
              "      <td>1</td>\n",
              "      <td>The Switchblade Mamma</td>\n",
              "      <td>The Switchblade Mamma</td>\n",
              "      <td>f1830550c10246b9924d03fbb7858a3b</td>\n",
              "      <td>cadab2ad2d162553b3b6b2a5884ec0ea</td>\n",
              "      <td>True</td>\n",
              "      <td>5</td>\n",
              "      <td>Wed Jun 15 16:38:58 -0700 2016</td>\n",
              "      <td>Wed Jun 15 16:38:59 -0700 2016</td>\n",
              "      <td>Wed Jun 15 16:38:59 -0700 2016</td>\n",
              "      <td>NaN</td>\n",
              "      <td>Raw and amazing \\n This book is unlike any oth...</td>\n",
              "      <td>0.0</td>\n",
              "      <td>0.0</td>\n",
              "      <td>['8551671']</td>\n",
              "    </tr>\n",
              "    <tr>\n",
              "      <th>1</th>\n",
              "      <td>1</td>\n",
              "      <td>2</td>\n",
              "      <td>US</td>\n",
              "      <td>fre</td>\n",
              "      <td>[{'count': '2', 'name': 'bd'}, {'count': '2', ...</td>\n",
              "      <td>False</td>\n",
              "      <td>3.94</td>\n",
              "      <td>Florence Dupre Latour raconte comment, de son ...</td>\n",
              "      <td>[{'author_id': '3274315', 'role': ''}]</td>\n",
              "      <td>2016.0</td>\n",
              "      <td>30128855</td>\n",
              "      <td>16</td>\n",
              "      <td>Cruelle</td>\n",
              "      <td>Cruelle</td>\n",
              "      <td>12c0f4c16b6cad9f595fc99f3dcb49d4</td>\n",
              "      <td>60158dd333055f54053506e590cc1291</td>\n",
              "      <td>True</td>\n",
              "      <td>4</td>\n",
              "      <td>Mon May 09 05:03:09 -0700 2016</td>\n",
              "      <td>Tue May 10 07:07:51 -0700 2016</td>\n",
              "      <td>Mon May 09 00:00:00 -0700 2016</td>\n",
              "      <td>NaN</td>\n",
              "      <td>NaN</td>\n",
              "      <td>NaN</td>\n",
              "      <td>NaN</td>\n",
              "      <td>['3274315']</td>\n",
              "    </tr>\n",
              "    <tr>\n",
              "      <th>2</th>\n",
              "      <td>2</td>\n",
              "      <td>2</td>\n",
              "      <td>US</td>\n",
              "      <td>fre</td>\n",
              "      <td>[{'count': '2', 'name': 'bd'}, {'count': '2', ...</td>\n",
              "      <td>False</td>\n",
              "      <td>3.94</td>\n",
              "      <td>Florence Dupre Latour raconte comment, de son ...</td>\n",
              "      <td>[{'author_id': '3274315', 'role': ''}]</td>\n",
              "      <td>2016.0</td>\n",
              "      <td>30128855</td>\n",
              "      <td>16</td>\n",
              "      <td>Cruelle</td>\n",
              "      <td>Cruelle</td>\n",
              "      <td>bdd5da2d7c778880e20573efd4df888a</td>\n",
              "      <td>a4b605858b28feff2cb14018839950d1</td>\n",
              "      <td>True</td>\n",
              "      <td>5</td>\n",
              "      <td>Sat Jan 21 07:18:46 -0800 2017</td>\n",
              "      <td>Sun Feb 05 06:35:09 -0800 2017</td>\n",
              "      <td>Sun Feb 05 06:35:09 -0800 2017</td>\n",
              "      <td>Sat Jan 21 00:00:00 -0800 2017</td>\n",
              "      <td>NaN</td>\n",
              "      <td>NaN</td>\n",
              "      <td>NaN</td>\n",
              "      <td>['3274315']</td>\n",
              "    </tr>\n",
              "    <tr>\n",
              "      <th>3</th>\n",
              "      <td>3</td>\n",
              "      <td>2</td>\n",
              "      <td>US</td>\n",
              "      <td>fre</td>\n",
              "      <td>[{'count': '2', 'name': 'bd'}, {'count': '2', ...</td>\n",
              "      <td>False</td>\n",
              "      <td>3.94</td>\n",
              "      <td>Florence Dupre Latour raconte comment, de son ...</td>\n",
              "      <td>[{'author_id': '3274315', 'role': ''}]</td>\n",
              "      <td>2016.0</td>\n",
              "      <td>30128855</td>\n",
              "      <td>16</td>\n",
              "      <td>Cruelle</td>\n",
              "      <td>Cruelle</td>\n",
              "      <td>15b0c6dbe18c5e493b39aaa30cb6d2b8</td>\n",
              "      <td>111f1d4941d77877558c4a4ffff87239</td>\n",
              "      <td>False</td>\n",
              "      <td>0</td>\n",
              "      <td>Mon Apr 24 08:28:14 -0700 2017</td>\n",
              "      <td>Mon Apr 24 08:28:20 -0700 2017</td>\n",
              "      <td>NaN</td>\n",
              "      <td>NaN</td>\n",
              "      <td>NaN</td>\n",
              "      <td>NaN</td>\n",
              "      <td>NaN</td>\n",
              "      <td>['3274315']</td>\n",
              "    </tr>\n",
              "    <tr>\n",
              "      <th>4</th>\n",
              "      <td>4</td>\n",
              "      <td>2</td>\n",
              "      <td>US</td>\n",
              "      <td>fre</td>\n",
              "      <td>[{'count': '2', 'name': 'bd'}, {'count': '2', ...</td>\n",
              "      <td>False</td>\n",
              "      <td>3.94</td>\n",
              "      <td>Florence Dupre Latour raconte comment, de son ...</td>\n",
              "      <td>[{'author_id': '3274315', 'role': ''}]</td>\n",
              "      <td>2016.0</td>\n",
              "      <td>30128855</td>\n",
              "      <td>16</td>\n",
              "      <td>Cruelle</td>\n",
              "      <td>Cruelle</td>\n",
              "      <td>dc9f898ef44e9d38d8eb92a7bde1341d</td>\n",
              "      <td>831e2005e78a56b1f90b26877eeea1f3</td>\n",
              "      <td>True</td>\n",
              "      <td>2</td>\n",
              "      <td>Sun Aug 28 16:15:38 -0700 2016</td>\n",
              "      <td>Thu Sep 08 16:51:22 -0700 2016</td>\n",
              "      <td>Thu Sep 08 16:51:22 -0700 2016</td>\n",
              "      <td>NaN</td>\n",
              "      <td>NaN</td>\n",
              "      <td>NaN</td>\n",
              "      <td>NaN</td>\n",
              "      <td>['3274315']</td>\n",
              "    </tr>\n",
              "  </tbody>\n",
              "</table>\n",
              "</div>"
            ],
            "text/plain": [
              "   Unnamed: 0  text_reviews_count  ... n_comments     authorid\n",
              "0           0                   1  ...        0.0  ['8551671']\n",
              "1           1                   2  ...        NaN  ['3274315']\n",
              "2           2                   2  ...        NaN  ['3274315']\n",
              "3           3                   2  ...        NaN  ['3274315']\n",
              "4           4                   2  ...        NaN  ['3274315']\n",
              "\n",
              "[5 rows x 26 columns]"
            ]
          },
          "metadata": {
            "tags": []
          },
          "execution_count": 5
        }
      ]
    },
    {
      "cell_type": "code",
      "metadata": {
        "id": "O49Qkx0KyTV6",
        "colab_type": "code",
        "outputId": "a97bde40-b82f-4765-cb38-6e3507f6e7c7",
        "colab": {
          "base_uri": "https://localhost:8080/",
          "height": 544
        }
      },
      "source": [
        "df.info()"
      ],
      "execution_count": 6,
      "outputs": [
        {
          "output_type": "stream",
          "text": [
            "<class 'pandas.core.frame.DataFrame'>\n",
            "RangeIndex: 7347630 entries, 0 to 7347629\n",
            "Data columns (total 26 columns):\n",
            "Unnamed: 0              int64\n",
            "text_reviews_count      int64\n",
            "country_code            object\n",
            "language_code           object\n",
            "popular_shelves         object\n",
            "is_ebook                bool\n",
            "average_rating          float64\n",
            "description             object\n",
            "authors                 object\n",
            "publication_year        float64\n",
            "book_id                 int64\n",
            "ratings_count           int64\n",
            "title                   object\n",
            "title_without_series    object\n",
            "user_id                 object\n",
            "review_id               object\n",
            "is_read                 bool\n",
            "rating                  int64\n",
            "date_added              object\n",
            "date_updated            object\n",
            "read_at                 object\n",
            "started_at              object\n",
            "review_text             object\n",
            "n_votes                 float64\n",
            "n_comments              float64\n",
            "authorid                object\n",
            "dtypes: bool(2), float64(4), int64(5), object(15)\n",
            "memory usage: 1.3+ GB\n"
          ],
          "name": "stdout"
        }
      ]
    },
    {
      "cell_type": "markdown",
      "metadata": {
        "id": "MKO9NVMRRv8z",
        "colab_type": "text"
      },
      "source": [
        "Check for columns having null nalues\n"
      ]
    },
    {
      "cell_type": "code",
      "metadata": {
        "id": "VLdKnVcSyj8L",
        "colab_type": "code",
        "outputId": "c5b4b9ae-43b2-4ca5-9f40-0474572d489b",
        "colab": {
          "base_uri": "https://localhost:8080/",
          "height": 476
        }
      },
      "source": [
        "df.isnull().sum()"
      ],
      "execution_count": 7,
      "outputs": [
        {
          "output_type": "execute_result",
          "data": {
            "text/plain": [
              "Unnamed: 0                    0\n",
              "text_reviews_count            0\n",
              "country_code                  0\n",
              "language_code           1149907\n",
              "popular_shelves               0\n",
              "is_ebook                      0\n",
              "average_rating                0\n",
              "description              529032\n",
              "authors                       0\n",
              "publication_year         829880\n",
              "book_id                       0\n",
              "ratings_count                 0\n",
              "title                         0\n",
              "title_without_series          0\n",
              "user_id                       0\n",
              "review_id                     0\n",
              "is_read                       0\n",
              "rating                        0\n",
              "date_added                    0\n",
              "date_updated                  0\n",
              "read_at                 5086379\n",
              "started_at              5856311\n",
              "review_text             6805615\n",
              "n_votes                 6805292\n",
              "n_comments              6805292\n",
              "authorid                      0\n",
              "dtype: int64"
            ]
          },
          "metadata": {
            "tags": []
          },
          "execution_count": 7
        }
      ]
    },
    {
      "cell_type": "markdown",
      "metadata": {
        "id": "sXk2qEyOR-NH",
        "colab_type": "text"
      },
      "source": [
        "Data visualization for distribution of users across ratings   "
      ]
    },
    {
      "cell_type": "code",
      "metadata": {
        "id": "QDOvtsPFLeKA",
        "colab_type": "code",
        "colab": {}
      },
      "source": [
        "shelve_user = df['user_id'].value_counts().value_counts().reset_index().sort_values('index').values\n",
        "read_user = df['user_id'].loc[df['is_read']>0].value_counts().value_counts().reset_index().sort_values('index').values\n",
        "rate_user = df['user_id'].loc[df['rating']>0].value_counts().value_counts().reset_index().sort_values('index').values\n",
        "\n",
        "shelve_book = df['book_id'].value_counts().value_counts().reset_index().sort_values('index').values\n",
        "read_book = df['book_id'].loc[df['is_read']>0].value_counts().value_counts().reset_index().sort_values('index').values\n",
        "rate_book = df['book_id'].loc[df['rating']>0].value_counts().value_counts().reset_index().sort_values('index').values\n"
      ],
      "execution_count": 0,
      "outputs": []
    },
    {
      "cell_type": "code",
      "metadata": {
        "id": "GYhFxk88MG7t",
        "colab_type": "code",
        "outputId": "0ef3fb7d-299e-4c9e-ae23-a2dcde20257a",
        "colab": {
          "base_uri": "https://localhost:8080/",
          "height": 370
        }
      },
      "source": [
        "plt.figure(figsize=(5,5))\n",
        "plt.loglog(shelve_user[:,0], shelve_user[:,1], label='shelve')\n",
        "plt.loglog(read_user[:,0], read_user[:,1], label='read')\n",
        "plt.loglog(rate_user[:,0], rate_user[:,1], label='rate')\n",
        "#plt.loglog(review_user[:,0], review_user[:,1], label='review')\n",
        "plt.xlabel('rank')\n",
        "plt.ylabel('frequency')\n",
        "plt.title('Log-Log Plot of the Distribution of Users')\n",
        "plt.legend(loc='upper right')"
      ],
      "execution_count": 9,
      "outputs": [
        {
          "output_type": "execute_result",
          "data": {
            "text/plain": [
              "<matplotlib.legend.Legend at 0x7f0813ccbb38>"
            ]
          },
          "metadata": {
            "tags": []
          },
          "execution_count": 9
        },
        {
          "output_type": "display_data",
          "data": {
            "image/png": "[encoded data removed]",
            "text/plain": [
              "<Figure size 360x360 with 1 Axes>"
            ]
          },
          "metadata": {
            "tags": []
          }
        }
      ]
    },
    {
      "cell_type": "markdown",
      "metadata": {
        "id": "UMKQzOLTTOoQ",
        "colab_type": "text"
      },
      "source": [
        "Data visualization for distribution of books across ratings"
      ]
    },
    {
      "cell_type": "code",
      "metadata": {
        "id": "yZkDgZgKSs2Q",
        "colab_type": "code",
        "outputId": "51e9c4e9-45f8-4fc2-c7ad-1c0a8d701822",
        "colab": {
          "base_uri": "https://localhost:8080/",
          "height": 370
        }
      },
      "source": [
        "plt.figure(figsize=(5,5))\n",
        "plt.loglog(shelve_book[:,0], shelve_book[:,1], label='shelve')\n",
        "plt.loglog(read_book[:,0], read_book[:,1], label='read')\n",
        "plt.loglog(rate_book[:,0], rate_book[:,1], label='rate')\n",
        "\n",
        "plt.xlabel('rank')\n",
        "plt.ylabel('frequency')\n",
        "plt.title('Log-Log Plot of the Distribution of books')\n",
        "plt.legend(loc='upper right')"
      ],
      "execution_count": 10,
      "outputs": [
        {
          "output_type": "execute_result",
          "data": {
            "text/plain": [
              "<matplotlib.legend.Legend at 0x7f081363d828>"
            ]
          },
          "metadata": {
            "tags": []
          },
          "execution_count": 10
        },
        {
          "output_type": "display_data",
          "data": {
            "image/png": "[encoded data removed]",
            "text/plain": [
              "<Figure size 360x360 with 1 Axes>"
            ]
          },
          "metadata": {
            "tags": []
          }
        }
      ]
    },
    {
      "cell_type": "markdown",
      "metadata": {
        "id": "GkVXKumITTSs",
        "colab_type": "text"
      },
      "source": [
        "Drop features not required for the algorithm"
      ]
    },
    {
      "cell_type": "code",
      "metadata": {
        "id": "OKAXg2Yfx7-c",
        "colab_type": "code",
        "colab": {}
      },
      "source": [
        "data = df[['user_id', 'book_id', 'date_added', 'title']]\n",
        "data['book_id']= data['book_id'].astype(str)"
      ],
      "execution_count": 0,
      "outputs": []
    },
    {
      "cell_type": "code",
      "metadata": {
        "id": "3duJHZ5Cy0Zz",
        "colab_type": "code",
        "outputId": "e4a4a9fc-b08d-4f7b-cb13-f9b15e08d4cd",
        "colab": {
          "base_uri": "https://localhost:8080/",
          "height": 204
        }
      },
      "source": [
        "data.head()"
      ],
      "execution_count": 12,
      "outputs": [
        {
          "output_type": "execute_result",
          "data": {
            "text/html": [
              "<div>\n",
              "<style scoped>\n",
              "    .dataframe tbody tr th:only-of-type {\n",
              "        vertical-align: middle;\n",
              "    }\n",
              "\n",
              "    .dataframe tbody tr th {\n",
              "        vertical-align: top;\n",
              "    }\n",
              "\n",
              "    .dataframe thead th {\n",
              "        text-align: right;\n",
              "    }\n",
              "</style>\n",
              "<table border=\"1\" class=\"dataframe\">\n",
              "  <thead>\n",
              "    <tr style=\"text-align: right;\">\n",
              "      <th></th>\n",
              "      <th>user_id</th>\n",
              "      <th>book_id</th>\n",
              "      <th>date_added</th>\n",
              "      <th>title</th>\n",
              "    </tr>\n",
              "  </thead>\n",
              "  <tbody>\n",
              "    <tr>\n",
              "      <th>0</th>\n",
              "      <td>f1830550c10246b9924d03fbb7858a3b</td>\n",
              "      <td>25742454</td>\n",
              "      <td>Wed Jun 15 16:38:58 -0700 2016</td>\n",
              "      <td>The Switchblade Mamma</td>\n",
              "    </tr>\n",
              "    <tr>\n",
              "      <th>1</th>\n",
              "      <td>12c0f4c16b6cad9f595fc99f3dcb49d4</td>\n",
              "      <td>30128855</td>\n",
              "      <td>Mon May 09 05:03:09 -0700 2016</td>\n",
              "      <td>Cruelle</td>\n",
              "    </tr>\n",
              "    <tr>\n",
              "      <th>2</th>\n",
              "      <td>bdd5da2d7c778880e20573efd4df888a</td>\n",
              "      <td>30128855</td>\n",
              "      <td>Sat Jan 21 07:18:46 -0800 2017</td>\n",
              "      <td>Cruelle</td>\n",
              "    </tr>\n",
              "    <tr>\n",
              "      <th>3</th>\n",
              "      <td>15b0c6dbe18c5e493b39aaa30cb6d2b8</td>\n",
              "      <td>30128855</td>\n",
              "      <td>Mon Apr 24 08:28:14 -0700 2017</td>\n",
              "      <td>Cruelle</td>\n",
              "    </tr>\n",
              "    <tr>\n",
              "      <th>4</th>\n",
              "      <td>dc9f898ef44e9d38d8eb92a7bde1341d</td>\n",
              "      <td>30128855</td>\n",
              "      <td>Sun Aug 28 16:15:38 -0700 2016</td>\n",
              "      <td>Cruelle</td>\n",
              "    </tr>\n",
              "  </tbody>\n",
              "</table>\n",
              "</div>"
            ],
            "text/plain": [
              "                            user_id  ...                  title\n",
              "0  f1830550c10246b9924d03fbb7858a3b  ...  The Switchblade Mamma\n",
              "1  12c0f4c16b6cad9f595fc99f3dcb49d4  ...                Cruelle\n",
              "2  bdd5da2d7c778880e20573efd4df888a  ...                Cruelle\n",
              "3  15b0c6dbe18c5e493b39aaa30cb6d2b8  ...                Cruelle\n",
              "4  dc9f898ef44e9d38d8eb92a7bde1341d  ...                Cruelle\n",
              "\n",
              "[5 rows x 4 columns]"
            ]
          },
          "metadata": {
            "tags": []
          },
          "execution_count": 12
        }
      ]
    },
    {
      "cell_type": "markdown",
      "metadata": {
        "id": "w6XRoKQUTpy2",
        "colab_type": "text"
      },
      "source": [
        "Change format of date column to the required format. We need to sort the date later so that the reading history is in ascending order (by date) for each user\n"
      ]
    },
    {
      "cell_type": "code",
      "metadata": {
        "id": "0EMshIG6RJa2",
        "colab_type": "code",
        "colab": {}
      },
      "source": [
        "import dateutil\n",
        "data['date_added'] = data['date_added'].apply(dateutil.parser.parse, ignoretz=True)"
      ],
      "execution_count": 0,
      "outputs": []
    },
    {
      "cell_type": "code",
      "metadata": {
        "id": "NNDDKsFYRp7R",
        "colab_type": "code",
        "outputId": "7300fe2f-df76-4503-aaae-5d981b7f748f",
        "colab": {
          "base_uri": "https://localhost:8080/",
          "height": 204
        }
      },
      "source": [
        "data.head()"
      ],
      "execution_count": 14,
      "outputs": [
        {
          "output_type": "execute_result",
          "data": {
            "text/html": [
              "<div>\n",
              "<style scoped>\n",
              "    .dataframe tbody tr th:only-of-type {\n",
              "        vertical-align: middle;\n",
              "    }\n",
              "\n",
              "    .dataframe tbody tr th {\n",
              "        vertical-align: top;\n",
              "    }\n",
              "\n",
              "    .dataframe thead th {\n",
              "        text-align: right;\n",
              "    }\n",
              "</style>\n",
              "<table border=\"1\" class=\"dataframe\">\n",
              "  <thead>\n",
              "    <tr style=\"text-align: right;\">\n",
              "      <th></th>\n",
              "      <th>user_id</th>\n",
              "      <th>book_id</th>\n",
              "      <th>date_added</th>\n",
              "      <th>title</th>\n",
              "    </tr>\n",
              "  </thead>\n",
              "  <tbody>\n",
              "    <tr>\n",
              "      <th>0</th>\n",
              "      <td>f1830550c10246b9924d03fbb7858a3b</td>\n",
              "      <td>25742454</td>\n",
              "      <td>2016-06-15 16:38:58</td>\n",
              "      <td>The Switchblade Mamma</td>\n",
              "    </tr>\n",
              "    <tr>\n",
              "      <th>1</th>\n",
              "      <td>12c0f4c16b6cad9f595fc99f3dcb49d4</td>\n",
              "      <td>30128855</td>\n",
              "      <td>2016-05-09 05:03:09</td>\n",
              "      <td>Cruelle</td>\n",
              "    </tr>\n",
              "    <tr>\n",
              "      <th>2</th>\n",
              "      <td>bdd5da2d7c778880e20573efd4df888a</td>\n",
              "      <td>30128855</td>\n",
              "      <td>2017-01-21 07:18:46</td>\n",
              "      <td>Cruelle</td>\n",
              "    </tr>\n",
              "    <tr>\n",
              "      <th>3</th>\n",
              "      <td>15b0c6dbe18c5e493b39aaa30cb6d2b8</td>\n",
              "      <td>30128855</td>\n",
              "      <td>2017-04-24 08:28:14</td>\n",
              "      <td>Cruelle</td>\n",
              "    </tr>\n",
              "    <tr>\n",
              "      <th>4</th>\n",
              "      <td>dc9f898ef44e9d38d8eb92a7bde1341d</td>\n",
              "      <td>30128855</td>\n",
              "      <td>2016-08-28 16:15:38</td>\n",
              "      <td>Cruelle</td>\n",
              "    </tr>\n",
              "  </tbody>\n",
              "</table>\n",
              "</div>"
            ],
            "text/plain": [
              "                            user_id  ...                  title\n",
              "0  f1830550c10246b9924d03fbb7858a3b  ...  The Switchblade Mamma\n",
              "1  12c0f4c16b6cad9f595fc99f3dcb49d4  ...                Cruelle\n",
              "2  bdd5da2d7c778880e20573efd4df888a  ...                Cruelle\n",
              "3  15b0c6dbe18c5e493b39aaa30cb6d2b8  ...                Cruelle\n",
              "4  dc9f898ef44e9d38d8eb92a7bde1341d  ...                Cruelle\n",
              "\n",
              "[5 rows x 4 columns]"
            ]
          },
          "metadata": {
            "tags": []
          },
          "execution_count": 14
        }
      ]
    },
    {
      "cell_type": "code",
      "metadata": {
        "id": "gOYuqTuY_FWx",
        "colab_type": "code",
        "outputId": "b1d5cd89-ab39-4f7e-c263-1fb329f2168c",
        "colab": {
          "base_uri": "https://localhost:8080/",
          "height": 34
        }
      },
      "source": [
        "# check number of unique users \n",
        "users = data[\"user_id\"].unique().tolist()\n",
        "len(users)"
      ],
      "execution_count": 15,
      "outputs": [
        {
          "output_type": "execute_result",
          "data": {
            "text/plain": [
              "342415"
            ]
          },
          "metadata": {
            "tags": []
          },
          "execution_count": 15
        }
      ]
    },
    {
      "cell_type": "markdown",
      "metadata": {
        "id": "At20NOXwNjOz",
        "colab_type": "text"
      },
      "source": [
        "We have to split the users in training and validation set. \n",
        "90% users will be in training set and 10% in validation set. We cannot split the same user across training and validation as that will change the reading history. Maintaining a sequence of the reading history is crucial for our algorithm and thus training and validation set has distint users"
      ]
    },
    {
      "cell_type": "code",
      "metadata": {
        "id": "AxUN7QAG_X-q",
        "colab_type": "code",
        "outputId": "fc54389c-93ea-448c-afcf-a1361527fe16",
        "colab": {
          "base_uri": "https://localhost:8080/",
          "height": 34
        }
      },
      "source": [
        "# Compute 90% of the readers that would be in training set \n",
        "import random\n",
        "random.shuffle(users)\n",
        "\n",
        "# extract 90% of customer ID's\n",
        "user_train = [users[i] for i in range(round(0.9*len(users)))]\n",
        "len(user_train)\n"
      ],
      "execution_count": 16,
      "outputs": [
        {
          "output_type": "execute_result",
          "data": {
            "text/plain": [
              "308174"
            ]
          },
          "metadata": {
            "tags": []
          },
          "execution_count": 16
        }
      ]
    },
    {
      "cell_type": "code",
      "metadata": {
        "id": "41ah7aA6Os8m",
        "colab_type": "code",
        "outputId": "422526dd-4dee-406a-a44f-63b7fc96f252",
        "colab": {
          "base_uri": "https://localhost:8080/",
          "height": 255
        }
      },
      "source": [
        "# split data into train and validation set\n",
        "train_df = data[data['user_id'].isin(user_train)]\n",
        "print(train_df)\n"
      ],
      "execution_count": 17,
      "outputs": [
        {
          "output_type": "stream",
          "text": [
            "                                  user_id  ...                  title\n",
            "0        f1830550c10246b9924d03fbb7858a3b  ...  The Switchblade Mamma\n",
            "1        12c0f4c16b6cad9f595fc99f3dcb49d4  ...                Cruelle\n",
            "2        bdd5da2d7c778880e20573efd4df888a  ...                Cruelle\n",
            "3        15b0c6dbe18c5e493b39aaa30cb6d2b8  ...                Cruelle\n",
            "4        dc9f898ef44e9d38d8eb92a7bde1341d  ...                Cruelle\n",
            "...                                   ...  ...                    ...\n",
            "7347625  40cad038063319b661615c26cb2b3c18  ...           Dead Endings\n",
            "7347626  8bcf48afa72aba125b53749c2e7c9ad4  ...           Dead Endings\n",
            "7347627  699b0a72e1e07abc5a6d2736b109928f  ...           Dead Endings\n",
            "7347628  262b53abd0d2da2e8d02c362fdeaf4f5  ...           Dead Endings\n",
            "7347629  5fa1e552e5aeb58c6d97614c51bfb1d4  ...           Dead Endings\n",
            "\n",
            "[6605320 rows x 4 columns]\n"
          ],
          "name": "stdout"
        }
      ]
    },
    {
      "cell_type": "markdown",
      "metadata": {
        "id": "7FDY6uFYQ7bX",
        "colab_type": "text"
      },
      "source": [
        "Create validation set"
      ]
    },
    {
      "cell_type": "code",
      "metadata": {
        "id": "IaKcAMZmPwIs",
        "colab_type": "code",
        "outputId": "c25f59e5-b9d9-4d12-de93-1d40645cfc16",
        "colab": {
          "base_uri": "https://localhost:8080/",
          "height": 255
        }
      },
      "source": [
        "validation_df = data[~data['user_id'].isin(user_train)]\n",
        "print(validation_df)"
      ],
      "execution_count": 18,
      "outputs": [
        {
          "output_type": "stream",
          "text": [
            "                                  user_id  ...                                              title\n",
            "11       568ce0dddc00192a814476ab5441acbb  ...  Captain America: Winter Soldier (The Ultimate ...\n",
            "15       d3da1e8ba321542682ead25338151a4e  ...  Captain America: Winter Soldier (The Ultimate ...\n",
            "31       37dfd2fde74fa43b6e450f235552f931  ...                          Superman Archives, Vol. 2\n",
            "33       f4f441666d92c5341544ccfaa6ebde2f  ...                          Superman Archives, Vol. 2\n",
            "39       346f91494d1ea00dad76716cbac4885d  ...                          Superman Archives, Vol. 2\n",
            "...                                   ...  ...                                                ...\n",
            "7347593  8a75075954066085fb6ff5d411cb101b  ...               Doctor Who: Free Comic Book Day 2016\n",
            "7347596  70dee778edaca0c6d7122a2b4499aed6  ...               Doctor Who: Free Comic Book Day 2016\n",
            "7347607  425f4655755ddeb9e245739bb9ab0464  ...                  La búsqueda del pájaro del tiempo\n",
            "7347614  37af4b5cba111b0bb968f54731bb9b36  ...                                    Dejah Thoris #1\n",
            "7347623  2e6924186dcf859659a56c65c93d77ed  ...                                       Dead Endings\n",
            "\n",
            "[742310 rows x 4 columns]\n"
          ],
          "name": "stdout"
        }
      ]
    },
    {
      "cell_type": "markdown",
      "metadata": {
        "id": "OBsUnplkUhso",
        "colab_type": "text"
      },
      "source": [
        "Test some grouping functions which are to be used later\n",
        "\n",
        "\n"
      ]
    },
    {
      "cell_type": "code",
      "metadata": {
        "id": "VO0dFWj0R8Aj",
        "colab_type": "code",
        "colab": {}
      },
      "source": [
        "#train_df.groupby(['user_id']).groups.keys()"
      ],
      "execution_count": 0,
      "outputs": []
    },
    {
      "cell_type": "code",
      "metadata": {
        "id": "5c0BNTOIbF47",
        "colab_type": "code",
        "colab": {}
      },
      "source": [
        "# train_df[train_df.user_id == 'bd53fcba9dbb9ca1d2ca1551b44007e7'\t]"
      ],
      "execution_count": 0,
      "outputs": []
    },
    {
      "cell_type": "code",
      "metadata": {
        "id": "ikXngLstUidZ",
        "colab_type": "code",
        "colab": {}
      },
      "source": [
        "#train_df.groupby('user_id')['book_id'].count()"
      ],
      "execution_count": 0,
      "outputs": []
    },
    {
      "cell_type": "markdown",
      "metadata": {
        "id": "Tp4w8q7xw325",
        "colab_type": "text"
      },
      "source": [
        "Group By user id and then sort by date"
      ]
    },
    {
      "cell_type": "code",
      "metadata": {
        "id": "-3zZPXaHSULv",
        "colab_type": "code",
        "colab": {}
      },
      "source": [
        "grouped = train_df.groupby(['user_id'],as_index=False).apply(lambda x: x.sort_values([\"date_added\"], ascending = True))\n"
      ],
      "execution_count": 0,
      "outputs": []
    },
    {
      "cell_type": "code",
      "metadata": {
        "id": "sNe5BZ5dVAal",
        "colab_type": "code",
        "outputId": "f3fa21a5-1409-4ca3-bf47-e8783d051ba2",
        "colab": {
          "base_uri": "https://localhost:8080/",
          "height": 419
        }
      },
      "source": [
        "grouped.head(100)"
      ],
      "execution_count": 23,
      "outputs": [
        {
          "output_type": "execute_result",
          "data": {
            "text/html": [
              "<div>\n",
              "<style scoped>\n",
              "    .dataframe tbody tr th:only-of-type {\n",
              "        vertical-align: middle;\n",
              "    }\n",
              "\n",
              "    .dataframe tbody tr th {\n",
              "        vertical-align: top;\n",
              "    }\n",
              "\n",
              "    .dataframe thead th {\n",
              "        text-align: right;\n",
              "    }\n",
              "</style>\n",
              "<table border=\"1\" class=\"dataframe\">\n",
              "  <thead>\n",
              "    <tr style=\"text-align: right;\">\n",
              "      <th></th>\n",
              "      <th></th>\n",
              "      <th>user_id</th>\n",
              "      <th>book_id</th>\n",
              "      <th>date_added</th>\n",
              "      <th>title</th>\n",
              "    </tr>\n",
              "  </thead>\n",
              "  <tbody>\n",
              "    <tr>\n",
              "      <th rowspan=\"5\" valign=\"top\">0</th>\n",
              "      <th>2374691</th>\n",
              "      <td>00004584d524ec468619e81b176cc991</td>\n",
              "      <td>271199</td>\n",
              "      <td>2013-06-21 10:23:44</td>\n",
              "      <td>Fruits Basket, Vol. 1</td>\n",
              "    </tr>\n",
              "    <tr>\n",
              "      <th>5526315</th>\n",
              "      <td>00004584d524ec468619e81b176cc991</td>\n",
              "      <td>287380</td>\n",
              "      <td>2013-06-21 10:24:05</td>\n",
              "      <td>Kare Kano: His and Her Circumstances, Vol. 1</td>\n",
              "    </tr>\n",
              "    <tr>\n",
              "      <th>3147545</th>\n",
              "      <td>00004584d524ec468619e81b176cc991</td>\n",
              "      <td>287379</td>\n",
              "      <td>2013-06-21 10:24:21</td>\n",
              "      <td>Kare Kano: His and Her Circumstances, Vol. 2</td>\n",
              "    </tr>\n",
              "    <tr>\n",
              "      <th>6245556</th>\n",
              "      <td>00004584d524ec468619e81b176cc991</td>\n",
              "      <td>287381</td>\n",
              "      <td>2013-06-21 10:24:31</td>\n",
              "      <td>Kare Kano: His and Her Circumstances, Vol. 12</td>\n",
              "    </tr>\n",
              "    <tr>\n",
              "      <th>3147164</th>\n",
              "      <td>00004584d524ec468619e81b176cc991</td>\n",
              "      <td>287370</td>\n",
              "      <td>2013-06-21 10:24:33</td>\n",
              "      <td>Kare Kano: His and Her Circumstances, Vol. 3</td>\n",
              "    </tr>\n",
              "    <tr>\n",
              "      <th>...</th>\n",
              "      <th>...</th>\n",
              "      <td>...</td>\n",
              "      <td>...</td>\n",
              "      <td>...</td>\n",
              "      <td>...</td>\n",
              "    </tr>\n",
              "    <tr>\n",
              "      <th>12</th>\n",
              "      <th>5173904</th>\n",
              "      <td>000387b0e3d77b6dcc36a66d5cc27347</td>\n",
              "      <td>12731487</td>\n",
              "      <td>2012-03-03 14:33:47</td>\n",
              "      <td>Uglies: Shay's Story (Uglies: Graphic Novel, #1)</td>\n",
              "    </tr>\n",
              "    <tr>\n",
              "      <th rowspan=\"4\" valign=\"top\">13</th>\n",
              "      <th>5917842</th>\n",
              "      <td>0003a8eb2989503d03ad7ca701898a48</td>\n",
              "      <td>204042</td>\n",
              "      <td>2011-12-22 15:03:41</td>\n",
              "      <td>Naruto, Vol. 01: The Tests of the Ninja (Narut...</td>\n",
              "    </tr>\n",
              "    <tr>\n",
              "      <th>4130763</th>\n",
              "      <td>0003a8eb2989503d03ad7ca701898a48</td>\n",
              "      <td>13615</td>\n",
              "      <td>2011-12-22 15:05:12</td>\n",
              "      <td>Death Note, Vol. 1: Boredom (Death Note, #1)</td>\n",
              "    </tr>\n",
              "    <tr>\n",
              "      <th>4829754</th>\n",
              "      <td>0003a8eb2989503d03ad7ca701898a48</td>\n",
              "      <td>17571499</td>\n",
              "      <td>2013-10-06 21:48:19</td>\n",
              "      <td>Bakuman: Complete Box Set</td>\n",
              "    </tr>\n",
              "    <tr>\n",
              "      <th>430293</th>\n",
              "      <td>0003a8eb2989503d03ad7ca701898a48</td>\n",
              "      <td>23479604</td>\n",
              "      <td>2015-05-29 07:59:10</td>\n",
              "      <td>Si Juki: Komik Strip</td>\n",
              "    </tr>\n",
              "  </tbody>\n",
              "</table>\n",
              "<p>100 rows × 4 columns</p>\n",
              "</div>"
            ],
            "text/plain": [
              "                                     user_id  ...                                              title\n",
              "0  2374691  00004584d524ec468619e81b176cc991  ...                              Fruits Basket, Vol. 1\n",
              "   5526315  00004584d524ec468619e81b176cc991  ...       Kare Kano: His and Her Circumstances, Vol. 1\n",
              "   3147545  00004584d524ec468619e81b176cc991  ...       Kare Kano: His and Her Circumstances, Vol. 2\n",
              "   6245556  00004584d524ec468619e81b176cc991  ...      Kare Kano: His and Her Circumstances, Vol. 12\n",
              "   3147164  00004584d524ec468619e81b176cc991  ...       Kare Kano: His and Her Circumstances, Vol. 3\n",
              "...                                      ...  ...                                                ...\n",
              "12 5173904  000387b0e3d77b6dcc36a66d5cc27347  ...   Uglies: Shay's Story (Uglies: Graphic Novel, #1)\n",
              "13 5917842  0003a8eb2989503d03ad7ca701898a48  ...  Naruto, Vol. 01: The Tests of the Ninja (Narut...\n",
              "   4130763  0003a8eb2989503d03ad7ca701898a48  ...       Death Note, Vol. 1: Boredom (Death Note, #1)\n",
              "   4829754  0003a8eb2989503d03ad7ca701898a48  ...                          Bakuman: Complete Box Set\n",
              "   430293   0003a8eb2989503d03ad7ca701898a48  ...                               Si Juki: Komik Strip\n",
              "\n",
              "[100 rows x 4 columns]"
            ]
          },
          "metadata": {
            "tags": []
          },
          "execution_count": 23
        }
      ]
    },
    {
      "cell_type": "markdown",
      "metadata": {
        "id": "Y5pjlz3XxA5T",
        "colab_type": "text"
      },
      "source": [
        "Group by Book Id to get reading history of all users"
      ]
    },
    {
      "cell_type": "code",
      "metadata": {
        "id": "IzzhMmxshH5F",
        "colab_type": "code",
        "colab": {}
      },
      "source": [
        "reading_history = grouped.groupby('user_id')['book_id'].apply(list).reset_index()\n",
        "\n"
      ],
      "execution_count": 0,
      "outputs": []
    },
    {
      "cell_type": "code",
      "metadata": {
        "id": "pXID2gaXje_x",
        "colab_type": "code",
        "outputId": "d1bd5a3c-0e3a-4cde-fd99-376507fa07f4",
        "colab": {
          "base_uri": "https://localhost:8080/",
          "height": 54
        }
      },
      "source": [
        "reading_list = reading_history['book_id'].tolist()\n",
        "print(reading_list[2])"
      ],
      "execution_count": 25,
      "outputs": [
        {
          "output_type": "stream",
          "text": [
            "['472331', '25103', '21330', '5805', '25100', '15719', '1270615', '7746259', '342445', '43808', '30288', '1799011', '6052502', '7278189']\n"
          ],
          "name": "stdout"
        }
      ]
    },
    {
      "cell_type": "markdown",
      "metadata": {
        "id": "GQAq7i7fyBgv",
        "colab_type": "text"
      },
      "source": [
        "Create word embeddings using Word2Vec Model by providing a list of reading history of all users"
      ]
    },
    {
      "cell_type": "code",
      "metadata": {
        "id": "RoCwOQgIfjC9",
        "colab_type": "code",
        "outputId": "bebfd071-7da7-409e-ecb6-9b11c28ede4b",
        "colab": {
          "base_uri": "https://localhost:8080/",
          "height": 34
        }
      },
      "source": [
        "\n",
        "# train word2vec model\n",
        "model = Word2Vec(window = 5, sg = 1,\n",
        "                 # for negative sampling\n",
        "                 min_count=1, size=150, iter=10)\n",
        "\n",
        "model.build_vocab(reading_list, progress_per=200)\n",
        "\n",
        "model.train(reading_list, total_examples = model.corpus_count, \n",
        "            epochs=10, report_delay=1)"
      ],
      "execution_count": 26,
      "outputs": [
        {
          "output_type": "execute_result",
          "data": {
            "text/plain": [
              "(65616877, 66053200)"
            ]
          },
          "metadata": {
            "tags": []
          },
          "execution_count": 26
        }
      ]
    },
    {
      "cell_type": "code",
      "metadata": {
        "id": "IonXLNlcZnHv",
        "colab_type": "code",
        "colab": {}
      },
      "source": [
        "# save word2vec model\n",
        "model.save(\"word2vec_2.model\")"
      ],
      "execution_count": 0,
      "outputs": []
    },
    {
      "cell_type": "code",
      "metadata": {
        "id": "d2T5fYcRf_mw",
        "colab_type": "code",
        "colab": {}
      },
      "source": [
        "model.init_sims(replace=True)"
      ],
      "execution_count": 0,
      "outputs": []
    },
    {
      "cell_type": "code",
      "metadata": {
        "id": "mucDwCTEgBib",
        "colab_type": "code",
        "outputId": "19a1e780-39a0-4b6b-a1c4-16a73fb98ea5",
        "colab": {
          "base_uri": "https://localhost:8080/",
          "height": 34
        }
      },
      "source": [
        "print(model)"
      ],
      "execution_count": 29,
      "outputs": [
        {
          "output_type": "stream",
          "text": [
            "Word2Vec(vocab=88915, size=150, alpha=0.025)\n"
          ],
          "name": "stdout"
        }
      ]
    },
    {
      "cell_type": "code",
      "metadata": {
        "id": "gdcH2Et6gFSQ",
        "colab_type": "code",
        "outputId": "44c3aedc-9f11-480c-9daf-00e8dd343dae",
        "colab": {
          "base_uri": "https://localhost:8080/",
          "height": 34
        }
      },
      "source": [
        "# extract all vectors\n",
        "X = model[model.wv.vocab]\n",
        "\n",
        "X.shape"
      ],
      "execution_count": 30,
      "outputs": [
        {
          "output_type": "execute_result",
          "data": {
            "text/plain": [
              "(88915, 150)"
            ]
          },
          "metadata": {
            "tags": []
          },
          "execution_count": 30
        }
      ]
    },
    {
      "cell_type": "markdown",
      "metadata": {
        "id": "qQs8HEEmyO6S",
        "colab_type": "text"
      },
      "source": [
        "Data visualization for the generated word enbeddings"
      ]
    },
    {
      "cell_type": "code",
      "metadata": {
        "id": "_2FpvrATgF8i",
        "colab_type": "code",
        "outputId": "ba20eb11-ecb5-4d76-fb8c-eff9a43a40a6",
        "colab": {
          "base_uri": "https://localhost:8080/",
          "height": 554
        }
      },
      "source": [
        "import umap\n",
        "\n",
        "cluster_embedding = umap.UMAP(n_neighbors=30, min_dist=0.0,\n",
        "                              n_components=2, random_state=42).fit_transform(X)\n",
        "\n",
        "plt.figure(figsize=(10,9))\n",
        "plt.scatter(cluster_embedding[:, 0], cluster_embedding[:, 1], s=3, cmap='Spectral')"
      ],
      "execution_count": 31,
      "outputs": [
        {
          "output_type": "execute_result",
          "data": {
            "text/plain": [
              "<matplotlib.collections.PathCollection at 0x7f07e7625128>"
            ]
          },
          "metadata": {
            "tags": []
          },
          "execution_count": 31
        },
        {
          "output_type": "display_data",
          "data": {
            "image/png": "[encoded data removed]",
            "text/plain": [
              "<Figure size 720x648 with 1 Axes>"
            ]
          },
          "metadata": {
            "tags": []
          }
        }
      ]
    },
    {
      "cell_type": "code",
      "metadata": {
        "id": "hXjzpsSVqz7B",
        "colab_type": "code",
        "colab": {}
      },
      "source": [
        "books = df[['book_id', 'title']]\n",
        "books['book_id']= books['book_id'].astype(str)\n",
        "# remove duplicates\n",
        "books.drop_duplicates(inplace=True, subset='book_id', keep=\"last\")\n",
        "\n",
        "# create product-ID and product-description dictionary\n",
        "books_dict = books.groupby('book_id')['title'].apply(list).to_dict()"
      ],
      "execution_count": 0,
      "outputs": []
    },
    {
      "cell_type": "markdown",
      "metadata": {
        "id": "eVIZxY5Jyi5F",
        "colab_type": "text"
      },
      "source": [
        "Utility to find similar books"
      ]
    },
    {
      "cell_type": "code",
      "metadata": {
        "id": "GNUwfwyis5nY",
        "colab_type": "code",
        "colab": {}
      },
      "source": [
        "def similar_products(v, n = 20):\n",
        "    \n",
        "    # extract most similar products for the input vector\n",
        "    ms = model.similar_by_vector(v, topn= n+1)[1:]\n",
        "    \n",
        "    # extract name and similarity score of the similar products\n",
        "    new_ms = []\n",
        "    for j in ms:\n",
        "        pair = (books_dict[j[0]][0], j[1])\n",
        "        new_ms.append(pair)\n",
        "        \n",
        "    return new_ms"
      ],
      "execution_count": 0,
      "outputs": []
    },
    {
      "cell_type": "markdown",
      "metadata": {
        "id": "FM3pFWvqyrsf",
        "colab_type": "text"
      },
      "source": [
        "Pass a book id to see the title of the book"
      ]
    },
    {
      "cell_type": "code",
      "metadata": {
        "id": "CwNSY-Jo0GKJ",
        "colab_type": "code",
        "outputId": "3cd855eb-532d-4570-f166-dee5be152c5c",
        "colab": {
          "base_uri": "https://localhost:8080/",
          "height": 34
        }
      },
      "source": [
        "books_dict['25233412']"
      ],
      "execution_count": 34,
      "outputs": [
        {
          "output_type": "execute_result",
          "data": {
            "text/plain": [
              "['Lumberjanes #6']"
            ]
          },
          "metadata": {
            "tags": []
          },
          "execution_count": 34
        }
      ]
    },
    {
      "cell_type": "markdown",
      "metadata": {
        "id": "FR5UIEPeyw5C",
        "colab_type": "text"
      },
      "source": [
        "Check similar books to Lumberjanes #6"
      ]
    },
    {
      "cell_type": "code",
      "metadata": {
        "id": "vK4CjYKCs6m0",
        "colab_type": "code",
        "outputId": "8e592a28-4fed-4395-fa2e-4662732f10cc",
        "colab": {
          "base_uri": "https://localhost:8080/",
          "height": 357
        }
      },
      "source": [
        "similar_products(model['25233412'])"
      ],
      "execution_count": 35,
      "outputs": [
        {
          "output_type": "execute_result",
          "data": {
            "text/plain": [
              "[('Lumberjanes #7', 0.9214624762535095),\n",
              " ('Lumberjanes #5', 0.9138901233673096),\n",
              " ('Lumberjanes #8', 0.855980634689331),\n",
              " ('Lumberjanes #4', 0.7982689142227173),\n",
              " ('Lumberjanes #10', 0.7939543128013611),\n",
              " ('Lumberjanes #9', 0.7756029367446899),\n",
              " ('Lumberjanes #3', 0.7665520906448364),\n",
              " ('Lumberjanes #11', 0.740609884262085),\n",
              " ('Lumberjanes #2', 0.7383305430412292),\n",
              " ('Star Wars: In Shadow of Yavin: Vol. 2', 0.6982450485229492),\n",
              " (\"Archie: Rockin' the World\", 0.6948497295379639),\n",
              " ('Adventure Time Summer 2013 Special #1', 0.6912888884544373),\n",
              " ('Darth Vader y amigos', 0.6890324354171753),\n",
              " ('Lumberjanes #12', 0.6886797547340393),\n",
              " ('Lumberjanes #13', 0.6679936051368713),\n",
              " ('Superman Vol. 5: Under Fire (The New 52)', 0.6593319773674011),\n",
              " ('Rocket Raccoon #3', 0.6573141813278198),\n",
              " ('Lumberjanes #1', 0.6435939073562622),\n",
              " ('Lumberjanes Vol 4: Out of Time', 0.6375848650932312),\n",
              " ('Star Wars: In Shadow of Yavin: Vol. 4', 0.6290183663368225)]"
            ]
          },
          "metadata": {
            "tags": []
          },
          "execution_count": 35
        }
      ]
    },
    {
      "cell_type": "markdown",
      "metadata": {
        "id": "7gfNoGPly7pP",
        "colab_type": "text"
      },
      "source": [
        "### **Wow it did recommend other books in the \"lumberjanes\" series ! This algorithm seems to work !**"
      ]
    },
    {
      "cell_type": "markdown",
      "metadata": {
        "id": "JgCkY3PnzSSg",
        "colab_type": "text"
      },
      "source": [
        "Lets check results for another book"
      ]
    },
    {
      "cell_type": "code",
      "metadata": {
        "id": "xKkvYt-SzX7b",
        "colab_type": "code",
        "outputId": "be239023-97fe-4de7-ca51-dcf59405a65a",
        "colab": {
          "base_uri": "https://localhost:8080/",
          "height": 34
        }
      },
      "source": [
        "books_dict['22731045']"
      ],
      "execution_count": 36,
      "outputs": [
        {
          "output_type": "execute_result",
          "data": {
            "text/plain": [
              "['Adventure Time: Banana Guard Academy #1']"
            ]
          },
          "metadata": {
            "tags": []
          },
          "execution_count": 36
        }
      ]
    },
    {
      "cell_type": "markdown",
      "metadata": {
        "id": "yhQ0SpOQzJJZ",
        "colab_type": "text"
      },
      "source": [
        "Lets check book similar to above book"
      ]
    },
    {
      "cell_type": "code",
      "metadata": {
        "id": "5rD9yQzDhmtb",
        "colab_type": "code",
        "outputId": "88b6e9a0-b6c0-4aa0-c64e-d7ec28cf11b9",
        "colab": {
          "base_uri": "https://localhost:8080/",
          "height": 374
        }
      },
      "source": [
        "similar_products(model['22731045'])"
      ],
      "execution_count": 37,
      "outputs": [
        {
          "output_type": "execute_result",
          "data": {
            "text/plain": [
              "[('Adventure Time: Banana Guard Academy #2', 0.850558876991272),\n",
              " ('Adventure Time: Banana Guard Academy #3', 0.7932764291763306),\n",
              " ('Adventure Time: Banana Guard Academy #4', 0.7554032802581787),\n",
              " ('Marceline Gone Adrift #4', 0.7457478642463684),\n",
              " (\"Wild's End #3\", 0.7434861660003662),\n",
              " ('Adventure Time: Banana Guard Academy #5', 0.7397825717926025),\n",
              " ('The Woods #12', 0.7392294406890869),\n",
              " ('The Woods #3', 0.7346197366714478),\n",
              " ('The Woods #11', 0.7338173985481262),\n",
              " ('Adventure Time with Finn & Jake (Issue #15)', 0.7325493693351746),\n",
              " ('Abigail and the Snowman #1', 0.7318841218948364),\n",
              " ('The Woods #4', 0.7317780256271362),\n",
              " ('Goners #4', 0.7260009050369263),\n",
              " ('The Woods #2', 0.7255479097366333),\n",
              " (\"Bob's Burgers #3\", 0.7255437970161438),\n",
              " ('Adventure Time: Candy Capers #4', 0.7250488996505737),\n",
              " ('The Woods #10', 0.723170280456543),\n",
              " ('Adventure Time with Fionna & Cake: Card Wars #1', 0.722663164138794),\n",
              " ('Star Wars: In Shadow of Yavin: Vol. 2', 0.720397412776947),\n",
              " ('Afterlife With Archie #7: Betty R.I.P. Chapter 2 - Dear Diary... (Afterlife With Archie Series)',\n",
              "  0.7194287180900574)]"
            ]
          },
          "metadata": {
            "tags": []
          },
          "execution_count": 37
        }
      ]
    },
    {
      "cell_type": "markdown",
      "metadata": {
        "id": "PPY4NsI6zb1-",
        "colab_type": "text"
      },
      "source": [
        "### It  was able to recommend other books in the series and other books that were recommended also seem to be on similar lines. Visually this algorithm seems to be working, but we can only tell when we have some evaluation metrics . Metrics such as Precision@k, hit rate , coverage and nDCG can be used as per the paper. Below is my attempt to calculate the Precision by using one book for a user and trying to see whether the recommended book are is his reading list (on the basis of one book). This approach did not work. Couple of other approaches that I can think of are as below\n",
        "\n",
        "\n",
        "*   Instead of considering one book, consider half of the reading list to see whether the predictions (on the basis of half the list) have an intersection with the other half\n",
        "*   Instead of having distint users in train and test set, have users distributed across both. Using reading history of user in train set, come up with predictions and check whether they have intersection with the books in the test set for the user \n",
        "\n",
        "Evaluation of such a system seems to be more evolved and needs elaborate research to come up with the best strategy and implementation. \n",
        "\n"
      ]
    },
    {
      "cell_type": "markdown",
      "metadata": {
        "id": "DSN2uevu6oG3",
        "colab_type": "text"
      },
      "source": [
        "Attempt to compute the precision\n",
        "\n",
        "```\n",
        "reading_history_validation = validation_df.groupby('user_id')['book_id'].apply(list).reset_index()\n",
        "unique_users = validation_df[\"user_id\"].unique().tolist()\n",
        "len(unique_users)\n",
        "# get the reading history of the user and consider one book of the list to compute recommendations\n",
        "book_list = reading_history_validation.head(5)['book_id']\n",
        "book_id = book_list[4][0]\n",
        "other_history = book_list[0]\n",
        "print(book_id)\n",
        "print(other_history)\n",
        "def similar_products_for_evaluation(v, n = 30):\n",
        "    \n",
        "    # extract most similar products for the input vector\n",
        "    ms = model.similar_by_vector(v, topn= n+1)[1:]\n",
        "    \n",
        "    # extract name and similarity score of the similar products\n",
        "    new_ms = []\n",
        "    for j in ms:\n",
        "        print(j[0])\n",
        "        new_ms.append(j[0])\n",
        "        \n",
        "    return new_ms\n",
        "lst1 = similar_products_for_evaluation(book_id)\n",
        "print(lst1)\n",
        "print(other_history)\n",
        "common_elements = set(lst1).intersection(set(other_history))\n",
        "\n",
        "```"
      ]
    },
    {
      "cell_type": "markdown",
      "metadata": {
        "id": "9YcZYmGTB1Uc",
        "colab_type": "text"
      },
      "source": [
        "```\n",
        "Above we saw good recommendations using word2Vec. I also wanted to recommend using content-based recommendation using item matrix of books.I reached as far as creating item matrix for the books. However, due to time constraints could not complete the implementation of cosine similarity. Below is the code for computing the item matric of books using one hot encoding\n",
        "#Load book dataset\n",
        "fn = '/content/drive/Shared drives/Project_256/goodreads_books_comics_graphic.json.gz'\n",
        "books = pd.read_json(fn, lines=True, compression='gzip')\n",
        "books.tail()\n",
        "books.info()\n",
        "#Replace null values with nan\n",
        "import numpy as np\n",
        "books.replace('', np.nan, inplace=True)\n",
        "books\n",
        "\n",
        "books.info()\n",
        "\n",
        "#Replace null values with nan\n",
        "\n",
        "import numpy as np\n",
        "books.replace('', np.nan, inplace=True)\n",
        "books\n",
        "\n",
        "#One hot encode categorical columns\n",
        "\n",
        "books = pd.get_dummies(books, dummy_na=False, columns=['country_code', 'language_code'])\n",
        "\n",
        "books\n",
        "\n",
        "authors=books['authors']\n",
        "\n",
        "#Convert authors to needed format\n",
        "\n",
        "author_list=[]\n",
        "for i in authors:\n",
        "    author=[]\n",
        "    for j in i:\n",
        "      author.append(j['author_id'])\n",
        "    author_list.append(author)\n",
        "\n",
        "df_with_author_list=books\n",
        "\n",
        "df_with_author_list\n",
        "\n",
        "df_with_author_list['authorid'] = author_list\n",
        "\n",
        "df_with_author_list\n",
        "\n",
        "\n",
        "\n",
        "#One hot encode author list\n",
        "\n",
        "one_hot_encode_author = pd.get_dummies(df_with_author_list.authorid.apply(pd.Series), prefix=\"\", prefix_sep=\"\")\n",
        "\n",
        "df_with_author_list.join(one_hot_encode_author)\n",
        "\n",
        "df_with_author_list.to_csv('/content/drive/Shared drives/Project_256/books_item_matrix.csv')\n",
        "```"
      ]
    },
    {
      "cell_type": "markdown",
      "metadata": {
        "id": "TSHeTsrF52aE",
        "colab_type": "text"
      },
      "source": [
        "#### To conclude we saw some relevant recommendations using word2Vec and the algorithm seems to be promising to build recommendation systems. Check recommendations above\n"
      ]
    }
  ]
}