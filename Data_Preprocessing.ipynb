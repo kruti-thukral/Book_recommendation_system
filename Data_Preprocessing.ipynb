{
  "nbformat": 4,
  "nbformat_minor": 0,
  "metadata": {
    "colab": {
      "name": "Copy of Data_Preprocessing_new.ipynb",
      "provenance": [],
      "collapsed_sections": [],
      "toc_visible": true,
      "machine_shape": "hm"
    },
    "kernelspec": {
      "name": "python3",
      "display_name": "Python 3"
    },
    "accelerator": "GPU"
  },
  "cells": [
    {
      "cell_type": "code",
      "metadata": {
        "id": "DHzRcX0g5E9o",
        "colab_type": "code",
        "outputId": "5cacc95d-e0c4-4a33-83e7-43a4b74705e4",
        "colab": {
          "base_uri": "https://localhost:8080/",
          "height": 176
        }
      },
      "source": [
        "pip install gdown"
      ],
      "execution_count": 0,
      "outputs": [
        {
          "output_type": "stream",
          "text": [
            "Requirement already satisfied: gdown in /usr/local/lib/python3.6/dist-packages (3.6.4)\n",
            "Requirement already satisfied: requests in /usr/local/lib/python3.6/dist-packages (from gdown) (2.21.0)\n",
            "Requirement already satisfied: six in /usr/local/lib/python3.6/dist-packages (from gdown) (1.12.0)\n",
            "Requirement already satisfied: tqdm in /usr/local/lib/python3.6/dist-packages (from gdown) (4.28.1)\n",
            "Requirement already satisfied: certifi>=2017.4.17 in /usr/local/lib/python3.6/dist-packages (from requests->gdown) (2019.9.11)\n",
            "Requirement already satisfied: idna<2.9,>=2.5 in /usr/local/lib/python3.6/dist-packages (from requests->gdown) (2.8)\n",
            "Requirement already satisfied: urllib3<1.25,>=1.21.1 in /usr/local/lib/python3.6/dist-packages (from requests->gdown) (1.24.3)\n",
            "Requirement already satisfied: chardet<3.1.0,>=3.0.2 in /usr/local/lib/python3.6/dist-packages (from requests->gdown) (3.0.4)\n"
          ],
          "name": "stdout"
        }
      ]
    },
    {
      "cell_type": "code",
      "metadata": {
        "id": "QIYF2E-J5RCR",
        "colab_type": "code",
        "colab": {}
      },
      "source": [
        "import sys\n",
        "import pandas as pd\n",
        "import gdown\n",
        "import os"
      ],
      "execution_count": 0,
      "outputs": []
    },
    {
      "cell_type": "code",
      "metadata": {
        "id": "XshwApmvaidf",
        "colab_type": "code",
        "outputId": "df7954cb-1478-424d-9e71-aeb8ae974abc",
        "colab": {
          "base_uri": "https://localhost:8080/",
          "height": 35
        }
      },
      "source": [
        "from google.colab import drive\n",
        "drive.mount('/content/drive', force_remount=True)"
      ],
      "execution_count": 0,
      "outputs": [
        {
          "output_type": "stream",
          "text": [
            "Mounted at /content/drive\n"
          ],
          "name": "stdout"
        }
      ]
    },
    {
      "cell_type": "code",
      "metadata": {
        "id": "fnqla95v5ghC",
        "colab_type": "code",
        "outputId": "7e00fd76-22b2-406f-df60-dbd6b281d1f7",
        "colab": {
          "base_uri": "https://localhost:8080/",
          "height": 238
        }
      },
      "source": [
        "#file_id_map = dict(zip(file_ids['name'].values, file_ids['id'].values))\n",
        "url1 = 'https://drive.google.com/uc?id=1CCj-cQw_mJLMdvF_YYfQ7ibKA-dC_GA2'\n",
        "url2 = 'https://drive.google.com/uc?id=1V4MLeoEiPQdocCbUHjR_7L9ZmxTufPFe'\n",
        "url3='https://drive.google.com/uc?id=1ICk5x0HXvXDp5Zt54CKPh5qz1HyUIn9m'\n",
        "url4 = ''\n",
        "gdown.download(url1, output=None, quiet=False)\n",
        "gdown.download(url2, output=None, quiet=False)\n",
        "gdown.download(url3, output=None, quiet=False)"
      ],
      "execution_count": 0,
      "outputs": [
        {
          "output_type": "stream",
          "text": [
            "Downloading...\n",
            "From: https://drive.google.com/uc?id=1CCj-cQw_mJLMdvF_YYfQ7ibKA-dC_GA2\n",
            "To: /content/goodreads_interactions_comics_graphic.json.gz\n",
            "387MB [00:08, 48.0MB/s]\n",
            "Downloading...\n",
            "From: https://drive.google.com/uc?id=1V4MLeoEiPQdocCbUHjR_7L9ZmxTufPFe\n",
            "To: /content/goodreads_reviews_comics_graphic.json.gz\n",
            "147MB [00:01, 87.8MB/s]\n",
            "Downloading...\n",
            "From: https://drive.google.com/uc?id=1ICk5x0HXvXDp5Zt54CKPh5qz1HyUIn9m\n",
            "To: /content/goodreads_books_comics_graphic.json.gz\n",
            "68.4MB [00:00, 74.2MB/s]\n"
          ],
          "name": "stderr"
        },
        {
          "output_type": "execute_result",
          "data": {
            "text/plain": [
              "'goodreads_books_comics_graphic.json.gz'"
            ]
          },
          "metadata": {
            "tags": []
          },
          "execution_count": 2
        }
      ]
    },
    {
      "cell_type": "code",
      "metadata": {
        "id": "fQl7VYLP8qNi",
        "colab_type": "code",
        "outputId": "d8ce3740-ad31-41bc-c9c3-744c29b0f4dc",
        "colab": {
          "base_uri": "https://localhost:8080/",
          "height": 187
        }
      },
      "source": [
        ""
      ],
      "execution_count": 0,
      "outputs": [
        {
          "output_type": "stream",
          "text": [
            "IOPub data rate exceeded.\n",
            "The notebook server will temporarily stop sending output\n",
            "to the client in order to avoid crashing it.\n",
            "To change this limit, set the config variable\n",
            "`--NotebookApp.iopub_data_rate_limit`.\n",
            "\n",
            "Current values:\n",
            "NotebookApp.iopub_data_rate_limit=1000000.0 (bytes/sec)\n",
            "NotebookApp.rate_limit_window=3.0 (secs)\n",
            "\n"
          ],
          "name": "stderr"
        }
      ]
    },
    {
      "cell_type": "code",
      "metadata": {
        "id": "S3Da_Pgu6sLN",
        "colab_type": "code",
        "outputId": "18ce5bf9-51c6-4470-a3f9-7738e4339be1",
        "colab": {
          "base_uri": "https://localhost:8080/",
          "height": 34
        }
      },
      "source": [
        "from google.colab import drive\n",
        "drive.mount('/content/drive', force_remount=True)"
      ],
      "execution_count": 0,
      "outputs": [
        {
          "output_type": "stream",
          "text": [
            "Mounted at /content/drive\n"
          ],
          "name": "stdout"
        }
      ]
    },
    {
      "cell_type": "code",
      "metadata": {
        "id": "BujwFcYc-Gtv",
        "colab_type": "code",
        "outputId": "ba4441ad-d701-40f1-ae78-145bbfb12f71",
        "colab": {
          "base_uri": "https://localhost:8080/",
          "height": 551
        }
      },
      "source": [
        "fn = '/content/drive/Shared drives/Project_256/goodreads_books_comics_graphic.json.gz'\n",
        "books = pd.read_json(fn, lines=True, compression='gzip')\n",
        "books.tail()"
      ],
      "execution_count": 0,
      "outputs": [
        {
          "output_type": "execute_result",
          "data": {
            "text/html": [
              "<div>\n",
              "<style scoped>\n",
              "    .dataframe tbody tr th:only-of-type {\n",
              "        vertical-align: middle;\n",
              "    }\n",
              "\n",
              "    .dataframe tbody tr th {\n",
              "        vertical-align: top;\n",
              "    }\n",
              "\n",
              "    .dataframe thead th {\n",
              "        text-align: right;\n",
              "    }\n",
              "</style>\n",
              "<table border=\"1\" class=\"dataframe\">\n",
              "  <thead>\n",
              "    <tr style=\"text-align: right;\">\n",
              "      <th></th>\n",
              "      <th>isbn</th>\n",
              "      <th>text_reviews_count</th>\n",
              "      <th>series</th>\n",
              "      <th>country_code</th>\n",
              "      <th>language_code</th>\n",
              "      <th>popular_shelves</th>\n",
              "      <th>asin</th>\n",
              "      <th>is_ebook</th>\n",
              "      <th>average_rating</th>\n",
              "      <th>kindle_asin</th>\n",
              "      <th>similar_books</th>\n",
              "      <th>description</th>\n",
              "      <th>format</th>\n",
              "      <th>link</th>\n",
              "      <th>authors</th>\n",
              "      <th>publisher</th>\n",
              "      <th>num_pages</th>\n",
              "      <th>publication_day</th>\n",
              "      <th>isbn13</th>\n",
              "      <th>publication_month</th>\n",
              "      <th>edition_information</th>\n",
              "      <th>publication_year</th>\n",
              "      <th>url</th>\n",
              "      <th>image_url</th>\n",
              "      <th>book_id</th>\n",
              "      <th>ratings_count</th>\n",
              "      <th>work_id</th>\n",
              "      <th>title</th>\n",
              "      <th>title_without_series</th>\n",
              "    </tr>\n",
              "  </thead>\n",
              "  <tbody>\n",
              "    <tr>\n",
              "      <th>89406</th>\n",
              "      <td></td>\n",
              "      <td>22</td>\n",
              "      <td>[]</td>\n",
              "      <td>US</td>\n",
              "      <td></td>\n",
              "      <td>[{'count': '114', 'name': 'to-read'}, {'count'...</td>\n",
              "      <td>B01GENHTK0</td>\n",
              "      <td>true</td>\n",
              "      <td>3.97</td>\n",
              "      <td>B01GENHTK0</td>\n",
              "      <td>[]</td>\n",
              "      <td>Jump on board the TARDIS with FOUR all-new sho...</td>\n",
              "      <td></td>\n",
              "      <td>https://www.goodreads.com/book/show/30848889-d...</td>\n",
              "      <td>[{'author_id': '61373', 'role': ''}, {'author_...</td>\n",
              "      <td></td>\n",
              "      <td></td>\n",
              "      <td></td>\n",
              "      <td></td>\n",
              "      <td></td>\n",
              "      <td></td>\n",
              "      <td></td>\n",
              "      <td>https://www.goodreads.com/book/show/30848889-d...</td>\n",
              "      <td>https://s.gr-assets.com/assets/nophoto/book/11...</td>\n",
              "      <td>30848889</td>\n",
              "      <td>338</td>\n",
              "      <td>51454503</td>\n",
              "      <td>Doctor Who: Free Comic Book Day 2016</td>\n",
              "      <td>Doctor Who: Free Comic Book Day 2016</td>\n",
              "    </tr>\n",
              "    <tr>\n",
              "      <th>89407</th>\n",
              "      <td></td>\n",
              "      <td>2</td>\n",
              "      <td>[669800]</td>\n",
              "      <td>US</td>\n",
              "      <td></td>\n",
              "      <td>[{'count': '620', 'name': 'to-read'}, {'count'...</td>\n",
              "      <td>B01HDRTT5Y</td>\n",
              "      <td>true</td>\n",
              "      <td>3.86</td>\n",
              "      <td>B01HDRTT5Y</td>\n",
              "      <td>[23862438, 23546829, 2480741, 16070295, 234922...</td>\n",
              "      <td>A day in the life of the king of the jungle, t...</td>\n",
              "      <td></td>\n",
              "      <td>https://www.goodreads.com/book/show/33553114-love</td>\n",
              "      <td>[{'author_id': '1197767', 'role': ''}, {'autho...</td>\n",
              "      <td></td>\n",
              "      <td></td>\n",
              "      <td></td>\n",
              "      <td></td>\n",
              "      <td></td>\n",
              "      <td></td>\n",
              "      <td></td>\n",
              "      <td>https://www.goodreads.com/book/show/33553114-love</td>\n",
              "      <td>https://s.gr-assets.com/assets/nophoto/book/11...</td>\n",
              "      <td>33553114</td>\n",
              "      <td>4</td>\n",
              "      <td>40074057</td>\n",
              "      <td>Love: The Tiger</td>\n",
              "      <td>Love: The Tiger</td>\n",
              "    </tr>\n",
              "    <tr>\n",
              "      <th>89408</th>\n",
              "      <td></td>\n",
              "      <td>5</td>\n",
              "      <td>[638272]</td>\n",
              "      <td>US</td>\n",
              "      <td>spa</td>\n",
              "      <td>[{'count': '52', 'name': 'to-read'}, {'count':...</td>\n",
              "      <td></td>\n",
              "      <td>false</td>\n",
              "      <td>3.87</td>\n",
              "      <td></td>\n",
              "      <td>[]</td>\n",
              "      <td>EL GRAN CLASICO DEL GENERO FANTASTICO EN UN VO...</td>\n",
              "      <td>Hardcover</td>\n",
              "      <td>https://www.goodreads.com/book/show/20653416-l...</td>\n",
              "      <td>[{'author_id': '665253', 'role': 'writer'}, {'...</td>\n",
              "      <td>Norma Editorial</td>\n",
              "      <td>224</td>\n",
              "      <td></td>\n",
              "      <td>9788467912937</td>\n",
              "      <td>11</td>\n",
              "      <td>Integral Edition</td>\n",
              "      <td>2013</td>\n",
              "      <td>https://www.goodreads.com/book/show/20653416-l...</td>\n",
              "      <td>https://images.gr-assets.com/books/1391037254m...</td>\n",
              "      <td>20653416</td>\n",
              "      <td>28</td>\n",
              "      <td>19161997</td>\n",
              "      <td>La búsqueda del pájaro del tiempo</td>\n",
              "      <td>La búsqueda del pájaro del tiempo</td>\n",
              "    </tr>\n",
              "    <tr>\n",
              "      <th>89409</th>\n",
              "      <td></td>\n",
              "      <td>2</td>\n",
              "      <td>[]</td>\n",
              "      <td>US</td>\n",
              "      <td>eng</td>\n",
              "      <td>[{'count': '1', 'name': '3-2017-ha-pages-read-...</td>\n",
              "      <td></td>\n",
              "      <td>true</td>\n",
              "      <td>3.00</td>\n",
              "      <td></td>\n",
              "      <td>[]</td>\n",
              "      <td>Prepare yourself for Dejah Thoris as you've ne...</td>\n",
              "      <td>Kindle Edition</td>\n",
              "      <td>https://www.goodreads.com/book/show/28928706-d...</td>\n",
              "      <td>[{'author_id': '5740317', 'role': 'Writer'}, {...</td>\n",
              "      <td>Dynamite Entertainment</td>\n",
              "      <td>30</td>\n",
              "      <td>3</td>\n",
              "      <td></td>\n",
              "      <td>2</td>\n",
              "      <td></td>\n",
              "      <td>2016</td>\n",
              "      <td>https://www.goodreads.com/book/show/28928706-d...</td>\n",
              "      <td>https://images.gr-assets.com/books/1454539757m...</td>\n",
              "      <td>28928706</td>\n",
              "      <td>10</td>\n",
              "      <td>49145631</td>\n",
              "      <td>Dejah Thoris #1</td>\n",
              "      <td>Dejah Thoris #1</td>\n",
              "    </tr>\n",
              "    <tr>\n",
              "      <th>89410</th>\n",
              "      <td></td>\n",
              "      <td>4</td>\n",
              "      <td>[]</td>\n",
              "      <td>US</td>\n",
              "      <td>eng</td>\n",
              "      <td>[{'count': '604', 'name': 'to-read'}, {'count'...</td>\n",
              "      <td>B00OEK0HQE</td>\n",
              "      <td>true</td>\n",
              "      <td>4.24</td>\n",
              "      <td>B00OEK0HQE</td>\n",
              "      <td>[]</td>\n",
              "      <td>In the city that never sleeps, spirits are equ...</td>\n",
              "      <td>Kindle Edition</td>\n",
              "      <td>https://www.goodreads.com/book/show/23363286-d...</td>\n",
              "      <td>[{'author_id': '7741497', 'role': ''}, {'autho...</td>\n",
              "      <td>Chromatic Press</td>\n",
              "      <td>219</td>\n",
              "      <td>29</td>\n",
              "      <td></td>\n",
              "      <td>9</td>\n",
              "      <td></td>\n",
              "      <td>2014</td>\n",
              "      <td>https://www.goodreads.com/book/show/23363286-d...</td>\n",
              "      <td>https://images.gr-assets.com/books/1413258573m...</td>\n",
              "      <td>23363286</td>\n",
              "      <td>15</td>\n",
              "      <td>42919549</td>\n",
              "      <td>Dead Endings</td>\n",
              "      <td>Dead Endings</td>\n",
              "    </tr>\n",
              "  </tbody>\n",
              "</table>\n",
              "</div>"
            ],
            "text/plain": [
              "      isbn  ...                  title_without_series\n",
              "89406       ...  Doctor Who: Free Comic Book Day 2016\n",
              "89407       ...                       Love: The Tiger\n",
              "89408       ...     La búsqueda del pájaro del tiempo\n",
              "89409       ...                       Dejah Thoris #1\n",
              "89410       ...                          Dead Endings\n",
              "\n",
              "[5 rows x 29 columns]"
            ]
          },
          "metadata": {
            "tags": []
          },
          "execution_count": 3
        }
      ]
    },
    {
      "cell_type": "code",
      "metadata": {
        "id": "9DMINFfF7PDs",
        "colab_type": "code",
        "outputId": "c4d3cb8b-3a2d-4277-be60-8660f981bd87",
        "colab": {
          "base_uri": "https://localhost:8080/",
          "height": 607
        }
      },
      "source": [
        "books.info()"
      ],
      "execution_count": 0,
      "outputs": [
        {
          "output_type": "stream",
          "text": [
            "<class 'pandas.core.frame.DataFrame'>\n",
            "RangeIndex: 89411 entries, 0 to 89410\n",
            "Data columns (total 29 columns):\n",
            "isbn                    89411 non-null object\n",
            "text_reviews_count      89411 non-null int64\n",
            "series                  89411 non-null object\n",
            "country_code            89411 non-null object\n",
            "language_code           89411 non-null object\n",
            "popular_shelves         89411 non-null object\n",
            "asin                    89411 non-null object\n",
            "is_ebook                89411 non-null object\n",
            "average_rating          89411 non-null float64\n",
            "kindle_asin             89411 non-null object\n",
            "similar_books           89411 non-null object\n",
            "description             89411 non-null object\n",
            "format                  89411 non-null object\n",
            "link                    89411 non-null object\n",
            "authors                 89411 non-null object\n",
            "publisher               89411 non-null object\n",
            "num_pages               89411 non-null object\n",
            "publication_day         89411 non-null object\n",
            "isbn13                  89411 non-null object\n",
            "publication_month       89411 non-null object\n",
            "edition_information     89411 non-null object\n",
            "publication_year        89411 non-null object\n",
            "url                     89411 non-null object\n",
            "image_url               89411 non-null object\n",
            "book_id                 89411 non-null int64\n",
            "ratings_count           89411 non-null int64\n",
            "work_id                 89411 non-null int64\n",
            "title                   89411 non-null object\n",
            "title_without_series    89411 non-null object\n",
            "dtypes: float64(1), int64(4), object(24)\n",
            "memory usage: 19.8+ MB\n"
          ],
          "name": "stdout"
        }
      ]
    },
    {
      "cell_type": "code",
      "metadata": {
        "id": "8koWNBNKz_6P",
        "colab_type": "code",
        "outputId": "68f0d574-b639-4101-b29b-29be924bb1b9",
        "colab": {
          "base_uri": "https://localhost:8080/",
          "height": 294
        }
      },
      "source": [
        "books.describe()"
      ],
      "execution_count": 0,
      "outputs": [
        {
          "output_type": "execute_result",
          "data": {
            "text/html": [
              "<div>\n",
              "<style scoped>\n",
              "    .dataframe tbody tr th:only-of-type {\n",
              "        vertical-align: middle;\n",
              "    }\n",
              "\n",
              "    .dataframe tbody tr th {\n",
              "        vertical-align: top;\n",
              "    }\n",
              "\n",
              "    .dataframe thead th {\n",
              "        text-align: right;\n",
              "    }\n",
              "</style>\n",
              "<table border=\"1\" class=\"dataframe\">\n",
              "  <thead>\n",
              "    <tr style=\"text-align: right;\">\n",
              "      <th></th>\n",
              "      <th>text_reviews_count</th>\n",
              "      <th>average_rating</th>\n",
              "      <th>book_id</th>\n",
              "      <th>ratings_count</th>\n",
              "      <th>work_id</th>\n",
              "    </tr>\n",
              "  </thead>\n",
              "  <tbody>\n",
              "    <tr>\n",
              "      <th>count</th>\n",
              "      <td>89411.000000</td>\n",
              "      <td>89411.000000</td>\n",
              "      <td>8.941100e+04</td>\n",
              "      <td>89411.000000</td>\n",
              "      <td>8.941100e+04</td>\n",
              "    </tr>\n",
              "    <tr>\n",
              "      <th>mean</th>\n",
              "      <td>19.531948</td>\n",
              "      <td>3.908330</td>\n",
              "      <td>1.601999e+07</td>\n",
              "      <td>382.483766</td>\n",
              "      <td>2.202957e+07</td>\n",
              "    </tr>\n",
              "    <tr>\n",
              "      <th>std</th>\n",
              "      <td>118.265875</td>\n",
              "      <td>0.426598</td>\n",
              "      <td>1.095541e+07</td>\n",
              "      <td>3199.391132</td>\n",
              "      <td>1.920687e+07</td>\n",
              "    </tr>\n",
              "    <tr>\n",
              "      <th>min</th>\n",
              "      <td>0.000000</td>\n",
              "      <td>0.000000</td>\n",
              "      <td>3.740000e+02</td>\n",
              "      <td>0.000000</td>\n",
              "      <td>7.970000e+02</td>\n",
              "    </tr>\n",
              "    <tr>\n",
              "      <th>25%</th>\n",
              "      <td>2.000000</td>\n",
              "      <td>3.660000</td>\n",
              "      <td>6.420996e+06</td>\n",
              "      <td>13.000000</td>\n",
              "      <td>2.590665e+06</td>\n",
              "    </tr>\n",
              "    <tr>\n",
              "      <th>50%</th>\n",
              "      <td>4.000000</td>\n",
              "      <td>3.970000</td>\n",
              "      <td>1.623135e+07</td>\n",
              "      <td>39.000000</td>\n",
              "      <td>1.812011e+07</td>\n",
              "    </tr>\n",
              "    <tr>\n",
              "      <th>75%</th>\n",
              "      <td>11.000000</td>\n",
              "      <td>4.220000</td>\n",
              "      <td>2.544774e+07</td>\n",
              "      <td>133.000000</td>\n",
              "      <td>4.290416e+07</td>\n",
              "    </tr>\n",
              "    <tr>\n",
              "      <th>max</th>\n",
              "      <td>10057.000000</td>\n",
              "      <td>5.000000</td>\n",
              "      <td>3.650849e+07</td>\n",
              "      <td>406669.000000</td>\n",
              "      <td>5.837457e+07</td>\n",
              "    </tr>\n",
              "  </tbody>\n",
              "</table>\n",
              "</div>"
            ],
            "text/plain": [
              "       text_reviews_count  average_rating  ...  ratings_count       work_id\n",
              "count        89411.000000    89411.000000  ...   89411.000000  8.941100e+04\n",
              "mean            19.531948        3.908330  ...     382.483766  2.202957e+07\n",
              "std            118.265875        0.426598  ...    3199.391132  1.920687e+07\n",
              "min              0.000000        0.000000  ...       0.000000  7.970000e+02\n",
              "25%              2.000000        3.660000  ...      13.000000  2.590665e+06\n",
              "50%              4.000000        3.970000  ...      39.000000  1.812011e+07\n",
              "75%             11.000000        4.220000  ...     133.000000  4.290416e+07\n",
              "max          10057.000000        5.000000  ...  406669.000000  5.837457e+07\n",
              "\n",
              "[8 rows x 5 columns]"
            ]
          },
          "metadata": {
            "tags": []
          },
          "execution_count": 5
        }
      ]
    },
    {
      "cell_type": "code",
      "metadata": {
        "id": "lN8tYYbjq64U",
        "colab_type": "code",
        "outputId": "7a9cce0a-8576-495f-fff2-933c3ee478e8",
        "colab": {
          "base_uri": "https://localhost:8080/",
          "height": 35
        }
      },
      "source": [
        "#books['text_reviews_count'[]]\n",
        "books.index[books['text_reviews_count'] == 10057].tolist()"
      ],
      "execution_count": 0,
      "outputs": [
        {
          "output_type": "execute_result",
          "data": {
            "text/plain": [
              "[2749]"
            ]
          },
          "metadata": {
            "tags": []
          },
          "execution_count": 7
        }
      ]
    },
    {
      "cell_type": "code",
      "metadata": {
        "id": "X8g714T6r3WU",
        "colab_type": "code",
        "outputId": "e68a9e4c-7d5a-43de-f09b-e8fc7f8f1350",
        "colab": {
          "base_uri": "https://localhost:8080/",
          "height": 537
        }
      },
      "source": [
        "books.iloc[2749]"
      ],
      "execution_count": 0,
      "outputs": [
        {
          "output_type": "execute_result",
          "data": {
            "text/plain": [
              "isbn                                                           0930289234\n",
              "text_reviews_count                                                  10057\n",
              "series                                                                 []\n",
              "country_code                                                           US\n",
              "language_code                                                       en-US\n",
              "popular_shelves         [{'count': '73194', 'name': 'to-read'}, {'coun...\n",
              "asin                                                                     \n",
              "is_ebook                                                            false\n",
              "average_rating                                                       4.35\n",
              "kindle_asin                                                    B005CRQ2IU\n",
              "similar_books           [25104, 209968, 156530, 21330, 102958, 419103,...\n",
              "description             This Hugo Award-winning graphic novel chronicl...\n",
              "format                                                                   \n",
              "link                    https://www.goodreads.com/book/show/472331.Wat...\n",
              "authors                 [{'author_id': '3961', 'role': ''}, {'author_i...\n",
              "publisher                                                                \n",
              "num_pages                                                             416\n",
              "publication_day                                                          \n",
              "isbn13                                                      9780930289232\n",
              "publication_month                                                        \n",
              "edition_information                                                      \n",
              "publication_year                                                     2005\n",
              "url                     https://www.goodreads.com/book/show/472331.Wat...\n",
              "image_url               https://images.gr-assets.com/books/1442239711m...\n",
              "book_id                                                            472331\n",
              "ratings_count                                                      406669\n",
              "work_id                                                           4358649\n",
              "title                                                            Watchmen\n",
              "title_without_series                                             Watchmen\n",
              "Name: 2749, dtype: object"
            ]
          },
          "metadata": {
            "tags": []
          },
          "execution_count": 8
        }
      ]
    },
    {
      "cell_type": "code",
      "metadata": {
        "id": "xGoSNVeso9WY",
        "colab_type": "code",
        "outputId": "93dc0d8e-bc2e-413e-900d-382f44522dd4",
        "colab": {
          "base_uri": "https://localhost:8080/",
          "height": 69
        }
      },
      "source": [
        "display(books[books.duplicated(['book_id'], keep=False)])"
      ],
      "execution_count": 0,
      "outputs": [
        {
          "output_type": "display_data",
          "data": {
            "text/html": [
              "<div>\n",
              "<style scoped>\n",
              "    .dataframe tbody tr th:only-of-type {\n",
              "        vertical-align: middle;\n",
              "    }\n",
              "\n",
              "    .dataframe tbody tr th {\n",
              "        vertical-align: top;\n",
              "    }\n",
              "\n",
              "    .dataframe thead th {\n",
              "        text-align: right;\n",
              "    }\n",
              "</style>\n",
              "<table border=\"1\" class=\"dataframe\">\n",
              "  <thead>\n",
              "    <tr style=\"text-align: right;\">\n",
              "      <th></th>\n",
              "      <th>isbn</th>\n",
              "      <th>text_reviews_count</th>\n",
              "      <th>series</th>\n",
              "      <th>country_code</th>\n",
              "      <th>language_code</th>\n",
              "      <th>popular_shelves</th>\n",
              "      <th>asin</th>\n",
              "      <th>is_ebook</th>\n",
              "      <th>average_rating</th>\n",
              "      <th>kindle_asin</th>\n",
              "      <th>similar_books</th>\n",
              "      <th>description</th>\n",
              "      <th>format</th>\n",
              "      <th>link</th>\n",
              "      <th>authors</th>\n",
              "      <th>publisher</th>\n",
              "      <th>num_pages</th>\n",
              "      <th>publication_day</th>\n",
              "      <th>isbn13</th>\n",
              "      <th>publication_month</th>\n",
              "      <th>edition_information</th>\n",
              "      <th>publication_year</th>\n",
              "      <th>url</th>\n",
              "      <th>image_url</th>\n",
              "      <th>book_id</th>\n",
              "      <th>ratings_count</th>\n",
              "      <th>work_id</th>\n",
              "      <th>title</th>\n",
              "      <th>title_without_series</th>\n",
              "    </tr>\n",
              "  </thead>\n",
              "  <tbody>\n",
              "  </tbody>\n",
              "</table>\n",
              "</div>"
            ],
            "text/plain": [
              "Empty DataFrame\n",
              "Columns: [isbn, text_reviews_count, series, country_code, language_code, popular_shelves, asin, is_ebook, average_rating, kindle_asin, similar_books, description, format, link, authors, publisher, num_pages, publication_day, isbn13, publication_month, edition_information, publication_year, url, image_url, book_id, ratings_count, work_id, title, title_without_series]\n",
              "Index: []"
            ]
          },
          "metadata": {
            "tags": []
          }
        }
      ]
    },
    {
      "cell_type": "code",
      "metadata": {
        "id": "IlpVLaJItdVS",
        "colab_type": "code",
        "outputId": "6a0c8092-2f59-4cb9-c3f1-b5cff89b4352",
        "colab": {
          "base_uri": "https://localhost:8080/",
          "height": 999
        }
      },
      "source": [
        "ten = books.head(10)\n",
        "ten"
      ],
      "execution_count": 0,
      "outputs": [
        {
          "output_type": "execute_result",
          "data": {
            "text/html": [
              "<div>\n",
              "<style scoped>\n",
              "    .dataframe tbody tr th:only-of-type {\n",
              "        vertical-align: middle;\n",
              "    }\n",
              "\n",
              "    .dataframe tbody tr th {\n",
              "        vertical-align: top;\n",
              "    }\n",
              "\n",
              "    .dataframe thead th {\n",
              "        text-align: right;\n",
              "    }\n",
              "</style>\n",
              "<table border=\"1\" class=\"dataframe\">\n",
              "  <thead>\n",
              "    <tr style=\"text-align: right;\">\n",
              "      <th></th>\n",
              "      <th>isbn</th>\n",
              "      <th>text_reviews_count</th>\n",
              "      <th>series</th>\n",
              "      <th>country_code</th>\n",
              "      <th>language_code</th>\n",
              "      <th>popular_shelves</th>\n",
              "      <th>asin</th>\n",
              "      <th>is_ebook</th>\n",
              "      <th>average_rating</th>\n",
              "      <th>kindle_asin</th>\n",
              "      <th>similar_books</th>\n",
              "      <th>description</th>\n",
              "      <th>format</th>\n",
              "      <th>link</th>\n",
              "      <th>authors</th>\n",
              "      <th>publisher</th>\n",
              "      <th>num_pages</th>\n",
              "      <th>publication_day</th>\n",
              "      <th>isbn13</th>\n",
              "      <th>publication_month</th>\n",
              "      <th>edition_information</th>\n",
              "      <th>publication_year</th>\n",
              "      <th>url</th>\n",
              "      <th>image_url</th>\n",
              "      <th>book_id</th>\n",
              "      <th>ratings_count</th>\n",
              "      <th>work_id</th>\n",
              "      <th>title</th>\n",
              "      <th>title_without_series</th>\n",
              "    </tr>\n",
              "  </thead>\n",
              "  <tbody>\n",
              "    <tr>\n",
              "      <th>0</th>\n",
              "      <td></td>\n",
              "      <td>1</td>\n",
              "      <td>[]</td>\n",
              "      <td>US</td>\n",
              "      <td></td>\n",
              "      <td>[{'count': '228', 'name': 'to-read'}, {'count'...</td>\n",
              "      <td>B00NLXQ534</td>\n",
              "      <td>true</td>\n",
              "      <td>4.12</td>\n",
              "      <td></td>\n",
              "      <td>[25653153, 25699172, 23530486, 12984185, 25538...</td>\n",
              "      <td>Lillian Ann Cross is forced to live the worst ...</td>\n",
              "      <td></td>\n",
              "      <td>https://www.goodreads.com/book/show/25742454-t...</td>\n",
              "      <td>[{'author_id': '8551671', 'role': ''}]</td>\n",
              "      <td></td>\n",
              "      <td></td>\n",
              "      <td></td>\n",
              "      <td></td>\n",
              "      <td></td>\n",
              "      <td></td>\n",
              "      <td></td>\n",
              "      <td>https://www.goodreads.com/book/show/25742454-t...</td>\n",
              "      <td>https://s.gr-assets.com/assets/nophoto/book/11...</td>\n",
              "      <td>25742454</td>\n",
              "      <td>1</td>\n",
              "      <td>42749946</td>\n",
              "      <td>The Switchblade Mamma</td>\n",
              "      <td>The Switchblade Mamma</td>\n",
              "    </tr>\n",
              "    <tr>\n",
              "      <th>1</th>\n",
              "      <td>2205073346</td>\n",
              "      <td>2</td>\n",
              "      <td>[]</td>\n",
              "      <td>US</td>\n",
              "      <td>fre</td>\n",
              "      <td>[{'count': '2', 'name': 'bd'}, {'count': '2', ...</td>\n",
              "      <td></td>\n",
              "      <td>false</td>\n",
              "      <td>3.94</td>\n",
              "      <td></td>\n",
              "      <td>[]</td>\n",
              "      <td>Florence Dupre Latour raconte comment, de son ...</td>\n",
              "      <td></td>\n",
              "      <td>https://www.goodreads.com/book/show/30128855-c...</td>\n",
              "      <td>[{'author_id': '3274315', 'role': ''}]</td>\n",
              "      <td>Dargaud</td>\n",
              "      <td></td>\n",
              "      <td>22</td>\n",
              "      <td></td>\n",
              "      <td>1</td>\n",
              "      <td></td>\n",
              "      <td>2016</td>\n",
              "      <td>https://www.goodreads.com/book/show/30128855-c...</td>\n",
              "      <td>https://images.gr-assets.com/books/1462644346m...</td>\n",
              "      <td>30128855</td>\n",
              "      <td>16</td>\n",
              "      <td>50558228</td>\n",
              "      <td>Cruelle</td>\n",
              "      <td>Cruelle</td>\n",
              "    </tr>\n",
              "    <tr>\n",
              "      <th>2</th>\n",
              "      <td></td>\n",
              "      <td>5</td>\n",
              "      <td>[246830, 362583, 362581, 623032]</td>\n",
              "      <td>US</td>\n",
              "      <td>eng</td>\n",
              "      <td>[{'count': '493', 'name': 'to-read'}, {'count'...</td>\n",
              "      <td></td>\n",
              "      <td>false</td>\n",
              "      <td>4.28</td>\n",
              "      <td></td>\n",
              "      <td>[13590139, 105963, 207585, 10503130, 4645370, ...</td>\n",
              "      <td>The questions plaguing Captain America's dream...</td>\n",
              "      <td>Hardcover</td>\n",
              "      <td>https://www.goodreads.com/book/show/13571772-c...</td>\n",
              "      <td>[{'author_id': '37450', 'role': ''}]</td>\n",
              "      <td>Hachette Partworks Ltd.</td>\n",
              "      <td>146</td>\n",
              "      <td></td>\n",
              "      <td></td>\n",
              "      <td></td>\n",
              "      <td></td>\n",
              "      <td>2012</td>\n",
              "      <td>https://www.goodreads.com/book/show/13571772-c...</td>\n",
              "      <td>https://images.gr-assets.com/books/1333287305m...</td>\n",
              "      <td>13571772</td>\n",
              "      <td>51</td>\n",
              "      <td>102217</td>\n",
              "      <td>Captain America: Winter Soldier (The Ultimate ...</td>\n",
              "      <td>Captain America: Winter Soldier (The Ultimate ...</td>\n",
              "    </tr>\n",
              "    <tr>\n",
              "      <th>3</th>\n",
              "      <td></td>\n",
              "      <td>1</td>\n",
              "      <td>[]</td>\n",
              "      <td>US</td>\n",
              "      <td>eng</td>\n",
              "      <td>[{'count': '222', 'name': 'to-read'}, {'count'...</td>\n",
              "      <td>B06XKGGSB7</td>\n",
              "      <td>true</td>\n",
              "      <td>4.05</td>\n",
              "      <td>B06XKGGSB7</td>\n",
              "      <td>[]</td>\n",
              "      <td>The fight for Jason Delgado's life and soul be...</td>\n",
              "      <td></td>\n",
              "      <td>https://www.goodreads.com/book/show/35452242-b...</td>\n",
              "      <td>[{'author_id': '16209952', 'role': ''}, {'auth...</td>\n",
              "      <td></td>\n",
              "      <td></td>\n",
              "      <td></td>\n",
              "      <td></td>\n",
              "      <td></td>\n",
              "      <td></td>\n",
              "      <td></td>\n",
              "      <td>https://www.goodreads.com/book/show/35452242-b...</td>\n",
              "      <td>https://s.gr-assets.com/assets/nophoto/book/11...</td>\n",
              "      <td>35452242</td>\n",
              "      <td>6</td>\n",
              "      <td>54276229</td>\n",
              "      <td>Bounty Hunter 4/3: My Life in Combat from Mari...</td>\n",
              "      <td>Bounty Hunter 4/3: My Life in Combat from Mari...</td>\n",
              "    </tr>\n",
              "    <tr>\n",
              "      <th>4</th>\n",
              "      <td>0930289765</td>\n",
              "      <td>6</td>\n",
              "      <td>[266759, 1096220]</td>\n",
              "      <td>US</td>\n",
              "      <td>en-US</td>\n",
              "      <td>[{'count': '20', 'name': 'to-read'}, {'count':...</td>\n",
              "      <td></td>\n",
              "      <td>false</td>\n",
              "      <td>4.06</td>\n",
              "      <td></td>\n",
              "      <td>[]</td>\n",
              "      <td>These are the stories that catapulted Superman...</td>\n",
              "      <td>Hardcover</td>\n",
              "      <td>https://www.goodreads.com/book/show/707611.Sup...</td>\n",
              "      <td>[{'author_id': '81563', 'role': ''}, {'author_...</td>\n",
              "      <td>DC Comics</td>\n",
              "      <td>272</td>\n",
              "      <td>14</td>\n",
              "      <td>9780930289768</td>\n",
              "      <td>11</td>\n",
              "      <td></td>\n",
              "      <td>1997</td>\n",
              "      <td>https://www.goodreads.com/book/show/707611.Sup...</td>\n",
              "      <td>https://images.gr-assets.com/books/1307838888m...</td>\n",
              "      <td>707611</td>\n",
              "      <td>51</td>\n",
              "      <td>693886</td>\n",
              "      <td>Superman Archives, Vol. 2</td>\n",
              "      <td>Superman Archives, Vol. 2</td>\n",
              "    </tr>\n",
              "    <tr>\n",
              "      <th>5</th>\n",
              "      <td>1933617640</td>\n",
              "      <td>7</td>\n",
              "      <td>[910384]</td>\n",
              "      <td>US</td>\n",
              "      <td></td>\n",
              "      <td>[{'count': '15', 'name': 'to-read'}, {'count':...</td>\n",
              "      <td></td>\n",
              "      <td>false</td>\n",
              "      <td>3.44</td>\n",
              "      <td></td>\n",
              "      <td>[]</td>\n",
              "      <td>Like everyone else in the future, Sui's used t...</td>\n",
              "      <td>Paperback Manga</td>\n",
              "      <td>https://www.goodreads.com/book/show/2250580.A_...</td>\n",
              "      <td>[{'author_id': '1015982', 'role': ''}]</td>\n",
              "      <td>Go! Comi</td>\n",
              "      <td>206</td>\n",
              "      <td>2</td>\n",
              "      <td>9781933617640</td>\n",
              "      <td>1</td>\n",
              "      <td></td>\n",
              "      <td>2007</td>\n",
              "      <td>https://www.goodreads.com/book/show/2250580.A_...</td>\n",
              "      <td>https://s.gr-assets.com/assets/nophoto/book/11...</td>\n",
              "      <td>2250580</td>\n",
              "      <td>46</td>\n",
              "      <td>2256459</td>\n",
              "      <td>A.I. Revolution, Vol. 1</td>\n",
              "      <td>A.I. Revolution, Vol. 1</td>\n",
              "    </tr>\n",
              "    <tr>\n",
              "      <th>6</th>\n",
              "      <td>1592912729</td>\n",
              "      <td>9</td>\n",
              "      <td>[834955]</td>\n",
              "      <td>US</td>\n",
              "      <td>eng</td>\n",
              "      <td>[{'count': '47', 'name': 'to-read'}, {'count':...</td>\n",
              "      <td></td>\n",
              "      <td>false</td>\n",
              "      <td>4.15</td>\n",
              "      <td></td>\n",
              "      <td>[]</td>\n",
              "      <td>PRODUCT DESCRIPTION: The first new volume of G...</td>\n",
              "      <td>Paperback</td>\n",
              "      <td>https://www.goodreads.com/book/show/27036536-w...</td>\n",
              "      <td>[{'author_id': '14965', 'role': ''}, {'author_...</td>\n",
              "      <td>Avatar Press</td>\n",
              "      <td>224</td>\n",
              "      <td>26</td>\n",
              "      <td>9781592912728</td>\n",
              "      <td>1</td>\n",
              "      <td></td>\n",
              "      <td>2016</td>\n",
              "      <td>https://www.goodreads.com/book/show/27036536-w...</td>\n",
              "      <td>https://images.gr-assets.com/books/1445402463m...</td>\n",
              "      <td>27036536</td>\n",
              "      <td>39</td>\n",
              "      <td>47077783</td>\n",
              "      <td>War Stories, Volume 3</td>\n",
              "      <td>War Stories, Volume 3</td>\n",
              "    </tr>\n",
              "    <tr>\n",
              "      <th>7</th>\n",
              "      <td>1592912737</td>\n",
              "      <td>2</td>\n",
              "      <td>[961379]</td>\n",
              "      <td>US</td>\n",
              "      <td></td>\n",
              "      <td>[{'count': '24', 'name': 'to-read'}, {'count':...</td>\n",
              "      <td></td>\n",
              "      <td>false</td>\n",
              "      <td>3.16</td>\n",
              "      <td></td>\n",
              "      <td>[]</td>\n",
              "      <td>Comics horror veteran Mike Wolfer writes and i...</td>\n",
              "      <td>Paperback</td>\n",
              "      <td>https://www.goodreads.com/book/show/27036537-c...</td>\n",
              "      <td>[{'author_id': '24594', 'role': ''}]</td>\n",
              "      <td>Avatar Press</td>\n",
              "      <td>160</td>\n",
              "      <td>8</td>\n",
              "      <td>9781592912735</td>\n",
              "      <td>3</td>\n",
              "      <td></td>\n",
              "      <td>2016</td>\n",
              "      <td>https://www.goodreads.com/book/show/27036537-c...</td>\n",
              "      <td>https://images.gr-assets.com/books/1453061084m...</td>\n",
              "      <td>27036537</td>\n",
              "      <td>38</td>\n",
              "      <td>47077784</td>\n",
              "      <td>Crossed, Volume 15</td>\n",
              "      <td>Crossed, Volume 15</td>\n",
              "    </tr>\n",
              "    <tr>\n",
              "      <th>8</th>\n",
              "      <td>1592912753</td>\n",
              "      <td>5</td>\n",
              "      <td>[981445, 981448]</td>\n",
              "      <td>US</td>\n",
              "      <td></td>\n",
              "      <td>[{'count': '17', 'name': 'to-read'}, {'count':...</td>\n",
              "      <td></td>\n",
              "      <td>false</td>\n",
              "      <td>3.51</td>\n",
              "      <td></td>\n",
              "      <td>[]</td>\n",
              "      <td>Alan Moore s redefining of the Crossed univers...</td>\n",
              "      <td>Paperback</td>\n",
              "      <td>https://www.goodreads.com/book/show/27036538-c...</td>\n",
              "      <td>[{'author_id': '14155472', 'role': ''}, {'auth...</td>\n",
              "      <td>Avatar Press</td>\n",
              "      <td>160</td>\n",
              "      <td>22</td>\n",
              "      <td>9781592912759</td>\n",
              "      <td>3</td>\n",
              "      <td></td>\n",
              "      <td>2016</td>\n",
              "      <td>https://www.goodreads.com/book/show/27036538-c...</td>\n",
              "      <td>https://images.gr-assets.com/books/1453061556m...</td>\n",
              "      <td>27036538</td>\n",
              "      <td>44</td>\n",
              "      <td>47077785</td>\n",
              "      <td>Crossed + One Hundred, Volume 2 (Crossed +100 #2)</td>\n",
              "      <td>Crossed + One Hundred, Volume 2 (Crossed +100 #2)</td>\n",
              "    </tr>\n",
              "    <tr>\n",
              "      <th>9</th>\n",
              "      <td>159291277X</td>\n",
              "      <td>4</td>\n",
              "      <td>[834956]</td>\n",
              "      <td>US</td>\n",
              "      <td></td>\n",
              "      <td>[{'count': '35', 'name': 'to-read'}, {'count':...</td>\n",
              "      <td></td>\n",
              "      <td>false</td>\n",
              "      <td>4.00</td>\n",
              "      <td></td>\n",
              "      <td>[]</td>\n",
              "      <td>Garth Ennis visionary series reaches deep into...</td>\n",
              "      <td>Paperback</td>\n",
              "      <td>https://www.goodreads.com/book/show/27036539-w...</td>\n",
              "      <td>[{'author_id': '14965', 'role': ''}, {'author_...</td>\n",
              "      <td>Avatar Press</td>\n",
              "      <td>144</td>\n",
              "      <td>14</td>\n",
              "      <td>9781592912773</td>\n",
              "      <td>6</td>\n",
              "      <td></td>\n",
              "      <td>2016</td>\n",
              "      <td>https://www.goodreads.com/book/show/27036539-w...</td>\n",
              "      <td>https://images.gr-assets.com/books/1453685087m...</td>\n",
              "      <td>27036539</td>\n",
              "      <td>32</td>\n",
              "      <td>47077786</td>\n",
              "      <td>War Stories, Volume 4</td>\n",
              "      <td>War Stories, Volume 4</td>\n",
              "    </tr>\n",
              "  </tbody>\n",
              "</table>\n",
              "</div>"
            ],
            "text/plain": [
              "         isbn  ...                               title_without_series\n",
              "0              ...                              The Switchblade Mamma\n",
              "1  2205073346  ...                                            Cruelle\n",
              "2              ...  Captain America: Winter Soldier (The Ultimate ...\n",
              "3              ...  Bounty Hunter 4/3: My Life in Combat from Mari...\n",
              "4  0930289765  ...                          Superman Archives, Vol. 2\n",
              "5  1933617640  ...                            A.I. Revolution, Vol. 1\n",
              "6  1592912729  ...                              War Stories, Volume 3\n",
              "7  1592912737  ...                                 Crossed, Volume 15\n",
              "8  1592912753  ...  Crossed + One Hundred, Volume 2 (Crossed +100 #2)\n",
              "9  159291277X  ...                              War Stories, Volume 4\n",
              "\n",
              "[10 rows x 29 columns]"
            ]
          },
          "metadata": {
            "tags": []
          },
          "execution_count": 8
        }
      ]
    },
    {
      "cell_type": "code",
      "metadata": {
        "id": "_YXynxB-vHzQ",
        "colab_type": "code",
        "colab": {}
      },
      "source": [
        "books_20 = books.head(20)"
      ],
      "execution_count": 0,
      "outputs": []
    },
    {
      "cell_type": "code",
      "metadata": {
        "id": "qjd33-supITP",
        "colab_type": "code",
        "outputId": "3e70d233-bdb5-4c4e-c8ac-c74b051cd8a7",
        "colab": {
          "base_uri": "https://localhost:8080/",
          "height": 321
        }
      },
      "source": [
        "import numpy as np\n",
        "import matplotlib.pyplot as plt\n",
        "books_20.plot(kind='bar',x='book_id',y='average_rating',color='blue')\n",
        "plt.show()\n"
      ],
      "execution_count": 0,
      "outputs": [
        {
          "output_type": "display_data",
          "data": {
            "image/png": "[encoded data removed]",
            "text/plain": [
              "<Figure size 432x288 with 1 Axes>"
            ]
          },
          "metadata": {
            "tags": []
          }
        }
      ]
    },
    {
      "cell_type": "code",
      "metadata": {
        "id": "5ohhG17RtcWD",
        "colab_type": "code",
        "outputId": "96ec987d-b199-4173-cc85-f7c50abdf739",
        "colab": {
          "base_uri": "https://localhost:8080/",
          "height": 280
        }
      },
      "source": [
        "#ax = plt.gca()\n",
        "books.plot(kind='scatter',x='book_id',y='text_reviews_count',color = 'blue')\n",
        "#books.plot(kind='scatter',x='book_id',y='average_rating', color='red', ax=ax)\n",
        "plt.show()"
      ],
      "execution_count": 0,
      "outputs": [
        {
          "output_type": "display_data",
          "data": {
            "image/png": "[encoded data removed]",
            "text/plain": [
              "<Figure size 432x288 with 1 Axes>"
            ]
          },
          "metadata": {
            "tags": []
          }
        }
      ]
    },
    {
      "cell_type": "markdown",
      "metadata": {
        "id": "n4vdpHn5IKyV",
        "colab_type": "text"
      },
      "source": [
        "###### As part of pre-processing, we will drop columns that we do not require . After pre-processing, the book data will have below features\n",
        "text_reviews_count      \n",
        "country_code            \n",
        "language_code           \n",
        "popular_shelves         \n",
        "is_ebook                \n",
        "average_rating   \n",
        "description            \n",
        "authors                 \n",
        "publication_year        \n",
        "book_id                 \n",
        "ratings_count           \n",
        "title                   \n",
        "title_without_series   \n",
        "\n",
        "\n",
        "\n"
      ]
    },
    {
      "cell_type": "code",
      "metadata": {
        "id": "A5EqLSYoAV9n",
        "colab_type": "code",
        "outputId": "1fe8fa9b-92f6-4584-cf62-26abdd204001",
        "colab": {
          "base_uri": "https://localhost:8080/",
          "height": 395
        }
      },
      "source": [
        "fn1 = '/content/drive/Shared drives/Project_256/goodreads_interactions_comics_graphic.json.gz'\n",
        "interactions = pd.read_json(fn1, lines=True, compression='gzip')\n",
        "interactions.tail()"
      ],
      "execution_count": 0,
      "outputs": [
        {
          "output_type": "execute_result",
          "data": {
            "text/html": [
              "<div>\n",
              "<style scoped>\n",
              "    .dataframe tbody tr th:only-of-type {\n",
              "        vertical-align: middle;\n",
              "    }\n",
              "\n",
              "    .dataframe tbody tr th {\n",
              "        vertical-align: top;\n",
              "    }\n",
              "\n",
              "    .dataframe thead th {\n",
              "        text-align: right;\n",
              "    }\n",
              "</style>\n",
              "<table border=\"1\" class=\"dataframe\">\n",
              "  <thead>\n",
              "    <tr style=\"text-align: right;\">\n",
              "      <th></th>\n",
              "      <th>user_id</th>\n",
              "      <th>book_id</th>\n",
              "      <th>review_id</th>\n",
              "      <th>is_read</th>\n",
              "      <th>rating</th>\n",
              "      <th>review_text_incomplete</th>\n",
              "      <th>date_added</th>\n",
              "      <th>date_updated</th>\n",
              "      <th>read_at</th>\n",
              "      <th>started_at</th>\n",
              "    </tr>\n",
              "  </thead>\n",
              "  <tbody>\n",
              "    <tr>\n",
              "      <th>7347625</th>\n",
              "      <td>bd3ac2e547a4f521927056cbd6bb5c2f</td>\n",
              "      <td>1484167</td>\n",
              "      <td>bbaef6acb7e6e1a165e3b52c1ad56c67</td>\n",
              "      <td>True</td>\n",
              "      <td>5</td>\n",
              "      <td></td>\n",
              "      <td>Thu Jun 07 08:39:53 -0700 2012</td>\n",
              "      <td>Thu Jun 07 08:39:53 -0700 2012</td>\n",
              "      <td></td>\n",
              "      <td></td>\n",
              "    </tr>\n",
              "    <tr>\n",
              "      <th>7347626</th>\n",
              "      <td>bd3ac2e547a4f521927056cbd6bb5c2f</td>\n",
              "      <td>122451</td>\n",
              "      <td>cdd31f160c2db01232b9998600940d0c</td>\n",
              "      <td>True</td>\n",
              "      <td>5</td>\n",
              "      <td></td>\n",
              "      <td>Wed Jun 06 15:17:39 -0700 2012</td>\n",
              "      <td>Wed Jun 06 15:17:39 -0700 2012</td>\n",
              "      <td></td>\n",
              "      <td></td>\n",
              "    </tr>\n",
              "    <tr>\n",
              "      <th>7347627</th>\n",
              "      <td>6384a10d5611945b26b25c971f348fa4</td>\n",
              "      <td>85574</td>\n",
              "      <td>2047dd9f2fc589340a9ec011fbcff490</td>\n",
              "      <td>True</td>\n",
              "      <td>3</td>\n",
              "      <td></td>\n",
              "      <td>Mon Nov 05 10:37:35 -0800 2012</td>\n",
              "      <td>Mon Nov 05 10:37:48 -0800 2012</td>\n",
              "      <td></td>\n",
              "      <td></td>\n",
              "    </tr>\n",
              "    <tr>\n",
              "      <th>7347628</th>\n",
              "      <td>e9aea57d21cdf9d91a65687d59518924</td>\n",
              "      <td>15197</td>\n",
              "      <td>e8df0a577d4fd440b223c54cdf641dc0</td>\n",
              "      <td>True</td>\n",
              "      <td>5</td>\n",
              "      <td></td>\n",
              "      <td>Mon Jun 04 15:45:50 -0700 2012</td>\n",
              "      <td>Mon Jun 04 15:45:50 -0700 2012</td>\n",
              "      <td></td>\n",
              "      <td></td>\n",
              "    </tr>\n",
              "    <tr>\n",
              "      <th>7347629</th>\n",
              "      <td>762121298ddd3820c9477c6f03f145ab</td>\n",
              "      <td>6493321</td>\n",
              "      <td>98c8116e2fc021e6c5a3cbb8787a993d</td>\n",
              "      <td>True</td>\n",
              "      <td>4</td>\n",
              "      <td></td>\n",
              "      <td>Sat Jun 09 11:53:18 -0700 2012</td>\n",
              "      <td>Sat Jun 09 11:53:18 -0700 2012</td>\n",
              "      <td></td>\n",
              "      <td></td>\n",
              "    </tr>\n",
              "  </tbody>\n",
              "</table>\n",
              "</div>"
            ],
            "text/plain": [
              "                                  user_id  book_id  ... read_at  started_at\n",
              "7347625  bd3ac2e547a4f521927056cbd6bb5c2f  1484167  ...                    \n",
              "7347626  bd3ac2e547a4f521927056cbd6bb5c2f   122451  ...                    \n",
              "7347627  6384a10d5611945b26b25c971f348fa4    85574  ...                    \n",
              "7347628  e9aea57d21cdf9d91a65687d59518924    15197  ...                    \n",
              "7347629  762121298ddd3820c9477c6f03f145ab  6493321  ...                    \n",
              "\n",
              "[5 rows x 10 columns]"
            ]
          },
          "metadata": {
            "tags": []
          },
          "execution_count": 22
        }
      ]
    },
    {
      "cell_type": "code",
      "metadata": {
        "id": "plElVej6Cch-",
        "colab_type": "code",
        "outputId": "3e181487-212d-4af2-ed09-193726bb5cf0",
        "colab": {
          "base_uri": "https://localhost:8080/",
          "height": 277
        }
      },
      "source": [
        "interactions.info()"
      ],
      "execution_count": 0,
      "outputs": [
        {
          "output_type": "stream",
          "text": [
            "<class 'pandas.core.frame.DataFrame'>\n",
            "RangeIndex: 7347630 entries, 0 to 7347629\n",
            "Data columns (total 10 columns):\n",
            "user_id                   object\n",
            "book_id                   int64\n",
            "review_id                 object\n",
            "is_read                   bool\n",
            "rating                    int64\n",
            "review_text_incomplete    object\n",
            "date_added                object\n",
            "date_updated              object\n",
            "read_at                   object\n",
            "started_at                object\n",
            "dtypes: bool(1), int64(2), object(7)\n",
            "memory usage: 511.5+ MB\n"
          ],
          "name": "stdout"
        }
      ]
    },
    {
      "cell_type": "code",
      "metadata": {
        "id": "oLD_NCFGH4A2",
        "colab_type": "code",
        "outputId": "e9d05e11-d501-4c44-f942-01eed3c22a80",
        "colab": {
          "base_uri": "https://localhost:8080/",
          "height": 35
        }
      },
      "source": [
        "interactions.review_id.nunique()"
      ],
      "execution_count": 0,
      "outputs": [
        {
          "output_type": "execute_result",
          "data": {
            "text/plain": [
              "7347630"
            ]
          },
          "metadata": {
            "tags": []
          },
          "execution_count": 24
        }
      ]
    },
    {
      "cell_type": "code",
      "metadata": {
        "id": "NPBRKYsXNmUj",
        "colab_type": "code",
        "outputId": "acd4a15e-6c3e-4a21-ae0b-6b3a6c9c06ac",
        "colab": {
          "base_uri": "https://localhost:8080/",
          "height": 69
        }
      },
      "source": [
        "display(interactions[interactions.duplicated(['user_id', 'book_id'], keep=False)])"
      ],
      "execution_count": 0,
      "outputs": [
        {
          "output_type": "display_data",
          "data": {
            "text/html": [
              "<div>\n",
              "<style scoped>\n",
              "    .dataframe tbody tr th:only-of-type {\n",
              "        vertical-align: middle;\n",
              "    }\n",
              "\n",
              "    .dataframe tbody tr th {\n",
              "        vertical-align: top;\n",
              "    }\n",
              "\n",
              "    .dataframe thead th {\n",
              "        text-align: right;\n",
              "    }\n",
              "</style>\n",
              "<table border=\"1\" class=\"dataframe\">\n",
              "  <thead>\n",
              "    <tr style=\"text-align: right;\">\n",
              "      <th></th>\n",
              "      <th>user_id</th>\n",
              "      <th>book_id</th>\n",
              "      <th>review_id</th>\n",
              "      <th>is_read</th>\n",
              "      <th>rating</th>\n",
              "      <th>review_text_incomplete</th>\n",
              "      <th>date_added</th>\n",
              "      <th>date_updated</th>\n",
              "      <th>read_at</th>\n",
              "      <th>started_at</th>\n",
              "    </tr>\n",
              "  </thead>\n",
              "  <tbody>\n",
              "  </tbody>\n",
              "</table>\n",
              "</div>"
            ],
            "text/plain": [
              "Empty DataFrame\n",
              "Columns: [user_id, book_id, review_id, is_read, rating, review_text_incomplete, date_added, date_updated, read_at, started_at]\n",
              "Index: []"
            ]
          },
          "metadata": {
            "tags": []
          }
        }
      ]
    },
    {
      "cell_type": "code",
      "metadata": {
        "id": "XakC7sA2MtNd",
        "colab_type": "code",
        "colab": {}
      },
      "source": [
        "shelve_user = interactions['user_id'].value_counts().value_counts().reset_index().sort_values('index').values\n",
        "read_user = interactions['user_id'].loc[interactions['is_read']>0].value_counts().value_counts().reset_index().sort_values('index').values\n",
        "rate_user = interactions['user_id'].loc[interactions['rating']>0].value_counts().value_counts().reset_index().sort_values('index').values\n",
        "#review_user = df['user_id'].loc[df['is_reviewed']>0].value_counts().value_counts().reset_index().sort_values('index').values\n",
        "\n",
        "shelve_book = interactions['book_id'].value_counts().value_counts().reset_index().sort_values('index').values\n",
        "read_book = interactions['book_id'].loc[interactions['is_read']>0].value_counts().value_counts().reset_index().sort_values('index').values\n",
        "rate_book = interactions['book_id'].loc[interactions['rating']>0].value_counts().value_counts().reset_index().sort_values('index').values"
      ],
      "execution_count": 0,
      "outputs": []
    },
    {
      "cell_type": "code",
      "metadata": {
        "id": "vLipRnFnM400",
        "colab_type": "code",
        "outputId": "8458b0c7-6d57-4a86-efb6-103dad02ea13",
        "colab": {
          "base_uri": "https://localhost:8080/",
          "height": 317
        }
      },
      "source": [
        "import matplotlib.pyplot as plt\n",
        "plt.loglog(shelve_user[:,0], shelve_user[:,1], label='shelve')\n",
        "plt.loglog(read_user[:,0], read_user[:,1], label='read')\n",
        "plt.loglog(rate_user[:,0], rate_user[:,1], label='rate')\n",
        "#plt.loglog(review_user[:,0], review_user[:,1], label='review')\n",
        "plt.xlabel('rank')\n",
        "plt.ylabel('frequency')\n",
        "plt.title('Log-Log Plot of the Distribution of Users')\n",
        "plt.legend(loc='upper right')"
      ],
      "execution_count": 0,
      "outputs": [
        {
          "output_type": "execute_result",
          "data": {
            "text/plain": [
              "<matplotlib.legend.Legend at 0x7fc04d3aa048>"
            ]
          },
          "metadata": {
            "tags": []
          },
          "execution_count": 29
        },
        {
          "output_type": "display_data",
          "data": {
            "image/png": "[encoded data removed]",
            "text/plain": [
              "<Figure size 432x288 with 1 Axes>"
            ]
          },
          "metadata": {
            "tags": []
          }
        }
      ]
    },
    {
      "cell_type": "code",
      "metadata": {
        "id": "8fpA7Q_GgCU1",
        "colab_type": "code",
        "outputId": "4a1ef30b-6c26-4ec6-da9b-f3bcc7810d91",
        "colab": {
          "base_uri": "https://localhost:8080/",
          "height": 280
        }
      },
      "source": [
        "interactions_10000 = interactions.head(10000)\n",
        "interactions_10000.plot(kind='scatter',x='book_id',y='rating',color = 'blue')\n",
        "plt.show()"
      ],
      "execution_count": 0,
      "outputs": [
        {
          "output_type": "display_data",
          "data": {
            "image/png": "[encoded data removed]",
            "text/plain": [
              "<Figure size 432x288 with 1 Axes>"
            ]
          },
          "metadata": {
            "tags": []
          }
        }
      ]
    },
    {
      "cell_type": "code",
      "metadata": {
        "id": "GCCE3ntqC-_a",
        "colab_type": "code",
        "outputId": "02e3b35c-80c4-4e7b-c4d2-d84dd38e7b05",
        "colab": {
          "base_uri": "https://localhost:8080/",
          "height": 551
        }
      },
      "source": [
        "fn2 = '/content/drive/Shared drives/Project_256/goodreads_reviews_comics_graphic.json.gz'\n",
        "reviews = pd.read_json(fn2, lines=True, compression='gzip')\n",
        "reviews.tail()"
      ],
      "execution_count": 0,
      "outputs": [
        {
          "output_type": "execute_result",
          "data": {
            "text/html": [
              "<div>\n",
              "<style scoped>\n",
              "    .dataframe tbody tr th:only-of-type {\n",
              "        vertical-align: middle;\n",
              "    }\n",
              "\n",
              "    .dataframe tbody tr th {\n",
              "        vertical-align: top;\n",
              "    }\n",
              "\n",
              "    .dataframe thead th {\n",
              "        text-align: right;\n",
              "    }\n",
              "</style>\n",
              "<table border=\"1\" class=\"dataframe\">\n",
              "  <thead>\n",
              "    <tr style=\"text-align: right;\">\n",
              "      <th></th>\n",
              "      <th>user_id</th>\n",
              "      <th>book_id</th>\n",
              "      <th>review_id</th>\n",
              "      <th>rating</th>\n",
              "      <th>review_text</th>\n",
              "      <th>date_added</th>\n",
              "      <th>date_updated</th>\n",
              "      <th>read_at</th>\n",
              "      <th>started_at</th>\n",
              "      <th>n_votes</th>\n",
              "      <th>n_comments</th>\n",
              "    </tr>\n",
              "  </thead>\n",
              "  <tbody>\n",
              "    <tr>\n",
              "      <th>542333</th>\n",
              "      <td>c9174473efac302c71adaa1ad2a46091</td>\n",
              "      <td>20176586</td>\n",
              "      <td>8e069a687dbecae9ffe7f5fa8772ac08</td>\n",
              "      <td>3</td>\n",
              "      <td>Bumping this up to a three star rating primari...</td>\n",
              "      <td>Tue Jan 26 20:42:40 -0800 2016</td>\n",
              "      <td>Tue Jan 26 20:46:31 -0800 2016</td>\n",
              "      <td>Wed Jan 27 20:46:31 -0800 2016</td>\n",
              "      <td>Tue Jan 26 00:00:00 -0800 2016</td>\n",
              "      <td>0</td>\n",
              "      <td>0</td>\n",
              "    </tr>\n",
              "    <tr>\n",
              "      <th>542334</th>\n",
              "      <td>64946797934367a178abe75e3febce66</td>\n",
              "      <td>11465282</td>\n",
              "      <td>77c383db515b63f84ad0f5de0cb5991d</td>\n",
              "      <td>3</td>\n",
              "      <td>The story didn't pull me in although I'm aware...</td>\n",
              "      <td>Wed Mar 18 06:23:25 -0700 2015</td>\n",
              "      <td>Sun Mar 29 12:54:35 -0700 2015</td>\n",
              "      <td>Sun Mar 29 12:54:35 -0700 2015</td>\n",
              "      <td>Wed Mar 18 00:00:00 -0700 2015</td>\n",
              "      <td>0</td>\n",
              "      <td>0</td>\n",
              "    </tr>\n",
              "    <tr>\n",
              "      <th>542335</th>\n",
              "      <td>bd575ed739592a8c20c346e5daa5ac76</td>\n",
              "      <td>31094296</td>\n",
              "      <td>9e059a74a7107fb57f5b45ded1abadb6</td>\n",
              "      <td>5</td>\n",
              "      <td>Stunning follow up. Once again it's not the ar...</td>\n",
              "      <td>Mon Oct 02 07:42:53 -0700 2017</td>\n",
              "      <td>Mon Oct 02 07:44:18 -0700 2017</td>\n",
              "      <td></td>\n",
              "      <td></td>\n",
              "      <td>0</td>\n",
              "      <td>0</td>\n",
              "    </tr>\n",
              "    <tr>\n",
              "      <th>542336</th>\n",
              "      <td>bd575ed739592a8c20c346e5daa5ac76</td>\n",
              "      <td>27404461</td>\n",
              "      <td>de2a13cd890ead821d846398239d5f1f</td>\n",
              "      <td>5</td>\n",
              "      <td>I grew up with the Terran Trade Authority book...</td>\n",
              "      <td>Sun Dec 06 12:34:17 -0800 2015</td>\n",
              "      <td>Mon Oct 02 07:42:28 -0700 2017</td>\n",
              "      <td>Sun Dec 06 12:39:44 -0800 2015</td>\n",
              "      <td>Wed Dec 02 00:00:00 -0800 2015</td>\n",
              "      <td>0</td>\n",
              "      <td>0</td>\n",
              "    </tr>\n",
              "    <tr>\n",
              "      <th>542337</th>\n",
              "      <td>bd575ed739592a8c20c346e5daa5ac76</td>\n",
              "      <td>138398</td>\n",
              "      <td>36a3f1c2fc2cfb96e70773106e158489</td>\n",
              "      <td>4</td>\n",
              "      <td>For me, this came after playing the Telltale g...</td>\n",
              "      <td>Wed Apr 03 10:10:41 -0700 2013</td>\n",
              "      <td>Wed Apr 03 10:15:04 -0700 2013</td>\n",
              "      <td></td>\n",
              "      <td></td>\n",
              "      <td>0</td>\n",
              "      <td>0</td>\n",
              "    </tr>\n",
              "  </tbody>\n",
              "</table>\n",
              "</div>"
            ],
            "text/plain": [
              "                                 user_id   book_id  ... n_votes  n_comments\n",
              "542333  c9174473efac302c71adaa1ad2a46091  20176586  ...       0           0\n",
              "542334  64946797934367a178abe75e3febce66  11465282  ...       0           0\n",
              "542335  bd575ed739592a8c20c346e5daa5ac76  31094296  ...       0           0\n",
              "542336  bd575ed739592a8c20c346e5daa5ac76  27404461  ...       0           0\n",
              "542337  bd575ed739592a8c20c346e5daa5ac76    138398  ...       0           0\n",
              "\n",
              "[5 rows x 11 columns]"
            ]
          },
          "metadata": {
            "tags": []
          },
          "execution_count": 47
        }
      ]
    },
    {
      "cell_type": "code",
      "metadata": {
        "id": "OXn77x8uDhMR",
        "colab_type": "code",
        "outputId": "540b7d5b-49b2-4d5c-dccb-5f83c9f513ab",
        "colab": {
          "base_uri": "https://localhost:8080/",
          "height": 295
        }
      },
      "source": [
        "reviews.info()"
      ],
      "execution_count": 0,
      "outputs": [
        {
          "output_type": "stream",
          "text": [
            "<class 'pandas.core.frame.DataFrame'>\n",
            "RangeIndex: 542338 entries, 0 to 542337\n",
            "Data columns (total 11 columns):\n",
            "user_id         542338 non-null object\n",
            "book_id         542338 non-null int64\n",
            "review_id       542338 non-null object\n",
            "rating          542338 non-null int64\n",
            "review_text     542338 non-null object\n",
            "date_added      542338 non-null object\n",
            "date_updated    542338 non-null object\n",
            "read_at         542338 non-null object\n",
            "started_at      542338 non-null object\n",
            "n_votes         542338 non-null int64\n",
            "n_comments      542338 non-null int64\n",
            "dtypes: int64(4), object(7)\n",
            "memory usage: 45.5+ MB\n"
          ],
          "name": "stdout"
        }
      ]
    },
    {
      "cell_type": "code",
      "metadata": {
        "id": "riAvywCXRKKG",
        "colab_type": "code",
        "colab": {}
      },
      "source": [
        "books_filtered=books[['text_reviews_count','country_code','language_code','popular_shelves','is_ebook','average_rating','description','authors','publication_year','book_id','ratings_count','title','title_without_series']]"
      ],
      "execution_count": 0,
      "outputs": []
    },
    {
      "cell_type": "code",
      "metadata": {
        "id": "TtbI8ULyRkBk",
        "colab_type": "code",
        "outputId": "93579679-6535-4d77-ffdd-689fbedc18fd",
        "colab": {
          "base_uri": "https://localhost:8080/",
          "height": 551
        }
      },
      "source": [
        "books_filtered.head()"
      ],
      "execution_count": 0,
      "outputs": [
        {
          "output_type": "execute_result",
          "data": {
            "text/html": [
              "<div>\n",
              "<style scoped>\n",
              "    .dataframe tbody tr th:only-of-type {\n",
              "        vertical-align: middle;\n",
              "    }\n",
              "\n",
              "    .dataframe tbody tr th {\n",
              "        vertical-align: top;\n",
              "    }\n",
              "\n",
              "    .dataframe thead th {\n",
              "        text-align: right;\n",
              "    }\n",
              "</style>\n",
              "<table border=\"1\" class=\"dataframe\">\n",
              "  <thead>\n",
              "    <tr style=\"text-align: right;\">\n",
              "      <th></th>\n",
              "      <th>text_reviews_count</th>\n",
              "      <th>country_code</th>\n",
              "      <th>language_code</th>\n",
              "      <th>popular_shelves</th>\n",
              "      <th>is_ebook</th>\n",
              "      <th>average_rating</th>\n",
              "      <th>description</th>\n",
              "      <th>authors</th>\n",
              "      <th>publication_year</th>\n",
              "      <th>book_id</th>\n",
              "      <th>ratings_count</th>\n",
              "      <th>title</th>\n",
              "      <th>title_without_series</th>\n",
              "    </tr>\n",
              "  </thead>\n",
              "  <tbody>\n",
              "    <tr>\n",
              "      <th>0</th>\n",
              "      <td>1</td>\n",
              "      <td>US</td>\n",
              "      <td></td>\n",
              "      <td>[{'count': '228', 'name': 'to-read'}, {'count'...</td>\n",
              "      <td>true</td>\n",
              "      <td>4.12</td>\n",
              "      <td>Lillian Ann Cross is forced to live the worst ...</td>\n",
              "      <td>[{'author_id': '8551671', 'role': ''}]</td>\n",
              "      <td></td>\n",
              "      <td>25742454</td>\n",
              "      <td>1</td>\n",
              "      <td>The Switchblade Mamma</td>\n",
              "      <td>The Switchblade Mamma</td>\n",
              "    </tr>\n",
              "    <tr>\n",
              "      <th>1</th>\n",
              "      <td>2</td>\n",
              "      <td>US</td>\n",
              "      <td>fre</td>\n",
              "      <td>[{'count': '2', 'name': 'bd'}, {'count': '2', ...</td>\n",
              "      <td>false</td>\n",
              "      <td>3.94</td>\n",
              "      <td>Florence Dupre Latour raconte comment, de son ...</td>\n",
              "      <td>[{'author_id': '3274315', 'role': ''}]</td>\n",
              "      <td>2016</td>\n",
              "      <td>30128855</td>\n",
              "      <td>16</td>\n",
              "      <td>Cruelle</td>\n",
              "      <td>Cruelle</td>\n",
              "    </tr>\n",
              "    <tr>\n",
              "      <th>2</th>\n",
              "      <td>5</td>\n",
              "      <td>US</td>\n",
              "      <td>eng</td>\n",
              "      <td>[{'count': '493', 'name': 'to-read'}, {'count'...</td>\n",
              "      <td>false</td>\n",
              "      <td>4.28</td>\n",
              "      <td>The questions plaguing Captain America's dream...</td>\n",
              "      <td>[{'author_id': '37450', 'role': ''}]</td>\n",
              "      <td>2012</td>\n",
              "      <td>13571772</td>\n",
              "      <td>51</td>\n",
              "      <td>Captain America: Winter Soldier (The Ultimate ...</td>\n",
              "      <td>Captain America: Winter Soldier (The Ultimate ...</td>\n",
              "    </tr>\n",
              "    <tr>\n",
              "      <th>3</th>\n",
              "      <td>1</td>\n",
              "      <td>US</td>\n",
              "      <td>eng</td>\n",
              "      <td>[{'count': '222', 'name': 'to-read'}, {'count'...</td>\n",
              "      <td>true</td>\n",
              "      <td>4.05</td>\n",
              "      <td>The fight for Jason Delgado's life and soul be...</td>\n",
              "      <td>[{'author_id': '16209952', 'role': ''}, {'auth...</td>\n",
              "      <td></td>\n",
              "      <td>35452242</td>\n",
              "      <td>6</td>\n",
              "      <td>Bounty Hunter 4/3: My Life in Combat from Mari...</td>\n",
              "      <td>Bounty Hunter 4/3: My Life in Combat from Mari...</td>\n",
              "    </tr>\n",
              "    <tr>\n",
              "      <th>4</th>\n",
              "      <td>6</td>\n",
              "      <td>US</td>\n",
              "      <td>en-US</td>\n",
              "      <td>[{'count': '20', 'name': 'to-read'}, {'count':...</td>\n",
              "      <td>false</td>\n",
              "      <td>4.06</td>\n",
              "      <td>These are the stories that catapulted Superman...</td>\n",
              "      <td>[{'author_id': '81563', 'role': ''}, {'author_...</td>\n",
              "      <td>1997</td>\n",
              "      <td>707611</td>\n",
              "      <td>51</td>\n",
              "      <td>Superman Archives, Vol. 2</td>\n",
              "      <td>Superman Archives, Vol. 2</td>\n",
              "    </tr>\n",
              "  </tbody>\n",
              "</table>\n",
              "</div>"
            ],
            "text/plain": [
              "   text_reviews_count  ...                               title_without_series\n",
              "0                   1  ...                              The Switchblade Mamma\n",
              "1                   2  ...                                            Cruelle\n",
              "2                   5  ...  Captain America: Winter Soldier (The Ultimate ...\n",
              "3                   1  ...  Bounty Hunter 4/3: My Life in Combat from Mari...\n",
              "4                   6  ...                          Superman Archives, Vol. 2\n",
              "\n",
              "[5 rows x 13 columns]"
            ]
          },
          "metadata": {
            "tags": []
          },
          "execution_count": 50
        }
      ]
    },
    {
      "cell_type": "code",
      "metadata": {
        "id": "ft8nUnVnUAyi",
        "colab_type": "code",
        "colab": {}
      },
      "source": [
        "interactions_filtered = interactions[['user_id','book_id','review_id','is_read','rating','date_added','date_updated','read_at','started_at']]"
      ],
      "execution_count": 0,
      "outputs": []
    },
    {
      "cell_type": "code",
      "metadata": {
        "id": "SINGSk1QUf5W",
        "colab_type": "code",
        "outputId": "3ee86e87-a309-4880-b9f9-4a68a859c886",
        "colab": {
          "base_uri": "https://localhost:8080/",
          "height": 395
        }
      },
      "source": [
        "interactions_filtered.head()"
      ],
      "execution_count": 0,
      "outputs": [
        {
          "output_type": "execute_result",
          "data": {
            "text/html": [
              "<div>\n",
              "<style scoped>\n",
              "    .dataframe tbody tr th:only-of-type {\n",
              "        vertical-align: middle;\n",
              "    }\n",
              "\n",
              "    .dataframe tbody tr th {\n",
              "        vertical-align: top;\n",
              "    }\n",
              "\n",
              "    .dataframe thead th {\n",
              "        text-align: right;\n",
              "    }\n",
              "</style>\n",
              "<table border=\"1\" class=\"dataframe\">\n",
              "  <thead>\n",
              "    <tr style=\"text-align: right;\">\n",
              "      <th></th>\n",
              "      <th>user_id</th>\n",
              "      <th>book_id</th>\n",
              "      <th>review_id</th>\n",
              "      <th>is_read</th>\n",
              "      <th>rating</th>\n",
              "      <th>date_added</th>\n",
              "      <th>date_updated</th>\n",
              "      <th>read_at</th>\n",
              "      <th>started_at</th>\n",
              "    </tr>\n",
              "  </thead>\n",
              "  <tbody>\n",
              "    <tr>\n",
              "      <th>0</th>\n",
              "      <td>8842281e1d1347389f2ab93d60773d4d</td>\n",
              "      <td>836610</td>\n",
              "      <td>6b4db26aafeaf0da77c7de6214331e1e</td>\n",
              "      <td>False</td>\n",
              "      <td>0</td>\n",
              "      <td>Mon Aug 21 12:11:00 -0700 2017</td>\n",
              "      <td>Mon Aug 21 12:11:00 -0700 2017</td>\n",
              "      <td></td>\n",
              "      <td></td>\n",
              "    </tr>\n",
              "    <tr>\n",
              "      <th>1</th>\n",
              "      <td>8842281e1d1347389f2ab93d60773d4d</td>\n",
              "      <td>7648967</td>\n",
              "      <td>99b27059f711c37de8f90ee8e4dc0d1b</td>\n",
              "      <td>False</td>\n",
              "      <td>0</td>\n",
              "      <td>Fri Feb 24 08:59:44 -0800 2017</td>\n",
              "      <td>Fri Feb 24 08:59:44 -0800 2017</td>\n",
              "      <td></td>\n",
              "      <td></td>\n",
              "    </tr>\n",
              "    <tr>\n",
              "      <th>2</th>\n",
              "      <td>8842281e1d1347389f2ab93d60773d4d</td>\n",
              "      <td>15704307</td>\n",
              "      <td>cb944d94854df5afd22210bb0aa0c903</td>\n",
              "      <td>False</td>\n",
              "      <td>0</td>\n",
              "      <td>Wed May 20 21:28:56 -0700 2015</td>\n",
              "      <td>Wed May 20 21:28:57 -0700 2015</td>\n",
              "      <td></td>\n",
              "      <td></td>\n",
              "    </tr>\n",
              "    <tr>\n",
              "      <th>3</th>\n",
              "      <td>8842281e1d1347389f2ab93d60773d4d</td>\n",
              "      <td>6902644</td>\n",
              "      <td>2711bac2a8cc600dae1590a6ca0edb34</td>\n",
              "      <td>False</td>\n",
              "      <td>0</td>\n",
              "      <td>Sun Jun 01 17:25:23 -0700 2014</td>\n",
              "      <td>Sun Jun 01 17:25:23 -0700 2014</td>\n",
              "      <td></td>\n",
              "      <td></td>\n",
              "    </tr>\n",
              "    <tr>\n",
              "      <th>4</th>\n",
              "      <td>8842281e1d1347389f2ab93d60773d4d</td>\n",
              "      <td>9844623</td>\n",
              "      <td>b72979076d1cded25dded922195e5b1c</td>\n",
              "      <td>False</td>\n",
              "      <td>0</td>\n",
              "      <td>Sun Sep 02 08:45:08 -0700 2012</td>\n",
              "      <td>Sun Sep 02 08:45:08 -0700 2012</td>\n",
              "      <td></td>\n",
              "      <td></td>\n",
              "    </tr>\n",
              "  </tbody>\n",
              "</table>\n",
              "</div>"
            ],
            "text/plain": [
              "                            user_id   book_id  ... read_at  started_at\n",
              "0  8842281e1d1347389f2ab93d60773d4d    836610  ...                    \n",
              "1  8842281e1d1347389f2ab93d60773d4d   7648967  ...                    \n",
              "2  8842281e1d1347389f2ab93d60773d4d  15704307  ...                    \n",
              "3  8842281e1d1347389f2ab93d60773d4d   6902644  ...                    \n",
              "4  8842281e1d1347389f2ab93d60773d4d   9844623  ...                    \n",
              "\n",
              "[5 rows x 9 columns]"
            ]
          },
          "metadata": {
            "tags": []
          },
          "execution_count": 52
        }
      ]
    },
    {
      "cell_type": "code",
      "metadata": {
        "id": "fdt_g3u5U8JB",
        "colab_type": "code",
        "colab": {}
      },
      "source": [
        "reviews_filtered = reviews[['review_id','review_text','n_votes','n_comments']]"
      ],
      "execution_count": 0,
      "outputs": []
    },
    {
      "cell_type": "code",
      "metadata": {
        "id": "lgBLjnAjVVg5",
        "colab_type": "code",
        "outputId": "fc804a5a-b491-4aa3-de0d-9e8827625165",
        "colab": {
          "base_uri": "https://localhost:8080/",
          "height": 202
        }
      },
      "source": [
        "reviews_filtered.head()"
      ],
      "execution_count": 0,
      "outputs": [
        {
          "output_type": "execute_result",
          "data": {
            "text/html": [
              "<div>\n",
              "<style scoped>\n",
              "    .dataframe tbody tr th:only-of-type {\n",
              "        vertical-align: middle;\n",
              "    }\n",
              "\n",
              "    .dataframe tbody tr th {\n",
              "        vertical-align: top;\n",
              "    }\n",
              "\n",
              "    .dataframe thead th {\n",
              "        text-align: right;\n",
              "    }\n",
              "</style>\n",
              "<table border=\"1\" class=\"dataframe\">\n",
              "  <thead>\n",
              "    <tr style=\"text-align: right;\">\n",
              "      <th></th>\n",
              "      <th>review_id</th>\n",
              "      <th>review_text</th>\n",
              "      <th>n_votes</th>\n",
              "      <th>n_comments</th>\n",
              "    </tr>\n",
              "  </thead>\n",
              "  <tbody>\n",
              "    <tr>\n",
              "      <th>0</th>\n",
              "      <td>66b2ba840f9bd36d6d27f46136fe4772</td>\n",
              "      <td>Sherlock Holmes and the Vampires of London \\n ...</td>\n",
              "      <td>0</td>\n",
              "      <td>0</td>\n",
              "    </tr>\n",
              "    <tr>\n",
              "      <th>1</th>\n",
              "      <td>72f1229aba5a88f9e72f0dcdc007dd22</td>\n",
              "      <td>I've never really liked Spider-Man. I am, howe...</td>\n",
              "      <td>0</td>\n",
              "      <td>0</td>\n",
              "    </tr>\n",
              "    <tr>\n",
              "      <th>2</th>\n",
              "      <td>a75309355f8662caaa5e2c92ab693d3f</td>\n",
              "      <td>A very quick introduction, this is coming out ...</td>\n",
              "      <td>0</td>\n",
              "      <td>0</td>\n",
              "    </tr>\n",
              "    <tr>\n",
              "      <th>3</th>\n",
              "      <td>c3cc5a3e1d6b6c9cf1c044f306c8e752</td>\n",
              "      <td>I've been waiting so long for this. I first st...</td>\n",
              "      <td>1</td>\n",
              "      <td>0</td>\n",
              "    </tr>\n",
              "    <tr>\n",
              "      <th>4</th>\n",
              "      <td>cc444be37ab0a42bfb4dd818cb5edd10</td>\n",
              "      <td>The only thing more entertaining than this boo...</td>\n",
              "      <td>0</td>\n",
              "      <td>0</td>\n",
              "    </tr>\n",
              "  </tbody>\n",
              "</table>\n",
              "</div>"
            ],
            "text/plain": [
              "                          review_id  ... n_comments\n",
              "0  66b2ba840f9bd36d6d27f46136fe4772  ...          0\n",
              "1  72f1229aba5a88f9e72f0dcdc007dd22  ...          0\n",
              "2  a75309355f8662caaa5e2c92ab693d3f  ...          0\n",
              "3  c3cc5a3e1d6b6c9cf1c044f306c8e752  ...          0\n",
              "4  cc444be37ab0a42bfb4dd818cb5edd10  ...          0\n",
              "\n",
              "[5 rows x 4 columns]"
            ]
          },
          "metadata": {
            "tags": []
          },
          "execution_count": 54
        }
      ]
    },
    {
      "cell_type": "code",
      "metadata": {
        "id": "7ATLnSxQHBTN",
        "colab_type": "code",
        "outputId": "6a29bf91-14fd-4f99-8564-79fa7a3ce371",
        "colab": {
          "base_uri": "https://localhost:8080/",
          "height": 35
        }
      },
      "source": [
        "len(reviews_filtered)"
      ],
      "execution_count": 0,
      "outputs": [
        {
          "output_type": "execute_result",
          "data": {
            "text/plain": [
              "542338"
            ]
          },
          "metadata": {
            "tags": []
          },
          "execution_count": 55
        }
      ]
    },
    {
      "cell_type": "code",
      "metadata": {
        "id": "0tXlIhr-GadX",
        "colab_type": "code",
        "outputId": "7aadfafd-cf39-4c73-ecfa-04ca5b845a0c",
        "colab": {
          "base_uri": "https://localhost:8080/",
          "height": 35
        }
      },
      "source": [
        "len(interactions_filtered)"
      ],
      "execution_count": 0,
      "outputs": [
        {
          "output_type": "execute_result",
          "data": {
            "text/plain": [
              "7347630"
            ]
          },
          "metadata": {
            "tags": []
          },
          "execution_count": 56
        }
      ]
    },
    {
      "cell_type": "code",
      "metadata": {
        "id": "M2l0jSzBMx9y",
        "colab_type": "code",
        "colab": {}
      },
      "source": [
        "books_interactions_merged_data = pd.merge(books_filtered, interactions_filtered, on='book_id')"
      ],
      "execution_count": 0,
      "outputs": []
    },
    {
      "cell_type": "code",
      "metadata": {
        "id": "RPai0iEVGf3t",
        "colab_type": "code",
        "outputId": "237646fd-5377-4d44-af81-20ab3fb69a49",
        "colab": {
          "base_uri": "https://localhost:8080/",
          "height": 35
        }
      },
      "source": [
        "len(books_interactions_merged_data)"
      ],
      "execution_count": 0,
      "outputs": [
        {
          "output_type": "execute_result",
          "data": {
            "text/plain": [
              "7347630"
            ]
          },
          "metadata": {
            "tags": []
          },
          "execution_count": 58
        }
      ]
    },
    {
      "cell_type": "code",
      "metadata": {
        "id": "FCS9SIY-QGVo",
        "colab_type": "code",
        "colab": {}
      },
      "source": [
        "data_merged = pd.merge(books_interactions_merged_data, reviews_filtered, on='review_id', how='left')"
      ],
      "execution_count": 0,
      "outputs": []
    },
    {
      "cell_type": "code",
      "metadata": {
        "id": "9dG8WlV7QZ9I",
        "colab_type": "code",
        "outputId": "13bd372d-efe3-4e6b-bb05-74e0e684dfb5",
        "colab": {
          "base_uri": "https://localhost:8080/",
          "height": 1000
        }
      },
      "source": [
        "data_merged"
      ],
      "execution_count": 0,
      "outputs": [
        {
          "output_type": "execute_result",
          "data": {
            "text/html": [
              "<div>\n",
              "<style scoped>\n",
              "    .dataframe tbody tr th:only-of-type {\n",
              "        vertical-align: middle;\n",
              "    }\n",
              "\n",
              "    .dataframe tbody tr th {\n",
              "        vertical-align: top;\n",
              "    }\n",
              "\n",
              "    .dataframe thead th {\n",
              "        text-align: right;\n",
              "    }\n",
              "</style>\n",
              "<table border=\"1\" class=\"dataframe\">\n",
              "  <thead>\n",
              "    <tr style=\"text-align: right;\">\n",
              "      <th></th>\n",
              "      <th>text_reviews_count</th>\n",
              "      <th>country_code</th>\n",
              "      <th>language_code</th>\n",
              "      <th>popular_shelves</th>\n",
              "      <th>is_ebook</th>\n",
              "      <th>average_rating</th>\n",
              "      <th>description</th>\n",
              "      <th>authors</th>\n",
              "      <th>publication_year</th>\n",
              "      <th>book_id</th>\n",
              "      <th>ratings_count</th>\n",
              "      <th>title</th>\n",
              "      <th>title_without_series</th>\n",
              "      <th>user_id</th>\n",
              "      <th>review_id</th>\n",
              "      <th>is_read</th>\n",
              "      <th>rating</th>\n",
              "      <th>date_added</th>\n",
              "      <th>date_updated</th>\n",
              "      <th>read_at</th>\n",
              "      <th>started_at</th>\n",
              "      <th>review_text</th>\n",
              "      <th>n_votes</th>\n",
              "      <th>n_comments</th>\n",
              "    </tr>\n",
              "  </thead>\n",
              "  <tbody>\n",
              "    <tr>\n",
              "      <th>0</th>\n",
              "      <td>1</td>\n",
              "      <td>US</td>\n",
              "      <td></td>\n",
              "      <td>[{'count': '228', 'name': 'to-read'}, {'count'...</td>\n",
              "      <td>true</td>\n",
              "      <td>4.12</td>\n",
              "      <td>Lillian Ann Cross is forced to live the worst ...</td>\n",
              "      <td>[{'author_id': '8551671', 'role': ''}]</td>\n",
              "      <td></td>\n",
              "      <td>25742454</td>\n",
              "      <td>1</td>\n",
              "      <td>The Switchblade Mamma</td>\n",
              "      <td>The Switchblade Mamma</td>\n",
              "      <td>f1830550c10246b9924d03fbb7858a3b</td>\n",
              "      <td>cadab2ad2d162553b3b6b2a5884ec0ea</td>\n",
              "      <td>True</td>\n",
              "      <td>5</td>\n",
              "      <td>Wed Jun 15 16:38:58 -0700 2016</td>\n",
              "      <td>Wed Jun 15 16:38:59 -0700 2016</td>\n",
              "      <td>Wed Jun 15 16:38:59 -0700 2016</td>\n",
              "      <td></td>\n",
              "      <td>Raw and amazing \\n This book is unlike any oth...</td>\n",
              "      <td>0.0</td>\n",
              "      <td>0.0</td>\n",
              "    </tr>\n",
              "    <tr>\n",
              "      <th>1</th>\n",
              "      <td>2</td>\n",
              "      <td>US</td>\n",
              "      <td>fre</td>\n",
              "      <td>[{'count': '2', 'name': 'bd'}, {'count': '2', ...</td>\n",
              "      <td>false</td>\n",
              "      <td>3.94</td>\n",
              "      <td>Florence Dupre Latour raconte comment, de son ...</td>\n",
              "      <td>[{'author_id': '3274315', 'role': ''}]</td>\n",
              "      <td>2016</td>\n",
              "      <td>30128855</td>\n",
              "      <td>16</td>\n",
              "      <td>Cruelle</td>\n",
              "      <td>Cruelle</td>\n",
              "      <td>12c0f4c16b6cad9f595fc99f3dcb49d4</td>\n",
              "      <td>60158dd333055f54053506e590cc1291</td>\n",
              "      <td>True</td>\n",
              "      <td>4</td>\n",
              "      <td>Mon May 09 05:03:09 -0700 2016</td>\n",
              "      <td>Tue May 10 07:07:51 -0700 2016</td>\n",
              "      <td>Mon May 09 00:00:00 -0700 2016</td>\n",
              "      <td></td>\n",
              "      <td>NaN</td>\n",
              "      <td>NaN</td>\n",
              "      <td>NaN</td>\n",
              "    </tr>\n",
              "    <tr>\n",
              "      <th>2</th>\n",
              "      <td>2</td>\n",
              "      <td>US</td>\n",
              "      <td>fre</td>\n",
              "      <td>[{'count': '2', 'name': 'bd'}, {'count': '2', ...</td>\n",
              "      <td>false</td>\n",
              "      <td>3.94</td>\n",
              "      <td>Florence Dupre Latour raconte comment, de son ...</td>\n",
              "      <td>[{'author_id': '3274315', 'role': ''}]</td>\n",
              "      <td>2016</td>\n",
              "      <td>30128855</td>\n",
              "      <td>16</td>\n",
              "      <td>Cruelle</td>\n",
              "      <td>Cruelle</td>\n",
              "      <td>bdd5da2d7c778880e20573efd4df888a</td>\n",
              "      <td>a4b605858b28feff2cb14018839950d1</td>\n",
              "      <td>True</td>\n",
              "      <td>5</td>\n",
              "      <td>Sat Jan 21 07:18:46 -0800 2017</td>\n",
              "      <td>Sun Feb 05 06:35:09 -0800 2017</td>\n",
              "      <td>Sun Feb 05 06:35:09 -0800 2017</td>\n",
              "      <td>Sat Jan 21 00:00:00 -0800 2017</td>\n",
              "      <td>NaN</td>\n",
              "      <td>NaN</td>\n",
              "      <td>NaN</td>\n",
              "    </tr>\n",
              "    <tr>\n",
              "      <th>3</th>\n",
              "      <td>2</td>\n",
              "      <td>US</td>\n",
              "      <td>fre</td>\n",
              "      <td>[{'count': '2', 'name': 'bd'}, {'count': '2', ...</td>\n",
              "      <td>false</td>\n",
              "      <td>3.94</td>\n",
              "      <td>Florence Dupre Latour raconte comment, de son ...</td>\n",
              "      <td>[{'author_id': '3274315', 'role': ''}]</td>\n",
              "      <td>2016</td>\n",
              "      <td>30128855</td>\n",
              "      <td>16</td>\n",
              "      <td>Cruelle</td>\n",
              "      <td>Cruelle</td>\n",
              "      <td>15b0c6dbe18c5e493b39aaa30cb6d2b8</td>\n",
              "      <td>111f1d4941d77877558c4a4ffff87239</td>\n",
              "      <td>False</td>\n",
              "      <td>0</td>\n",
              "      <td>Mon Apr 24 08:28:14 -0700 2017</td>\n",
              "      <td>Mon Apr 24 08:28:20 -0700 2017</td>\n",
              "      <td></td>\n",
              "      <td></td>\n",
              "      <td>NaN</td>\n",
              "      <td>NaN</td>\n",
              "      <td>NaN</td>\n",
              "    </tr>\n",
              "    <tr>\n",
              "      <th>4</th>\n",
              "      <td>2</td>\n",
              "      <td>US</td>\n",
              "      <td>fre</td>\n",
              "      <td>[{'count': '2', 'name': 'bd'}, {'count': '2', ...</td>\n",
              "      <td>false</td>\n",
              "      <td>3.94</td>\n",
              "      <td>Florence Dupre Latour raconte comment, de son ...</td>\n",
              "      <td>[{'author_id': '3274315', 'role': ''}]</td>\n",
              "      <td>2016</td>\n",
              "      <td>30128855</td>\n",
              "      <td>16</td>\n",
              "      <td>Cruelle</td>\n",
              "      <td>Cruelle</td>\n",
              "      <td>dc9f898ef44e9d38d8eb92a7bde1341d</td>\n",
              "      <td>831e2005e78a56b1f90b26877eeea1f3</td>\n",
              "      <td>True</td>\n",
              "      <td>2</td>\n",
              "      <td>Sun Aug 28 16:15:38 -0700 2016</td>\n",
              "      <td>Thu Sep 08 16:51:22 -0700 2016</td>\n",
              "      <td>Thu Sep 08 16:51:22 -0700 2016</td>\n",
              "      <td></td>\n",
              "      <td>NaN</td>\n",
              "      <td>NaN</td>\n",
              "      <td>NaN</td>\n",
              "    </tr>\n",
              "    <tr>\n",
              "      <th>...</th>\n",
              "      <td>...</td>\n",
              "      <td>...</td>\n",
              "      <td>...</td>\n",
              "      <td>...</td>\n",
              "      <td>...</td>\n",
              "      <td>...</td>\n",
              "      <td>...</td>\n",
              "      <td>...</td>\n",
              "      <td>...</td>\n",
              "      <td>...</td>\n",
              "      <td>...</td>\n",
              "      <td>...</td>\n",
              "      <td>...</td>\n",
              "      <td>...</td>\n",
              "      <td>...</td>\n",
              "      <td>...</td>\n",
              "      <td>...</td>\n",
              "      <td>...</td>\n",
              "      <td>...</td>\n",
              "      <td>...</td>\n",
              "      <td>...</td>\n",
              "      <td>...</td>\n",
              "      <td>...</td>\n",
              "      <td>...</td>\n",
              "    </tr>\n",
              "    <tr>\n",
              "      <th>7347625</th>\n",
              "      <td>4</td>\n",
              "      <td>US</td>\n",
              "      <td>eng</td>\n",
              "      <td>[{'count': '604', 'name': 'to-read'}, {'count'...</td>\n",
              "      <td>true</td>\n",
              "      <td>4.24</td>\n",
              "      <td>In the city that never sleeps, spirits are equ...</td>\n",
              "      <td>[{'author_id': '7741497', 'role': ''}, {'autho...</td>\n",
              "      <td>2014</td>\n",
              "      <td>23363286</td>\n",
              "      <td>15</td>\n",
              "      <td>Dead Endings</td>\n",
              "      <td>Dead Endings</td>\n",
              "      <td>40cad038063319b661615c26cb2b3c18</td>\n",
              "      <td>351e74e7b4ff8f5633816fdcde6a6e9b</td>\n",
              "      <td>False</td>\n",
              "      <td>0</td>\n",
              "      <td>Fri Sep 01 08:13:26 -0700 2017</td>\n",
              "      <td>Fri Sep 01 08:13:26 -0700 2017</td>\n",
              "      <td></td>\n",
              "      <td></td>\n",
              "      <td>NaN</td>\n",
              "      <td>NaN</td>\n",
              "      <td>NaN</td>\n",
              "    </tr>\n",
              "    <tr>\n",
              "      <th>7347626</th>\n",
              "      <td>4</td>\n",
              "      <td>US</td>\n",
              "      <td>eng</td>\n",
              "      <td>[{'count': '604', 'name': 'to-read'}, {'count'...</td>\n",
              "      <td>true</td>\n",
              "      <td>4.24</td>\n",
              "      <td>In the city that never sleeps, spirits are equ...</td>\n",
              "      <td>[{'author_id': '7741497', 'role': ''}, {'autho...</td>\n",
              "      <td>2014</td>\n",
              "      <td>23363286</td>\n",
              "      <td>15</td>\n",
              "      <td>Dead Endings</td>\n",
              "      <td>Dead Endings</td>\n",
              "      <td>8bcf48afa72aba125b53749c2e7c9ad4</td>\n",
              "      <td>942e7e8b5940a38ba043e58f4b2cf5e5</td>\n",
              "      <td>False</td>\n",
              "      <td>0</td>\n",
              "      <td>Fri Oct 24 20:50:34 -0700 2014</td>\n",
              "      <td>Fri Oct 24 20:50:34 -0700 2014</td>\n",
              "      <td></td>\n",
              "      <td></td>\n",
              "      <td>NaN</td>\n",
              "      <td>NaN</td>\n",
              "      <td>NaN</td>\n",
              "    </tr>\n",
              "    <tr>\n",
              "      <th>7347627</th>\n",
              "      <td>4</td>\n",
              "      <td>US</td>\n",
              "      <td>eng</td>\n",
              "      <td>[{'count': '604', 'name': 'to-read'}, {'count'...</td>\n",
              "      <td>true</td>\n",
              "      <td>4.24</td>\n",
              "      <td>In the city that never sleeps, spirits are equ...</td>\n",
              "      <td>[{'author_id': '7741497', 'role': ''}, {'autho...</td>\n",
              "      <td>2014</td>\n",
              "      <td>23363286</td>\n",
              "      <td>15</td>\n",
              "      <td>Dead Endings</td>\n",
              "      <td>Dead Endings</td>\n",
              "      <td>699b0a72e1e07abc5a6d2736b109928f</td>\n",
              "      <td>68c2c4206e6e51ba949bd6565ff8b236</td>\n",
              "      <td>False</td>\n",
              "      <td>0</td>\n",
              "      <td>Tue Nov 11 19:52:22 -0800 2014</td>\n",
              "      <td>Tue Nov 11 19:52:23 -0800 2014</td>\n",
              "      <td></td>\n",
              "      <td></td>\n",
              "      <td>NaN</td>\n",
              "      <td>NaN</td>\n",
              "      <td>NaN</td>\n",
              "    </tr>\n",
              "    <tr>\n",
              "      <th>7347628</th>\n",
              "      <td>4</td>\n",
              "      <td>US</td>\n",
              "      <td>eng</td>\n",
              "      <td>[{'count': '604', 'name': 'to-read'}, {'count'...</td>\n",
              "      <td>true</td>\n",
              "      <td>4.24</td>\n",
              "      <td>In the city that never sleeps, spirits are equ...</td>\n",
              "      <td>[{'author_id': '7741497', 'role': ''}, {'autho...</td>\n",
              "      <td>2014</td>\n",
              "      <td>23363286</td>\n",
              "      <td>15</td>\n",
              "      <td>Dead Endings</td>\n",
              "      <td>Dead Endings</td>\n",
              "      <td>262b53abd0d2da2e8d02c362fdeaf4f5</td>\n",
              "      <td>8832a503b572ddf880416150c3e7cdfe</td>\n",
              "      <td>False</td>\n",
              "      <td>0</td>\n",
              "      <td>Wed Apr 01 07:43:41 -0700 2015</td>\n",
              "      <td>Wed Apr 01 07:43:43 -0700 2015</td>\n",
              "      <td></td>\n",
              "      <td></td>\n",
              "      <td>NaN</td>\n",
              "      <td>NaN</td>\n",
              "      <td>NaN</td>\n",
              "    </tr>\n",
              "    <tr>\n",
              "      <th>7347629</th>\n",
              "      <td>4</td>\n",
              "      <td>US</td>\n",
              "      <td>eng</td>\n",
              "      <td>[{'count': '604', 'name': 'to-read'}, {'count'...</td>\n",
              "      <td>true</td>\n",
              "      <td>4.24</td>\n",
              "      <td>In the city that never sleeps, spirits are equ...</td>\n",
              "      <td>[{'author_id': '7741497', 'role': ''}, {'autho...</td>\n",
              "      <td>2014</td>\n",
              "      <td>23363286</td>\n",
              "      <td>15</td>\n",
              "      <td>Dead Endings</td>\n",
              "      <td>Dead Endings</td>\n",
              "      <td>5fa1e552e5aeb58c6d97614c51bfb1d4</td>\n",
              "      <td>fdf8cfba6a1620ccbf24af40ceb33efb</td>\n",
              "      <td>False</td>\n",
              "      <td>0</td>\n",
              "      <td>Mon Sep 14 02:26:36 -0700 2015</td>\n",
              "      <td>Mon Sep 14 02:26:37 -0700 2015</td>\n",
              "      <td></td>\n",
              "      <td></td>\n",
              "      <td>NaN</td>\n",
              "      <td>NaN</td>\n",
              "      <td>NaN</td>\n",
              "    </tr>\n",
              "  </tbody>\n",
              "</table>\n",
              "<p>7347630 rows × 24 columns</p>\n",
              "</div>"
            ],
            "text/plain": [
              "         text_reviews_count country_code  ... n_votes n_comments\n",
              "0                         1           US  ...     0.0        0.0\n",
              "1                         2           US  ...     NaN        NaN\n",
              "2                         2           US  ...     NaN        NaN\n",
              "3                         2           US  ...     NaN        NaN\n",
              "4                         2           US  ...     NaN        NaN\n",
              "...                     ...          ...  ...     ...        ...\n",
              "7347625                   4           US  ...     NaN        NaN\n",
              "7347626                   4           US  ...     NaN        NaN\n",
              "7347627                   4           US  ...     NaN        NaN\n",
              "7347628                   4           US  ...     NaN        NaN\n",
              "7347629                   4           US  ...     NaN        NaN\n",
              "\n",
              "[7347630 rows x 24 columns]"
            ]
          },
          "metadata": {
            "tags": []
          },
          "execution_count": 60
        }
      ]
    },
    {
      "cell_type": "code",
      "metadata": {
        "id": "9OfPM1HnGnGM",
        "colab_type": "code",
        "outputId": "322f4faa-9c0b-4cdf-f607-b48d1bf959ed",
        "colab": {
          "base_uri": "https://localhost:8080/",
          "height": 35
        }
      },
      "source": [
        "len(data_merged)"
      ],
      "execution_count": 0,
      "outputs": [
        {
          "output_type": "execute_result",
          "data": {
            "text/plain": [
              "7347630"
            ]
          },
          "metadata": {
            "tags": []
          },
          "execution_count": 61
        }
      ]
    },
    {
      "cell_type": "code",
      "metadata": {
        "id": "S6B3_DQpQl-Z",
        "colab_type": "code",
        "outputId": "836756c0-a1fd-445e-c29b-5b3098e0f850",
        "colab": {
          "base_uri": "https://localhost:8080/",
          "height": 520
        }
      },
      "source": [
        "data_merged.info()"
      ],
      "execution_count": 0,
      "outputs": [
        {
          "output_type": "stream",
          "text": [
            "<class 'pandas.core.frame.DataFrame'>\n",
            "Int64Index: 7347630 entries, 0 to 7347629\n",
            "Data columns (total 24 columns):\n",
            "text_reviews_count      int64\n",
            "country_code            object\n",
            "language_code           object\n",
            "popular_shelves         object\n",
            "is_ebook                object\n",
            "average_rating          float64\n",
            "description             object\n",
            "authors                 object\n",
            "publication_year        object\n",
            "book_id                 int64\n",
            "ratings_count           int64\n",
            "title                   object\n",
            "title_without_series    object\n",
            "user_id                 object\n",
            "review_id               object\n",
            "is_read                 bool\n",
            "rating                  int64\n",
            "date_added              object\n",
            "date_updated            object\n",
            "read_at                 object\n",
            "started_at              object\n",
            "review_text             object\n",
            "n_votes                 float64\n",
            "n_comments              float64\n",
            "dtypes: bool(1), float64(3), int64(4), object(16)\n",
            "memory usage: 1.3+ GB\n"
          ],
          "name": "stdout"
        }
      ]
    },
    {
      "cell_type": "code",
      "metadata": {
        "id": "AgZ0D6n-PHYx",
        "colab_type": "code",
        "outputId": "9668001b-2503-470a-b9d9-38a8083146e4",
        "colab": {
          "base_uri": "https://localhost:8080/",
          "height": 451
        }
      },
      "source": [
        "data_merged.isnull().sum()"
      ],
      "execution_count": 0,
      "outputs": [
        {
          "output_type": "execute_result",
          "data": {
            "text/plain": [
              "text_reviews_count            0\n",
              "country_code                  0\n",
              "language_code                 0\n",
              "popular_shelves               0\n",
              "is_ebook                      0\n",
              "average_rating                0\n",
              "description                   0\n",
              "authors                       0\n",
              "publication_year              0\n",
              "book_id                       0\n",
              "ratings_count                 0\n",
              "title                         0\n",
              "title_without_series          0\n",
              "user_id                       0\n",
              "review_id                     0\n",
              "is_read                       0\n",
              "rating                        0\n",
              "date_added                    0\n",
              "date_updated                  0\n",
              "read_at                       0\n",
              "started_at                    0\n",
              "review_text             6805292\n",
              "n_votes                 6805292\n",
              "n_comments              6805292\n",
              "dtype: int64"
            ]
          },
          "metadata": {
            "tags": []
          },
          "execution_count": 63
        }
      ]
    },
    {
      "cell_type": "code",
      "metadata": {
        "id": "NfyUKfGUY2qd",
        "colab_type": "code",
        "colab": {}
      },
      "source": [
        "#data_merged.to_csv('merged_data.csv',index=False)"
      ],
      "execution_count": 0,
      "outputs": []
    },
    {
      "cell_type": "code",
      "metadata": {
        "id": "McYfqBrCday0",
        "colab_type": "code",
        "colab": {}
      },
      "source": [
        "#data_merged['authors'][0][0]"
      ],
      "execution_count": 0,
      "outputs": []
    },
    {
      "cell_type": "code",
      "metadata": {
        "id": "vRVSHalob5Ho",
        "colab_type": "code",
        "colab": {}
      },
      "source": [
        "authors=data_merged['authors']"
      ],
      "execution_count": 0,
      "outputs": []
    },
    {
      "cell_type": "code",
      "metadata": {
        "id": "3giFkkNEfJpF",
        "colab_type": "code",
        "outputId": "6d22156f-199e-43ea-a473-f64c1218b295",
        "colab": {
          "base_uri": "https://localhost:8080/",
          "height": 225
        }
      },
      "source": [
        "print(authors.head(100))"
      ],
      "execution_count": 0,
      "outputs": [
        {
          "output_type": "stream",
          "text": [
            "0                [{'author_id': '8551671', 'role': ''}]\n",
            "1                [{'author_id': '3274315', 'role': ''}]\n",
            "2                [{'author_id': '3274315', 'role': ''}]\n",
            "3                [{'author_id': '3274315', 'role': ''}]\n",
            "4                [{'author_id': '3274315', 'role': ''}]\n",
            "                            ...                        \n",
            "95    [{'author_id': '14155472', 'role': ''}, {'auth...\n",
            "96    [{'author_id': '14155472', 'role': ''}, {'auth...\n",
            "97    [{'author_id': '14155472', 'role': ''}, {'auth...\n",
            "98    [{'author_id': '14155472', 'role': ''}, {'auth...\n",
            "99    [{'author_id': '14155472', 'role': ''}, {'auth...\n",
            "Name: authors, Length: 100, dtype: object\n"
          ],
          "name": "stdout"
        }
      ]
    },
    {
      "cell_type": "code",
      "metadata": {
        "id": "GM_cCEkQg_YH",
        "colab_type": "code",
        "outputId": "ea7aa96b-e501-4fe0-994a-442ba57d8865",
        "colab": {
          "base_uri": "https://localhost:8080/",
          "height": 121
        }
      },
      "source": [
        "authors.tail()"
      ],
      "execution_count": 0,
      "outputs": [
        {
          "output_type": "execute_result",
          "data": {
            "text/plain": [
              "7347625    [{'author_id': '7741497', 'role': ''}, {'autho...\n",
              "7347626    [{'author_id': '7741497', 'role': ''}, {'autho...\n",
              "7347627    [{'author_id': '7741497', 'role': ''}, {'autho...\n",
              "7347628    [{'author_id': '7741497', 'role': ''}, {'autho...\n",
              "7347629    [{'author_id': '7741497', 'role': ''}, {'autho...\n",
              "Name: authors, dtype: object"
            ]
          },
          "metadata": {
            "tags": []
          },
          "execution_count": 49
        }
      ]
    },
    {
      "cell_type": "code",
      "metadata": {
        "id": "2pgrewtpfQGg",
        "colab_type": "code",
        "colab": {}
      },
      "source": [
        "authors2=[]\n",
        "for i in authors:\n",
        "    author=[]\n",
        "    for j in i:\n",
        "      author.append(j['author_id'])\n",
        "    #print(author)\n",
        "    authors2.append(author)   "
      ],
      "execution_count": 0,
      "outputs": []
    },
    {
      "cell_type": "code",
      "metadata": {
        "id": "ma84-Et7G4gM",
        "colab_type": "code",
        "colab": {}
      },
      "source": [
        "#authors2"
      ],
      "execution_count": 0,
      "outputs": []
    },
    {
      "cell_type": "code",
      "metadata": {
        "id": "-DYkp9EgIBC0",
        "colab_type": "code",
        "colab": {}
      },
      "source": [
        "#authorID = pd.DataFrame(authors2) "
      ],
      "execution_count": 0,
      "outputs": []
    },
    {
      "cell_type": "code",
      "metadata": {
        "id": "5k-Y__C2ISb0",
        "colab_type": "code",
        "colab": {}
      },
      "source": [
        "#authorID.head()"
      ],
      "execution_count": 0,
      "outputs": []
    },
    {
      "cell_type": "code",
      "metadata": {
        "id": "1rM36UZ8i5bh",
        "colab_type": "code",
        "colab": {}
      },
      "source": [
        "data_merged2=data_merged"
      ],
      "execution_count": 0,
      "outputs": []
    },
    {
      "cell_type": "code",
      "metadata": {
        "id": "NXvogy_hlIIP",
        "colab_type": "code",
        "colab": {}
      },
      "source": [
        "data_merged2['authorid'] = authors2"
      ],
      "execution_count": 0,
      "outputs": []
    },
    {
      "cell_type": "code",
      "metadata": {
        "id": "aIkGtJ2HlbK3",
        "colab_type": "code",
        "colab": {}
      },
      "source": [
        "data_800 = data_merged2.head(800)"
      ],
      "execution_count": 0,
      "outputs": []
    },
    {
      "cell_type": "code",
      "metadata": {
        "id": "mqDg-dU13N_K",
        "colab_type": "code",
        "outputId": "6396b6c5-a7e6-477a-cb8b-1dc603da054a",
        "colab": {
          "base_uri": "https://localhost:8080/",
          "height": 381
        }
      },
      "source": [
        "groups = data_800.groupby(['book_id','text_reviews_count']).size()\n",
        "groups.plot.bar(y = 'reviews_count', title = 'Number of reviews per book')"
      ],
      "execution_count": 0,
      "outputs": [
        {
          "output_type": "execute_result",
          "data": {
            "text/plain": [
              "<matplotlib.axes._subplots.AxesSubplot at 0x7f7bac0d9780>"
            ]
          },
          "metadata": {
            "tags": []
          },
          "execution_count": 70
        },
        {
          "output_type": "display_data",
          "data": {
            "image/png": "[encoded data removed]",
            "text/plain": [
              "<Figure size 432x288 with 1 Axes>"
            ]
          },
          "metadata": {
            "tags": []
          }
        }
      ]
    },
    {
      "cell_type": "code",
      "metadata": {
        "id": "qWQRUOXapYsZ",
        "colab_type": "code",
        "outputId": "f46b0748-bef2-4fbd-aedd-97d7e05f222e",
        "colab": {
          "base_uri": "https://localhost:8080/",
          "height": 243
        }
      },
      "source": [
        "pip uninstall matplotlib"
      ],
      "execution_count": 0,
      "outputs": [
        {
          "output_type": "stream",
          "text": [
            "Uninstalling matplotlib-3.1.1:\n",
            "  Would remove:\n",
            "    /usr/local/lib/python3.6/dist-packages/matplotlib-3.1.1-py3.6-nspkg.pth\n",
            "    /usr/local/lib/python3.6/dist-packages/matplotlib-3.1.1.dist-info/*\n",
            "    /usr/local/lib/python3.6/dist-packages/matplotlib/*\n",
            "    /usr/local/lib/python3.6/dist-packages/mpl_toolkits/axes_grid/*\n",
            "    /usr/local/lib/python3.6/dist-packages/mpl_toolkits/axes_grid1/*\n",
            "    /usr/local/lib/python3.6/dist-packages/mpl_toolkits/axisartist/*\n",
            "    /usr/local/lib/python3.6/dist-packages/mpl_toolkits/mplot3d/*\n",
            "    /usr/local/lib/python3.6/dist-packages/mpl_toolkits/tests/*\n",
            "    /usr/local/lib/python3.6/dist-packages/pylab.py\n",
            "Proceed (y/n)? y\n",
            "  Successfully uninstalled matplotlib-3.1.1\n"
          ],
          "name": "stdout"
        }
      ]
    },
    {
      "cell_type": "markdown",
      "metadata": {
        "id": "z5sIsb5TlnQ0",
        "colab_type": "text"
      },
      "source": [
        ""
      ]
    },
    {
      "cell_type": "code",
      "metadata": {
        "id": "p0PfZVNKqCRg",
        "colab_type": "code",
        "outputId": "0b942116-6b7a-4b5d-b30c-9831ca701bc3",
        "colab": {
          "base_uri": "https://localhost:8080/",
          "height": 350
        }
      },
      "source": [
        "!pip install matplotlib==3.1.0"
      ],
      "execution_count": 0,
      "outputs": [
        {
          "output_type": "stream",
          "text": [
            "Collecting matplotlib==3.1.0\n",
            "\u001b[?25l  Downloading https://files.pythonhosted.org/packages/da/83/d989ee20c78117c737ab40e0318ea221f1aed4e3f5a40b4f93541b369b93/matplotlib-3.1.0-cp36-cp36m-manylinux1_x86_64.whl (13.1MB)\n",
            "\u001b[K     |████████████████████████████████| 13.1MB 2.8MB/s \n",
            "\u001b[?25hRequirement already satisfied: numpy>=1.11 in /usr/local/lib/python3.6/dist-packages (from matplotlib==3.1.0) (1.17.4)\n",
            "Requirement already satisfied: pyparsing!=2.0.4,!=2.1.2,!=2.1.6,>=2.0.1 in /usr/local/lib/python3.6/dist-packages (from matplotlib==3.1.0) (2.4.5)\n",
            "Requirement already satisfied: python-dateutil>=2.1 in /usr/local/lib/python3.6/dist-packages (from matplotlib==3.1.0) (2.6.1)\n",
            "Requirement already satisfied: cycler>=0.10 in /usr/local/lib/python3.6/dist-packages (from matplotlib==3.1.0) (0.10.0)\n",
            "Requirement already satisfied: kiwisolver>=1.0.1 in /usr/local/lib/python3.6/dist-packages (from matplotlib==3.1.0) (1.1.0)\n",
            "Requirement already satisfied: six>=1.5 in /usr/local/lib/python3.6/dist-packages (from python-dateutil>=2.1->matplotlib==3.1.0) (1.12.0)\n",
            "Requirement already satisfied: setuptools in /usr/local/lib/python3.6/dist-packages (from kiwisolver>=1.0.1->matplotlib==3.1.0) (41.6.0)\n",
            "\u001b[31mERROR: albumentations 0.1.12 has requirement imgaug<0.2.7,>=0.2.5, but you'll have imgaug 0.2.9 which is incompatible.\u001b[0m\n",
            "Installing collected packages: matplotlib\n",
            "Successfully installed matplotlib-3.1.0\n"
          ],
          "name": "stdout"
        },
        {
          "output_type": "display_data",
          "data": {
            "application/vnd.colab-display-data+json": {
              "pip_warning": {
                "packages": [
                  "matplotlib",
                  "mpl_toolkits"
                ]
              }
            }
          },
          "metadata": {
            "tags": []
          }
        }
      ]
    },
    {
      "cell_type": "code",
      "metadata": {
        "id": "Pu4OulBtlncT",
        "colab_type": "code",
        "colab": {}
      },
      "source": [
        "import matplotlib as mpl\n",
        "import matplotlib.pyplot as plt\n",
        "import matplotlib.pylab as pylab\n",
        "import seaborn as sns"
      ],
      "execution_count": 0,
      "outputs": []
    },
    {
      "cell_type": "code",
      "metadata": {
        "id": "YoOxfh1LlscO",
        "colab_type": "code",
        "colab": {}
      },
      "source": [
        "def plot_correlation_map( df ):\n",
        "    corr = data_merged2.corr()\n",
        "    _ , ax = plt.subplots( figsize =( 12 , 10 ) )\n",
        "    cmap = sns.diverging_palette( 220 , 10 , as_cmap = True )\n",
        "    _ = sns.heatmap(\n",
        "        corr, \n",
        "        cmap = cmap,\n",
        "        square=True, \n",
        "        cbar_kws={ 'shrink' : .9 }, \n",
        "        ax=ax, \n",
        "        annot = True, \n",
        "        annot_kws = { 'fontsize' : 12 }\n",
        "    )"
      ],
      "execution_count": 0,
      "outputs": []
    },
    {
      "cell_type": "code",
      "metadata": {
        "id": "unjg_fL5lyhh",
        "colab_type": "code",
        "outputId": "3772ef0f-5c52-4dbe-ac09-1a10cadfcc07",
        "colab": {
          "base_uri": "https://localhost:8080/",
          "height": 617
        }
      },
      "source": [
        "plot_correlation_map(data_merged2)\n",
        "plt.savefig('corr_map.png')"
      ],
      "execution_count": 0,
      "outputs": [
        {
          "output_type": "display_data",
          "data": {
            "image/png": "[encoded data removed]",
            "text/plain": [
              "<Figure size 864x720 with 2 Axes>"
            ]
          },
          "metadata": {
            "tags": []
          }
        }
      ]
    },
    {
      "cell_type": "code",
      "metadata": {
        "id": "Cf2vlA22QuHf",
        "colab_type": "code",
        "outputId": "362be97b-2677-4507-ee6a-52c4812683ce",
        "colab": {
          "base_uri": "https://localhost:8080/",
          "height": 35
        }
      },
      "source": [
        "len(data_merged2)"
      ],
      "execution_count": 0,
      "outputs": [
        {
          "output_type": "execute_result",
          "data": {
            "text/plain": [
              "7347630"
            ]
          },
          "metadata": {
            "tags": []
          },
          "execution_count": 55
        }
      ]
    },
    {
      "cell_type": "code",
      "metadata": {
        "id": "Axg5RSv9rNXR",
        "colab_type": "code",
        "colab": {}
      },
      "source": [
        "data_merged2.to_csv('/content/drive/Shared drives/Project_256/Complete_Data.gz', compression='gzip')"
      ],
      "execution_count": 0,
      "outputs": []
    }
  ]
}